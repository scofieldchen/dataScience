{
 "cells": [
  {
   "cell_type": "markdown",
   "metadata": {},
   "source": [
    "## 直方图\n",
    "\n",
    "直方图(histogram)的x轴是数据的组距，y轴是数据的计数，通常用于探索数值型变量的分布，例如是单峰还是双峰，是否接近钟型分布，数据呈左偏还是右偏分布等。\n",
    "\n",
    "与直方图密切相关的概念是密度图。\n",
    "\n",
    "密度图(density plot)用一条连续的曲线表示分布，相当于直方图的平滑版本，两者的区别在于y轴，直方图的y轴是频数，密度图的y轴是核密度估计量(kernel density estimation)，类似于数据的比例。"
   ]
  },
  {
   "cell_type": "code",
   "execution_count": 1,
   "metadata": {},
   "outputs": [],
   "source": [
    "import numpy as np\n",
    "import matplotlib.pyplot as plt\n",
    "\n",
    "%matplotlib inline\n",
    "plt.style.use(\"ggplot\")"
   ]
  },
  {
   "cell_type": "code",
   "execution_count": 11,
   "metadata": {},
   "outputs": [
    {
     "data": {
      "text/plain": [
       "(array([  1.,   0.,   0.,   0.,   0.,   2.,   5.,   5.,   7.,  19.,  24.,\n",
       "         41.,  66.,  60.,  81.,  79.,  99., 104.,  87.,  84.,  61.,  42.,\n",
       "         41.,  21.,  29.,  21.,  11.,   4.,   3.,   3.]),\n",
       " array([-3.99719765, -3.7660863 , -3.53497495, -3.30386361, -3.07275226,\n",
       "        -2.84164091, -2.61052956, -2.37941822, -2.14830687, -1.91719552,\n",
       "        -1.68608418, -1.45497283, -1.22386148, -0.99275013, -0.76163879,\n",
       "        -0.53052744, -0.29941609, -0.06830475,  0.1628066 ,  0.39391795,\n",
       "         0.6250293 ,  0.85614064,  1.08725199,  1.31836334,  1.54947468,\n",
       "         1.78058603,  2.01169738,  2.24280873,  2.47392007,  2.70503142,\n",
       "         2.93614277]),\n",
       " <a list of 1 Patch objects>)"
      ]
     },
     "execution_count": 11,
     "metadata": {},
     "output_type": "execute_result"
    },
    {
     "data": {
      "image/png": "[encoded data removed]",
      "text/plain": [
       "<Figure size 432x288 with 1 Axes>"
      ]
     },
     "metadata": {
      "needs_background": "light"
     },
     "output_type": "display_data"
    }
   ],
   "source": [
    "x = np.random.randn(1000)\n",
    "\n",
    "plt.hist(\n",
    "    x=x,\n",
    "    bins=30,  # 组距的数量\n",
    "    density=False,  # y轴是否展示密度\n",
    "    alpha=0.5,  # 颜色深浅，或透明度\n",
    "    histtype=\"stepfilled\",\n",
    "    color=\"blue\"\n",
    ")"
   ]
  },
  {
   "cell_type": "markdown",
   "metadata": {},
   "source": [
    "比较多个变量的分布"
   ]
  },
  {
   "cell_type": "code",
   "execution_count": 13,
   "metadata": {},
   "outputs": [
    {
     "data": {
      "text/plain": [
       "(array([0.00285488, 0.00285488, 0.        , 0.00570975, 0.00856463,\n",
       "        0.01141951, 0.01712926, 0.02854877, 0.02283902, 0.03140365,\n",
       "        0.04282316, 0.07137193, 0.07137193, 0.10277557, 0.11990484,\n",
       "        0.19413164, 0.16272799, 0.14274385, 0.19413164, 0.16843774,\n",
       "        0.20269627, 0.19984139, 0.1741475 , 0.18842188, 0.15701824,\n",
       "        0.11990484, 0.08850119, 0.10563045, 0.07137193, 0.03425852,\n",
       "        0.04567803, 0.02854877, 0.01427439, 0.01712926, 0.00285488,\n",
       "        0.        , 0.        , 0.        , 0.        , 0.00285488]),\n",
       " array([-3.95228181, -3.60200403, -3.25172624, -2.90144846, -2.55117067,\n",
       "        -2.20089289, -1.8506151 , -1.50033732, -1.15005954, -0.79978175,\n",
       "        -0.44950397, -0.09922618,  0.2510516 ,  0.60132939,  0.95160717,\n",
       "         1.30188496,  1.65216274,  2.00244052,  2.35271831,  2.70299609,\n",
       "         3.05327388,  3.40355166,  3.75382945,  4.10410723,  4.45438502,\n",
       "         4.8046628 ,  5.15494058,  5.50521837,  5.85549615,  6.20577394,\n",
       "         6.55605172,  6.90632951,  7.25660729,  7.60688507,  7.95716286,\n",
       "         8.30744064,  8.65771843,  9.00799621,  9.358274  ,  9.70855178,\n",
       "        10.05882957]),\n",
       " <a list of 1 Patch objects>)"
      ]
     },
     "execution_count": 13,
     "metadata": {},
     "output_type": "execute_result"
    },
    {
     "data": {
      "image/png": "[encoded data removed]",
      "text/plain": [
       "<Figure size 432x288 with 1 Axes>"
      ]
     },
     "metadata": {
      "needs_background": "light"
     },
     "output_type": "display_data"
    }
   ],
   "source": [
    "x1 = np.random.normal(0, 0.8, 1000)\n",
    "x2 = np.random.normal(-2, 1, 1000)\n",
    "x3 = np.random.normal(3, 2, 1000)\n",
    "\n",
    "kwargs = dict(histtype='stepfilled', alpha=0.3, density=True, bins=40)\n",
    "\n",
    "plt.hist(x1, **kwargs)\n",
    "plt.hist(x2, **kwargs)\n",
    "plt.hist(x3, **kwargs)"
   ]
  },
  {
   "cell_type": "code",
   "execution_count": null,
   "metadata": {},
   "outputs": [],
   "source": []
  }
 ],
 "metadata": {
  "kernelspec": {
   "display_name": "Python 3",
   "language": "python",
   "name": "python3"
  },
  "language_info": {
   "codemirror_mode": {
    "name": "ipython",
    "version": 3
   },
   "file_extension": ".py",
   "mimetype": "text/x-python",
   "name": "python",
   "nbconvert_exporter": "python",
   "pygments_lexer": "ipython3",
   "version": "3.7.3"
  }
 },
 "nbformat": 4,
 "nbformat_minor": 4
}

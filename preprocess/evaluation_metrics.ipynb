{
 "cells": [
  {
   "cell_type": "markdown",
   "metadata": {},
   "source": [
    "## 1. 评估模型的预测能力\n",
    "\n",
    "机器学习主要用于预测，评估模型表现至关重要，预测模型分为四类，分别对应不同的验证指标：\n",
    "\n",
    "1. 分类模型\n",
    "2. 回归模型\n",
    "3. 聚类模型\n",
    "4. 时间序列模型"
   ]
  },
  {
   "cell_type": "markdown",
   "metadata": {},
   "source": [
    "## 2. 分类模型"
   ]
  },
  {
   "cell_type": "markdown",
   "metadata": {},
   "source": [
    "### 2.1 混淆矩阵\n",
    "\n",
    "混淆矩阵(confusion matrix)是展现分类器预测结果的表格，目标变量按不同分类将正确预测和错误预测的个数进行汇总。\n",
    "\n",
    "与cm相关的术语：\n",
    "\n",
    "1. true positives(TP)：真阳性，预测值为真，实际结果也为真。\n",
    "2. true negatives(TN): 真阴性，预测值为假，实际结果也为假。\n",
    "3. false positives(FP): 假阳性，预测值为真，实际结果为假。\n",
    "4. false negatives(FN): 假阴性，预测值为假，实际结果为真。\n",
    "\n",
    "由cm衍生出来的指标：\n",
    "\n",
    "* accuracy：准确率，正确分类的个数与预测总数的比率。\n",
    "\n",
    "$$accuracy = \\frac{\\sum{TP} + \\sum{TN}}{\\sum{TP} + \\sum{TN} + \\sum{FP} + \\sum{FN}}$$\n",
    "\n",
    "* precision: 精度，$p(结果为真/预测为真)$，条件概率。\n",
    "\n",
    "$$precision = \\frac{\\sum{TP}}{\\sum{TP} + \\sum{FP}}$$\n",
    "\n",
    "* recall：召回率，$p(预测为真/结果为真)$，条件概率。\n",
    "\n",
    "$$recall = \\frac{\\sum{TP}}{\\sum{TP} + \\sum{FN}}$$\n",
    "\n",
    "* F1-score：precision和recall的调和平均。"
   ]
  },
  {
   "cell_type": "markdown",
   "metadata": {},
   "source": [
    "简单模型，准备预测结果。"
   ]
  },
  {
   "cell_type": "code",
   "execution_count": 5,
   "metadata": {},
   "outputs": [],
   "source": [
    "from sklearn import datasets\n",
    "from sklearn.model_selection import train_test_split\n",
    "from sklearn.tree import DecisionTreeClassifier\n",
    "import matplotlib.pyplot as plt\n",
    "import seaborn as sns\n",
    "\n",
    "%matplotlib inline\n",
    "\n",
    "\n",
    "iris = datasets.load_iris()\n",
    "\n",
    "X_train, X_test, y_train, y_test = train_test_split(iris.data,\n",
    "                                                    iris.target, \n",
    "                                                    train_size = 0.7,\n",
    "                                                    test_size = 0.3,\n",
    "                                                    random_state = 123)  # set seed to reproduce result\n",
    "\n",
    "classifier = DecisionTreeClassifier(max_depth = 2)  # naive model\n",
    "classifier.fit(X_train, y_train)\n",
    "\n",
    "y_pred = classifier.predict(X_test)"
   ]
  },
  {
   "cell_type": "code",
   "execution_count": 6,
   "metadata": {},
   "outputs": [
    {
     "name": "stdout",
     "output_type": "stream",
     "text": [
      "[1 2 2 1 0 2 1 0 0 1 2 0 1 2 2 2 0 0 1 0 0 1 0 2 0 0 0 2 2 0 2 1 0 0 1 1 2\n",
      " 0 0 1 1 0 2 2 2]\n"
     ]
    }
   ],
   "source": [
    "print(y_pred)"
   ]
  },
  {
   "cell_type": "markdown",
   "metadata": {},
   "source": [
    "计算混淆矩阵。sklearn默认将预测值放在x轴(列)，真实值放在y轴(行)。"
   ]
  },
  {
   "cell_type": "code",
   "execution_count": 7,
   "metadata": {},
   "outputs": [
    {
     "name": "stdout",
     "output_type": "stream",
     "text": [
      "[[18  0  0]\n",
      " [ 0 10  0]\n",
      " [ 0  2 15]]\n"
     ]
    }
   ],
   "source": [
    "from sklearn import metrics\n",
    "\n",
    "cm = metrics.confusion_matrix(y_test, y_pred)\n",
    "print(cm)"
   ]
  },
  {
   "cell_type": "markdown",
   "metadata": {},
   "source": [
    "可视化混淆矩阵。使用sklearn.metrics.plot_confusion_matrix."
   ]
  },
  {
   "cell_type": "code",
   "execution_count": 8,
   "metadata": {},
   "outputs": [
    {
     "data": {
      "text/plain": [
       "<sklearn.metrics._plot.confusion_matrix.ConfusionMatrixDisplay at 0x7f21741fdb38>"
      ]
     },
     "execution_count": 8,
     "metadata": {},
     "output_type": "execute_result"
    },
    {
     "data": {
      "image/png": "[encoded data removed]",
      "text/plain": [
       "<Figure size 720x432 with 2 Axes>"
      ]
     },
     "metadata": {
      "needs_background": "light"
     },
     "output_type": "display_data"
    }
   ],
   "source": [
    "fig, ax = plt.subplots(figsize=(10, 6))\n",
    "metrics.plot_confusion_matrix(classifier, X_test, y_test, ax=ax)"
   ]
  },
  {
   "cell_type": "markdown",
   "metadata": {},
   "source": [
    "使用seaborn的热力图函数绘制混淆矩阵。"
   ]
  },
  {
   "cell_type": "code",
   "execution_count": 16,
   "metadata": {},
   "outputs": [
    {
     "data": {
      "text/plain": [
       "Text(189.2400000000001, 0.5, 'True label')"
      ]
     },
     "execution_count": 16,
     "metadata": {},
     "output_type": "execute_result"
    },
    {
     "data": {
      "image/png": "[encoded data removed]",
      "text/plain": [
       "<Figure size 720x432 with 2 Axes>"
      ]
     },
     "metadata": {
      "needs_background": "light"
     },
     "output_type": "display_data"
    }
   ],
   "source": [
    "fig, ax = plt.subplots(figsize=(10, 6))\n",
    "ax = sns.heatmap(\n",
    "    cm,  # n*n矩阵\n",
    "    cmap=\"RdBu\",  # 调色板，将矩阵数字映射为颜色\n",
    "    square=True,  # 是否设置每个单元格为正方形\n",
    "    annot=True,  # 是否添加注解\n",
    "    fmt=\"d\",  # 注解文字的字符串格式化\n",
    "    cbar=True  # 是否添加颜色条\n",
    ")\n",
    "ax.set_xlabel(\"Predicted label\")\n",
    "ax.set_ylabel(\"True label\")"
   ]
  },
  {
   "cell_type": "markdown",
   "metadata": {},
   "source": [
    "计算常用指标。"
   ]
  },
  {
   "cell_type": "code",
   "execution_count": 5,
   "metadata": {},
   "outputs": [
    {
     "data": {
      "text/plain": [
       "0.9555555555555556"
      ]
     },
     "execution_count": 5,
     "metadata": {},
     "output_type": "execute_result"
    }
   ],
   "source": [
    "metrics.accuracy_score(y_test, y_pred)"
   ]
  },
  {
   "cell_type": "code",
   "execution_count": 6,
   "metadata": {},
   "outputs": [
    {
     "data": {
      "text/plain": [
       "array([1.        , 0.83333333, 1.        ])"
      ]
     },
     "execution_count": 6,
     "metadata": {},
     "output_type": "execute_result"
    }
   ],
   "source": [
    "metrics.precision_score(y_test, y_pred, average=None)"
   ]
  },
  {
   "cell_type": "code",
   "execution_count": 7,
   "metadata": {},
   "outputs": [
    {
     "data": {
      "text/plain": [
       "array([1.        , 1.        , 0.88235294])"
      ]
     },
     "execution_count": 7,
     "metadata": {},
     "output_type": "execute_result"
    }
   ],
   "source": [
    "metrics.recall_score(y_test, y_pred, average=None)"
   ]
  },
  {
   "cell_type": "markdown",
   "metadata": {},
   "source": [
    "综合性报告。"
   ]
  },
  {
   "cell_type": "code",
   "execution_count": 8,
   "metadata": {},
   "outputs": [
    {
     "name": "stdout",
     "output_type": "stream",
     "text": [
      "              precision    recall  f1-score   support\n",
      "\n",
      "      setosa       1.00      1.00      1.00        18\n",
      "  versicolor       0.83      1.00      0.91        10\n",
      "   virginica       1.00      0.88      0.94        17\n",
      "\n",
      "    accuracy                           0.96        45\n",
      "   macro avg       0.94      0.96      0.95        45\n",
      "weighted avg       0.96      0.96      0.96        45\n",
      "\n"
     ]
    }
   ],
   "source": [
    "print(metrics.classification_report(y_test, y_pred, target_names=iris.target_names))"
   ]
  },
  {
   "cell_type": "markdown",
   "metadata": {},
   "source": [
    "### 2.2 ROC\n",
    "\n",
    "ROC(受试者工作特征曲线)是衡量分类模型预测能力的图形化工具，只能用于二元分类问题。它展现了在不同的概率阈值下真阳性率和假阳性率的关系。横轴是假阳性率(False Positive Rate)，是实际结果为假的情况下预测结果为真的概率，纵轴是真阳性率(True Positive Rate)，是实际结果为真的情况下预测结果也为真的条件概率，也称为召回率。\n",
    "\n",
    "#### 如何解读ROC？\n",
    "\n",
    "* ROC包含两条曲线：\n",
    "    + 连接斜对角线的直线，代表随机分类器的性能，作为参照物。\n",
    "    + 单调递增的曲线，代表变换概率阈值的时候真阳性率和假阳性率的轨迹。\n",
    "* (1, 0)代表预测能力为零的分类器。\n",
    "* (0, 1)代表具有完美预测能力的分类器。\n",
    "* 曲线下面积称为AUC，是分类器预测性能的综合性指标，通常和随机分类器(AUC = 0.5)或其它模型做比较。\n",
    "\n",
    "#### 如何应用ROC？\n",
    "\n",
    "* 对于相同的问题，对比不同模型的ROC和AUC，选择最优的一个。\n",
    "* 给定模型，根据真阳性率和假阳性率的权衡选择合适的概率阈值。"
   ]
  },
  {
   "cell_type": "code",
   "execution_count": 9,
   "metadata": {},
   "outputs": [],
   "source": [
    "from sklearn.datasets import make_classification\n",
    "from sklearn.neighbors import KNeighborsClassifier\n",
    "from sklearn.model_selection import train_test_split\n",
    "from sklearn.metrics import roc_curve\n",
    "from sklearn.metrics import roc_auc_score\n",
    "import matplotlib.pyplot as plt\n",
    "\n",
    "%matplotlib inline"
   ]
  },
  {
   "cell_type": "code",
   "execution_count": 10,
   "metadata": {},
   "outputs": [],
   "source": [
    "# generate random data\n",
    "# n_classes ==> number of labels for target variable, in this case it must be binary\n",
    "X, y = make_classification(n_samples = 1000, n_classes = 2, random_state = 123)\n",
    "\n",
    "# split data\n",
    "X_train, X_test, y_train, y_test = train_test_split(X, y, test_size = 0.5, random_state = 123)\n",
    "\n",
    "# fit a naive model\n",
    "model = KNeighborsClassifier(n_neighbors = 3)\n",
    "model.fit(X_train, y_train)\n",
    "\n",
    "# predict probabilities\n",
    "# change probability threshold to compute different combinations of (TP rate, FP rate)\n",
    "probs = model.predict_proba(X_test)\n",
    "probs = probs[:, 1]  # keep probabilities of positive outcomes\n",
    "\n",
    "# calculate roc curve\n",
    "fpr, tpr, thresholds = roc_curve(y_test, probs)"
   ]
  },
  {
   "cell_type": "code",
   "execution_count": 11,
   "metadata": {},
   "outputs": [
    {
     "data": {
      "text/plain": [
       "Text(0, 0.5, 'True Positive Rate')"
      ]
     },
     "execution_count": 11,
     "metadata": {},
     "output_type": "execute_result"
    },
    {
     "data": {
      "image/png": "[encoded data removed]",
      "text/plain": [
       "<Figure size 576x432 with 1 Axes>"
      ]
     },
     "metadata": {
      "needs_background": "light"
     },
     "output_type": "display_data"
    }
   ],
   "source": [
    "fig = plt.figure(figsize = (8, 6))\n",
    "plt.plot([0, 1], [0, 1], linestyle = \"--\", color = \"blue\")\n",
    "plt.plot(fpr, tpr, marker = \"o\", color = \"red\")\n",
    "plt.title(\"ROC\")\n",
    "plt.xlabel(\"False Positive Rate\")\n",
    "plt.ylabel(\"True Positive Rate\")"
   ]
  },
  {
   "cell_type": "code",
   "execution_count": 12,
   "metadata": {},
   "outputs": [
    {
     "name": "stdout",
     "output_type": "stream",
     "text": [
      "AUC = 0.939\n"
     ]
    }
   ],
   "source": [
    "auc = roc_auc_score(y_test, probs)\n",
    "print(\"AUC = %.3f\" % auc)"
   ]
  },
  {
   "cell_type": "markdown",
   "metadata": {},
   "source": [
    "## 3. 回归模型\n",
    "\n",
    "回归模型用于解释和预测被解释变量（通常是数值变量），常用评估指标：\n",
    "\n",
    "* MAE(Mean Absolute Error) -- 平均绝对误差\n",
    "* MSE(Mean Square Error) -- 均方误差\n",
    "* RMSE(Root Mean Square Error) -- 均方根误差\n",
    "* $R^2$ -- 可决系数\n",
    "\n",
    "$$MAE = \\frac{1}{n}\\sum_{i = 1}^{n}|y_i - \\hat{y_i}|$$\n",
    "\n",
    "$$MSE = \\frac{1}{n}\\sum_{i=1}^n(y_i - \\hat{y_i})^2$$\n",
    "\n",
    "$$RMSE = \\sqrt{\\frac{1}{n}\\sum_{i=1}^n(y_i - \\hat{y_i})^2}$$\n",
    "\n",
    "$$R^2 = 1 - \\frac{\\sum_{i=1}^n(y_i-\\hat{y_i})^2}{\\sum_{i=1}^n(y_i-\\bar{y_i})^2}$$\n",
    "\n",
    "对比与说明：\n",
    "\n",
    "* MAE评估预测值和观测值的绝对偏差，并没有把偏差的方向考虑在内。\n",
    "* MSE是残差平方和的均值，RMSE是MSE的平方根，是最常用的评估指标。\n",
    "* 可决系数$R^2$评估模型的拟合优度，是模型对被解释变量的方差的解释程度。\n",
    "* MAE和RMSE的使用最为广泛，它们的单位与被解释变量的单位一致。MAE并没有考虑偏差方向，RMSE则对异常值非常敏感（考虑平方的计算）。\n",
    "* 单独看指标数值意义不大，必须跨模型进行对比，数值越低说明模型的预测精度越高。"
   ]
  },
  {
   "cell_type": "code",
   "execution_count": 13,
   "metadata": {},
   "outputs": [
    {
     "name": "stdout",
     "output_type": "stream",
     "text": [
      "MAE = 0.1283\n",
      "MSE = 0.0188\n",
      "RMSE = 0.1372\n",
      "R2 = 69.98%\n"
     ]
    }
   ],
   "source": [
    "import numpy as np\n",
    "from sklearn import metrics\n",
    "\n",
    "y_true = [1.2, 1.5, 1.8, 2.0, 1.55, 1.54]\n",
    "y_pred = [1.3, 1.45, 1.65, 2.13, 1.76, 1.67]\n",
    "\n",
    "mae = metrics.mean_absolute_error(y_true, y_pred)\n",
    "mse = metrics.mean_squared_error(y_true, y_pred)\n",
    "rmse = np.sqrt(mse)\n",
    "r2 = metrics.r2_score(y_true, y_pred)\n",
    "\n",
    "print(\"MAE = %.4f\" % mae)\n",
    "print(\"MSE = %.4f\" % mse)\n",
    "print(\"RMSE = %.4f\" % rmse)\n",
    "print(\"R2 = %.2f%%\" % (r2*100,))"
   ]
  },
  {
   "cell_type": "code",
   "execution_count": null,
   "metadata": {},
   "outputs": [],
   "source": []
  }
 ],
 "metadata": {
  "kernelspec": {
   "display_name": "Python 3",
   "language": "python",
   "name": "python3"
  },
  "language_info": {
   "codemirror_mode": {
    "name": "ipython",
    "version": 3
   },
   "file_extension": ".py",
   "mimetype": "text/x-python",
   "name": "python",
   "nbconvert_exporter": "python",
   "pygments_lexer": "ipython3",
   "version": "3.7.3"
  }
 },
 "nbformat": 4,
 "nbformat_minor": 4
}

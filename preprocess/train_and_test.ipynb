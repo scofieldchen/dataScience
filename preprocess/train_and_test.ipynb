{
 "cells": [
  {
   "cell_type": "markdown",
   "metadata": {},
   "source": [
    "## 1. 训练集和检验集\n",
    "\n",
    "在应用机器学习算法前，一般将数据集划分为训练集(training set)和检验集(test set)，训练集用于拟合模型，检验集用于评估预测能力。\n",
    "\n",
    "机器学习模型往往包含很多参数，如果不使用检验集而是直接评估样本内的预测精度，会受到过度拟合的影响。所谓过度拟合，就是模型找到了本来不存在的规律，利用检验集来校验模型能规避这一点。\n",
    "\n",
    "![train test split](../pic/train_test_split.png)\n",
    "\n",
    "sklearn实现：**train_test_split(X, y, test_size, random_state)**\n",
    "\n",
    "* X: 特征矩阵\n",
    "* y: 目标向量\n",
    "* test_size: 检验集大小(比例)，通常选择0.3，0.25，0.2等\n",
    "* random_state: Numpy RandomState对象或代表随机数种子的整数，由于划分是随机的，为了重复实验过程，应该使用统一的随机数种子。"
   ]
  },
  {
   "cell_type": "markdown",
   "metadata": {},
   "source": [
    "使用IRIS数据集。"
   ]
  },
  {
   "cell_type": "code",
   "execution_count": 5,
   "metadata": {},
   "outputs": [
    {
     "data": {
      "text/html": [
       "<div>\n",
       "<style scoped>\n",
       "    .dataframe tbody tr th:only-of-type {\n",
       "        vertical-align: middle;\n",
       "    }\n",
       "\n",
       "    .dataframe tbody tr th {\n",
       "        vertical-align: top;\n",
       "    }\n",
       "\n",
       "    .dataframe thead th {\n",
       "        text-align: right;\n",
       "    }\n",
       "</style>\n",
       "<table border=\"1\" class=\"dataframe\">\n",
       "  <thead>\n",
       "    <tr style=\"text-align: right;\">\n",
       "      <th></th>\n",
       "      <th>sepal length (cm)</th>\n",
       "      <th>sepal width (cm)</th>\n",
       "      <th>petal length (cm)</th>\n",
       "      <th>petal width (cm)</th>\n",
       "      <th>target</th>\n",
       "    </tr>\n",
       "  </thead>\n",
       "  <tbody>\n",
       "    <tr>\n",
       "      <th>0</th>\n",
       "      <td>5.1</td>\n",
       "      <td>3.5</td>\n",
       "      <td>1.4</td>\n",
       "      <td>0.2</td>\n",
       "      <td>0</td>\n",
       "    </tr>\n",
       "    <tr>\n",
       "      <th>1</th>\n",
       "      <td>4.9</td>\n",
       "      <td>3.0</td>\n",
       "      <td>1.4</td>\n",
       "      <td>0.2</td>\n",
       "      <td>0</td>\n",
       "    </tr>\n",
       "    <tr>\n",
       "      <th>2</th>\n",
       "      <td>4.7</td>\n",
       "      <td>3.2</td>\n",
       "      <td>1.3</td>\n",
       "      <td>0.2</td>\n",
       "      <td>0</td>\n",
       "    </tr>\n",
       "    <tr>\n",
       "      <th>3</th>\n",
       "      <td>4.6</td>\n",
       "      <td>3.1</td>\n",
       "      <td>1.5</td>\n",
       "      <td>0.2</td>\n",
       "      <td>0</td>\n",
       "    </tr>\n",
       "    <tr>\n",
       "      <th>4</th>\n",
       "      <td>5.0</td>\n",
       "      <td>3.6</td>\n",
       "      <td>1.4</td>\n",
       "      <td>0.2</td>\n",
       "      <td>0</td>\n",
       "    </tr>\n",
       "  </tbody>\n",
       "</table>\n",
       "</div>"
      ],
      "text/plain": [
       "   sepal length (cm)  sepal width (cm)  petal length (cm)  petal width (cm)  \\\n",
       "0                5.1               3.5                1.4               0.2   \n",
       "1                4.9               3.0                1.4               0.2   \n",
       "2                4.7               3.2                1.3               0.2   \n",
       "3                4.6               3.1                1.5               0.2   \n",
       "4                5.0               3.6                1.4               0.2   \n",
       "\n",
       "   target  \n",
       "0       0  \n",
       "1       0  \n",
       "2       0  \n",
       "3       0  \n",
       "4       0  "
      ]
     },
     "execution_count": 5,
     "metadata": {},
     "output_type": "execute_result"
    }
   ],
   "source": [
    "import numpy as np\n",
    "import pandas as pd\n",
    "from sklearn.datasets import load_iris\n",
    "from sklearn.model_selection import train_test_split\n",
    "from sklearn.neighbors import KNeighborsClassifier\n",
    "\n",
    "iris = load_iris()\n",
    "X, y = iris.data, iris.target\n",
    "\n",
    "iris_df = pd.DataFrame(X, columns=iris[\"feature_names\"])\n",
    "iris_df[\"target\"] = y\n",
    "\n",
    "iris_df.head()"
   ]
  },
  {
   "cell_type": "code",
   "execution_count": 6,
   "metadata": {},
   "outputs": [
    {
     "name": "stdout",
     "output_type": "stream",
     "text": [
      "(105, 4)\n",
      "(45, 4)\n",
      "(105,)\n",
      "(45,)\n",
      "in-sample mean accuracy: 0.9810\n",
      "out-sample mean accuracy: 0.9778\n"
     ]
    }
   ],
   "source": [
    "# 先设置随机数种子，目标是复现试验结果\n",
    "rs = 123\n",
    "\n",
    "# 调用train_test_split，随机划分训练集和检验集\n",
    "X_train, X_test, y_train, y_test = train_test_split(X, y, test_size=0.3, random_state=rs)\n",
    "print(X_train.shape)\n",
    "print(X_test.shape)\n",
    "print(y_train.shape)\n",
    "print(y_test.shape)\n",
    "\n",
    "# 创建模型，这里使用KNN作为说明\n",
    "model = KNeighborsClassifier(n_neighbors=5)\n",
    "\n",
    "# 训练集\n",
    "model.fit(X_train, y_train)\n",
    "\n",
    "# 评估训练集和检验集的预测精度\n",
    "score_in_sample = model.score(X_train, y_train)\n",
    "score_out_sample = model.score(X_test, y_test)\n",
    "\n",
    "print(\"in-sample mean accuracy: %.4f\" % score_in_sample)\n",
    "print(\"out-sample mean accuracy: %.4f\" % score_out_sample)"
   ]
  },
  {
   "cell_type": "markdown",
   "metadata": {},
   "source": [
    "## 2. 训练/检验的缺陷\n",
    "\n",
    "将数据集划分为训练集和检验集存在一个缺陷，即评估结果的不一致性。划分过程通常是随机的，给定不同的训练样本和测试样本（例如调整随机数种子）会得到不同的预测评分，每一个的检验集的精度评估都是模型真实预测能力的有偏估计，不能作为绝对的评估指标。"
   ]
  },
  {
   "cell_type": "code",
   "execution_count": 7,
   "metadata": {},
   "outputs": [
    {
     "name": "stdout",
     "output_type": "stream",
     "text": [
      "score: 0.9778\n",
      "score: 1.0000\n",
      "score: 0.9556\n",
      "score: 0.9778\n",
      "score: 0.9556\n",
      "score: 0.9778\n",
      "score: 0.9111\n",
      "score: 0.9556\n",
      "score: 1.0000\n",
      "score: 0.9778\n",
      "score: 0.9778\n",
      "score: 0.9778\n",
      "score: 0.9111\n",
      "score: 0.9556\n",
      "score: 0.9778\n",
      "score: 0.9556\n",
      "score: 0.9556\n",
      "score: 1.0000\n",
      "score: 0.9556\n",
      "score: 0.9556\n",
      "mean score: 0.9656\n"
     ]
    }
   ],
   "source": [
    "# 通过控制随机数种子，获得不同的(train,test)组合，分别拟合模型并计算检验集的预测评分\n",
    "random_state_list = range(1,21)\n",
    "score_list = []\n",
    "\n",
    "for random_state in random_state_list:\n",
    "    X_train, X_test, y_train, y_test = train_test_split(X, y, test_size=0.3, random_state=random_state)\n",
    "    model = KNeighborsClassifier(n_neighbors=5)\n",
    "    model.fit(X_train, y_train)\n",
    "    score = model.score(X_test, y_test)\n",
    "    score_list.append(score)\n",
    "    print(\"score: %.4f\" % score)\n",
    "\n",
    "print(\"mean score: %.4f\" % np.mean(score_list))"
   ]
  },
  {
   "cell_type": "markdown",
   "metadata": {},
   "source": [
    "## 3. 交叉验证\n",
    "\n",
    "为了克服训练/检验划分的缺陷，并得到模型预测能力更准确的评估，需要引入一个新的概念：K折交叉验证。\n",
    "\n",
    "什么是交叉验证(cross-validation)？\n",
    "\n",
    "给定样本数据，划分训练集和检验集，在训练集上训练模型，在检验集上测试，然后不断重复这个过程，得到多个预测评分，取预测评分的均值作为真实预测能力的无偏估计。\n",
    "\n",
    "1. 将数据分为k个组，简称k折(k折交叉验证)，既可以按顺序划分，也可以随机划分。\n",
    "2. 随机抽取一折作为检验集，剩下的(k-1)折作为训练集，在训练集上拟合模型，在检验集上测试，记录预测评分。\n",
    "3. 将这种过程重复k次，每次迭代的训练集和测试集要求不相同。\n",
    "4. 计算预测评分的均值，作为模型真实预测能力的评估。\n",
    "\n",
    "![cross validation](../pic/cross_validation.png)"
   ]
  },
  {
   "cell_type": "markdown",
   "metadata": {},
   "source": [
    "### 3.1 用迭代器实现\n",
    "\n",
    "使用迭代器控制整个交叉验证的过程，迭代器的主要功能是创建索引，即生成折数。\n",
    "\n",
    "sklearn.model_selection模块提供了很多迭代器，例如KFold, StratifiedKFold, LeaveOneOut等。\n",
    "\n",
    "迭代器对象包含k个元素，每个元素都是长度为2的元组，元组的第一个元素包含训练集的索引号，第二个元素包含检验集的索引号，利用这些索引号划分训练集和检验集。"
   ]
  },
  {
   "cell_type": "code",
   "execution_count": 10,
   "metadata": {},
   "outputs": [
    {
     "name": "stdout",
     "output_type": "stream",
     "text": [
      "fold 1\n",
      "==================================================\n",
      "training index:  [  0   1   2   3   4   6   7   8   9  10  11  12  13  15  17  18  20  21\n",
      "  22  23  24  25  26  27  28  30  32  34  36  37  38  39  41  43  45  46\n",
      "  47  48  49  50  52  53  54  55  57  58  59  60  61  62  63  64  65  67\n",
      "  68  69  70  71  72  74  76  79  80  81  82  83  85  86  87  88  89  91\n",
      "  93  95  96  97 100 101 103 104 105 106 107 108 109 110 111 112 113 114\n",
      " 115 116 117 118 119 121 122 123 124 126 127 128 129 130 132 133 134 135\n",
      " 136 137 138 139 140 142 143 144 145 147 148 149]\n",
      "test index:  [  5  14  16  19  29  31  33  35  40  42  44  51  56  66  73  75  77  78\n",
      "  84  90  92  94  98  99 102 120 125 131 141 146]\n",
      "================================================== \n",
      "\n",
      "fold 2\n",
      "==================================================\n",
      "training index:  [  0   1   2   3   5   6   7   8   9  10  11  12  13  14  15  16  19  20\n",
      "  21  22  23  24  25  26  27  29  30  31  32  33  34  35  37  38  40  41\n",
      "  42  43  44  46  47  49  50  51  52  55  56  57  60  61  62  63  64  65\n",
      "  66  67  68  70  71  72  73  74  75  76  77  78  79  80  81  82  83  84\n",
      "  86  87  88  89  90  92  93  94  96  97  98  99 100 101 102 104 105 106\n",
      " 109 110 111 113 115 116 120 121 123 124 125 127 129 130 131 133 134 136\n",
      " 137 138 140 141 142 143 144 145 146 147 148 149]\n",
      "test index:  [  4  17  18  28  36  39  45  48  53  54  58  59  69  85  91  95 103 107\n",
      " 108 112 114 117 118 119 122 126 128 132 135 139]\n",
      "================================================== \n",
      "\n",
      "fold 3\n",
      "==================================================\n",
      "training index:  [  0   1   3   4   5   7   8   9  13  14  15  16  17  18  19  20  21  22\n",
      "  24  25  26  28  29  30  31  33  35  36  37  39  40  41  42  43  44  45\n",
      "  47  48  49  50  51  52  53  54  56  57  58  59  60  61  63  64  66  67\n",
      "  68  69  70  71  72  73  75  76  77  78  79  80  81  82  84  85  86  87\n",
      "  88  90  91  92  94  95  96  97  98  99 101 102 103 105 106 107 108 109\n",
      " 112 114 115 117 118 119 120 121 122 125 126 128 129 130 131 132 133 134\n",
      " 135 136 137 139 140 141 142 143 145 146 147 148]\n",
      "test index:  [  2   6  10  11  12  23  27  32  34  38  46  55  62  65  74  83  89  93\n",
      " 100 104 110 111 113 116 123 124 127 138 144 149]\n",
      "================================================== \n",
      "\n",
      "fold 4\n",
      "==================================================\n",
      "training index:  [  0   1   2   4   5   6   7   8  10  11  12  13  14  16  17  18  19  20\n",
      "  22  23  25  27  28  29  31  32  33  34  35  36  37  38  39  40  42  44\n",
      "  45  46  47  48  50  51  53  54  55  56  57  58  59  60  61  62  63  65\n",
      "  66  68  69  71  72  73  74  75  77  78  79  81  83  84  85  86  88  89\n",
      "  90  91  92  93  94  95  96  98  99 100 101 102 103 104 107 108 110 111\n",
      " 112 113 114 115 116 117 118 119 120 122 123 124 125 126 127 128 129 131\n",
      " 132 133 134 135 137 138 139 140 141 144 146 149]\n",
      "test index:  [  3   9  15  21  24  26  30  41  43  49  52  64  67  70  76  80  82  87\n",
      "  97 105 106 109 121 130 136 142 143 145 147 148]\n",
      "================================================== \n",
      "\n",
      "fold 5\n",
      "==================================================\n",
      "training index:  [  2   3   4   5   6   9  10  11  12  14  15  16  17  18  19  21  23  24\n",
      "  26  27  28  29  30  31  32  33  34  35  36  38  39  40  41  42  43  44\n",
      "  45  46  48  49  51  52  53  54  55  56  58  59  62  64  65  66  67  69\n",
      "  70  73  74  75  76  77  78  80  82  83  84  85  87  89  90  91  92  93\n",
      "  94  95  97  98  99 100 102 103 104 105 106 107 108 109 110 111 112 113\n",
      " 114 116 117 118 119 120 121 122 123 124 125 126 127 128 130 131 132 135\n",
      " 136 138 139 141 142 143 144 145 146 147 148 149]\n",
      "test index:  [  0   1   7   8  13  20  22  25  37  47  50  57  60  61  63  68  71  72\n",
      "  79  81  86  88  96 101 115 129 133 134 137 140]\n",
      "================================================== \n",
      "\n"
     ]
    }
   ],
   "source": [
    "from sklearn.model_selection import KFold\n",
    "\n",
    "kfold = KFold(n_splits=5,  # 折数\n",
    "              shuffle=True,  # 随机分配\n",
    "              random_state=1)\n",
    "\n",
    "for i, (train, test) in enumerate(kfold.split(X)):\n",
    "    print(\"fold %d\" % (i + 1))\n",
    "    print(\"=\"*50)\n",
    "    print(\"training index: \", train)\n",
    "    print(\"test index: \", test)\n",
    "    print(\"=\"*50, \"\\n\")"
   ]
  },
  {
   "cell_type": "markdown",
   "metadata": {},
   "source": [
    "用10折交叉验证检验一个简单的模型，使用iris数据集。"
   ]
  },
  {
   "cell_type": "code",
   "execution_count": 12,
   "metadata": {},
   "outputs": [
    {
     "name": "stdout",
     "output_type": "stream",
     "text": [
      "iteration 1: score = 0.9333\n",
      "iteration 2: score = 1.0000\n",
      "iteration 3: score = 0.9333\n",
      "iteration 4: score = 1.0000\n",
      "iteration 5: score = 1.0000\n",
      "iteration 6: score = 0.9333\n",
      "iteration 7: score = 1.0000\n",
      "iteration 8: score = 1.0000\n",
      "iteration 9: score = 1.0000\n",
      "iteration 10: score = 0.8667\n",
      "average score = 0.9667\n",
      "std of scores = 0.0447\n"
     ]
    }
   ],
   "source": [
    "from sklearn.model_selection import KFold\n",
    "from sklearn.neighbors import KNeighborsClassifier\n",
    "\n",
    "X = iris.data\n",
    "y = iris.target\n",
    "\n",
    "# 创建迭代器\n",
    "kfold = KFold(n_splits=10,\n",
    "              shuffle=True,\n",
    "              random_state=123)\n",
    "\n",
    "# 根据迭代器先划分训练集和检验集，然后拟合模型和评估性能\n",
    "model = KNeighborsClassifier(n_neighbors=5)\n",
    "score_list = []\n",
    "for i, (idx_train, idx_test) in enumerate(kfold.split(X)):\n",
    "    X_train, y_train = X[idx_train], y[idx_train]\n",
    "    X_test, y_test = X[idx_test], y[idx_test]\n",
    "    model.fit(X_train, y_train)\n",
    "    score = model.score(X_test, y_test)\n",
    "    print(\"iteration %d: score = %.4f\" % (i + 1, score))\n",
    "    score_list.append(score)\n",
    "    \n",
    "score_mean = np.mean(score_list)\n",
    "score_std = np.std(score_list)\n",
    "print(\"average score = %.4f\" % score_mean)\n",
    "print(\"std of scores = %.4f\" % score_std)"
   ]
  },
  {
   "cell_type": "markdown",
   "metadata": {},
   "source": [
    "### 3.2 cross_val_score\n",
    "\n",
    "用sklearn.model_selection.cross_val_score实现自动化交叉验证。\n",
    "\n",
    "cross_val_score()省略了交叉验证的很多细节，如果提供了目标变量，在拆分样本时每一折的目标变量的标签所占的比例与y向量保持一致，即实现了分层抽样。如果要使用方法1实现相同的结果，需要创建StratifiedKFold。"
   ]
  },
  {
   "cell_type": "code",
   "execution_count": 15,
   "metadata": {},
   "outputs": [
    {
     "name": "stdout",
     "output_type": "stream",
     "text": [
      "[1.         0.93333333 1.         1.         0.86666667 0.93333333\n",
      " 0.93333333 1.         1.         1.        ]\n",
      "average score = 0.9667\n",
      "std of scores = 0.0447\n"
     ]
    }
   ],
   "source": [
    "from sklearn.model_selection import cross_val_score\n",
    "from sklearn.neighbors import KNeighborsClassifier\n",
    "\n",
    "model = KNeighborsClassifier(n_neighbors=5)\n",
    "\n",
    "scores = cross_val_score(\n",
    "    estimator=model,  # 要评估的模型\n",
    "    X=X,  # 特征矩阵\n",
    "    y=y,  # 目标向量\n",
    "    scoring=\"accuracy\",  # 使用准确率作为预测评分\n",
    "    cv=10,  # 交叉验证折数\n",
    "    n_jobs=-1  # 使用全部CPU，平行运算\n",
    ")\n",
    "\n",
    "print(scores)\n",
    "print(\"average score = %.4f\" % np.mean(scores))\n",
    "print(\"std of scores = %.4f\" % np.std(scores))"
   ]
  },
  {
   "cell_type": "markdown",
   "metadata": {},
   "source": []
  }
 ],
 "metadata": {
  "kernelspec": {
   "display_name": "pyds",
   "language": "python",
   "name": "pyds"
  },
  "language_info": {
   "codemirror_mode": {
    "name": "ipython",
    "version": 3
   },
   "file_extension": ".py",
   "mimetype": "text/x-python",
   "name": "python",
   "nbconvert_exporter": "python",
   "pygments_lexer": "ipython3",
   "version": "3.8.3"
  }
 },
 "nbformat": 4,
 "nbformat_minor": 4
}

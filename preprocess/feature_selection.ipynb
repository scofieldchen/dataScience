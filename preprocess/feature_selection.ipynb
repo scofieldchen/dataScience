{
 "cells": [
  {
   "cell_type": "markdown",
   "metadata": {},
   "source": [
    "# 特征选择\n",
    "\n",
    "当数据集包含很多特征，例如超过100个，该如何处理？\n",
    "\n",
    "有的特征可能是噪音，没有预测能力，部分特征之间可能高度相关，如果把所有数据喂到机器学习算法，会导致糟糕的结果：\n",
    "\n",
    "1. 预测精度低，这点容易理解，即所谓垃圾进垃圾出(garbage in, garbage out)\n",
    "2. 低泛化能力\n",
    "3. 模型训练的时间更长\n",
    "\n",
    "为了解决这个问题，需要使用特征选择(feature selection).\n",
    "\n",
    "**所谓特征选择，即根据某个标准，从众多特征中挑选出预测能力最强的特征**。\n",
    "\n",
    "有四种常用的方法，sklearn提供了相应的实现接口：\n",
    "\n",
    "1. 单变量选择\n",
    "2. 递归消除\n",
    "3. 特征重要性\n",
    "4. PCA\n",
    "\n",
    "参考教程：\n",
    "\n",
    "* [如何用sklearn实现特征选择](https://machinelearningmastery.com/feature-selection-machine-learning-python/)\n",
    "* [特征选择和数据可视化](https://www.kaggle.com/kanncaa1/feature-selection-and-data-visualization)"
   ]
  },
  {
   "cell_type": "markdown",
   "metadata": {},
   "source": [
    "## 准备数据\n",
    "\n",
    "我们用Pima-Indians-Diabetes数据集做说明，数据集包含768个观测值和8个特征，目标是预测病人是否患糖尿病。\n",
    "\n",
    "特征描述：\n",
    "   \n",
    "* Pregnancies: 怀孕次数\n",
    "* Glucose: 口服葡萄糖耐量测试中2小时的血浆葡萄糖浓度\n",
    "* BloodPressure: 舒张压（毫米汞柱）\n",
    "* SkinThickness: 三头肌皮肤褶皱厚度（毫米）\n",
    "* Insulin: 2小时血清胰岛素（mu U / ml）\n",
    "* BMI: 体重指数（体重（kg）/（身高（m））^ 2）\n",
    "* DiatetesPedigreeFunction: 糖尿病谱系功能\n",
    "* Age: 年龄（岁）\n",
    "\n",
    "目标变量：1：糖尿病检测呈阳性；0：检测结果为阴性"
   ]
  },
  {
   "cell_type": "code",
   "execution_count": 1,
   "metadata": {},
   "outputs": [],
   "source": [
    "import warnings\n",
    "import pandas as pd\n",
    "import numpy as np\n",
    "import matplotlib.pyplot as plt\n",
    "\n",
    "%matplotlib inline\n",
    "\n",
    "plt.style.use(\"ggplot\")\n",
    "\n",
    "warnings.filterwarnings(\"ignore\")"
   ]
  },
  {
   "cell_type": "code",
   "execution_count": 3,
   "metadata": {},
   "outputs": [
    {
     "data": {
      "text/html": [
       "<div>\n",
       "<style scoped>\n",
       "    .dataframe tbody tr th:only-of-type {\n",
       "        vertical-align: middle;\n",
       "    }\n",
       "\n",
       "    .dataframe tbody tr th {\n",
       "        vertical-align: top;\n",
       "    }\n",
       "\n",
       "    .dataframe thead th {\n",
       "        text-align: right;\n",
       "    }\n",
       "</style>\n",
       "<table border=\"1\" class=\"dataframe\">\n",
       "  <thead>\n",
       "    <tr style=\"text-align: right;\">\n",
       "      <th></th>\n",
       "      <th>Pregnancies</th>\n",
       "      <th>Glucose</th>\n",
       "      <th>BloodPressure</th>\n",
       "      <th>SkinThickness</th>\n",
       "      <th>Insulin</th>\n",
       "      <th>BMI</th>\n",
       "      <th>DiabetesPedigreeFunction</th>\n",
       "      <th>Age</th>\n",
       "      <th>Outcome</th>\n",
       "    </tr>\n",
       "  </thead>\n",
       "  <tbody>\n",
       "    <tr>\n",
       "      <th>0</th>\n",
       "      <td>6</td>\n",
       "      <td>148</td>\n",
       "      <td>72</td>\n",
       "      <td>35</td>\n",
       "      <td>0</td>\n",
       "      <td>33.6</td>\n",
       "      <td>0.627</td>\n",
       "      <td>50</td>\n",
       "      <td>1</td>\n",
       "    </tr>\n",
       "    <tr>\n",
       "      <th>1</th>\n",
       "      <td>1</td>\n",
       "      <td>85</td>\n",
       "      <td>66</td>\n",
       "      <td>29</td>\n",
       "      <td>0</td>\n",
       "      <td>26.6</td>\n",
       "      <td>0.351</td>\n",
       "      <td>31</td>\n",
       "      <td>0</td>\n",
       "    </tr>\n",
       "    <tr>\n",
       "      <th>2</th>\n",
       "      <td>8</td>\n",
       "      <td>183</td>\n",
       "      <td>64</td>\n",
       "      <td>0</td>\n",
       "      <td>0</td>\n",
       "      <td>23.3</td>\n",
       "      <td>0.672</td>\n",
       "      <td>32</td>\n",
       "      <td>1</td>\n",
       "    </tr>\n",
       "    <tr>\n",
       "      <th>3</th>\n",
       "      <td>1</td>\n",
       "      <td>89</td>\n",
       "      <td>66</td>\n",
       "      <td>23</td>\n",
       "      <td>94</td>\n",
       "      <td>28.1</td>\n",
       "      <td>0.167</td>\n",
       "      <td>21</td>\n",
       "      <td>0</td>\n",
       "    </tr>\n",
       "    <tr>\n",
       "      <th>4</th>\n",
       "      <td>0</td>\n",
       "      <td>137</td>\n",
       "      <td>40</td>\n",
       "      <td>35</td>\n",
       "      <td>168</td>\n",
       "      <td>43.1</td>\n",
       "      <td>2.288</td>\n",
       "      <td>33</td>\n",
       "      <td>1</td>\n",
       "    </tr>\n",
       "  </tbody>\n",
       "</table>\n",
       "</div>"
      ],
      "text/plain": [
       "   Pregnancies  Glucose  BloodPressure  SkinThickness  Insulin   BMI  \\\n",
       "0            6      148             72             35        0  33.6   \n",
       "1            1       85             66             29        0  26.6   \n",
       "2            8      183             64              0        0  23.3   \n",
       "3            1       89             66             23       94  28.1   \n",
       "4            0      137             40             35      168  43.1   \n",
       "\n",
       "   DiabetesPedigreeFunction  Age  Outcome  \n",
       "0                     0.627   50        1  \n",
       "1                     0.351   31        0  \n",
       "2                     0.672   32        1  \n",
       "3                     0.167   21        0  \n",
       "4                     2.288   33        1  "
      ]
     },
     "execution_count": 3,
     "metadata": {},
     "output_type": "execute_result"
    }
   ],
   "source": [
    "diabetes = pd.read_csv(\"./datasets/diabetes.csv\")\n",
    "diabetes.head()"
   ]
  },
  {
   "cell_type": "code",
   "execution_count": 4,
   "metadata": {},
   "outputs": [],
   "source": [
    "X = diabetes.iloc[:, 0:8]\n",
    "y = diabetes.iloc[:, 8]"
   ]
  },
  {
   "cell_type": "markdown",
   "metadata": {},
   "source": [
    "## 1. 单变量选择\n",
    "\n",
    "#### 什么单变量选择？\n",
    "\n",
    "选择与目标变量**相关性最高**的特征，剔除无关变量。\n",
    "\n",
    "单变量选择是最简单的特征选择方法之一，但有一个明显的缺点，它仅仅考虑了特征与目标变量的相关性，没有考虑特征与特征之间的相关性，所以无法剔除重复的特征。\n",
    "\n",
    "#### 如何测量相关性？\n",
    "\n",
    "用统计检验(如F检验，卡方检验等)测试特征和目标变量的关联程度。\n",
    "\n",
    "sklearn.feature_selection提供了3个接口：\n",
    "\n",
    "* SelectKBest: 筛选k个相关性最高的特征，最常用。\n",
    "* SelectPercentile: 筛选得分排名前k分位数的特征。\n",
    "* GenericUnivariateSelect: 根据用户自定义评分函数进行筛选。\n",
    "\n",
    "有3种常用的统计检验：\n",
    "\n",
    "* f_classif：方差分析(ANOVA)，适用于分类问题，特征是数值变量，目标是分类变量。\n",
    "* chi2：差方分析，适用于分类问题，要求特征是计数或二元变量（正值）。\n",
    "* f_regression：适用于回归问题，特征和目标变量均为数值变量。\n",
    "\n",
    "所有检验都返回一个分值和p-value，分值和p-value越高表示特征与目标变量的关联程度越高。"
   ]
  },
  {
   "cell_type": "code",
   "execution_count": 5,
   "metadata": {},
   "outputs": [],
   "source": [
    "from sklearn.feature_selection import SelectKBest\n",
    "from sklearn.feature_selection import f_classif"
   ]
  },
  {
   "cell_type": "code",
   "execution_count": 6,
   "metadata": {},
   "outputs": [
    {
     "data": {
      "text/html": [
       "<div>\n",
       "<style scoped>\n",
       "    .dataframe tbody tr th:only-of-type {\n",
       "        vertical-align: middle;\n",
       "    }\n",
       "\n",
       "    .dataframe tbody tr th {\n",
       "        vertical-align: top;\n",
       "    }\n",
       "\n",
       "    .dataframe thead th {\n",
       "        text-align: right;\n",
       "    }\n",
       "</style>\n",
       "<table border=\"1\" class=\"dataframe\">\n",
       "  <thead>\n",
       "    <tr style=\"text-align: right;\">\n",
       "      <th></th>\n",
       "      <th>feature</th>\n",
       "      <th>score</th>\n",
       "      <th>pvalue</th>\n",
       "      <th>select</th>\n",
       "    </tr>\n",
       "  </thead>\n",
       "  <tbody>\n",
       "    <tr>\n",
       "      <th>1</th>\n",
       "      <td>Glucose</td>\n",
       "      <td>213.161752</td>\n",
       "      <td>8.935432e-43</td>\n",
       "      <td>True</td>\n",
       "    </tr>\n",
       "    <tr>\n",
       "      <th>5</th>\n",
       "      <td>BMI</td>\n",
       "      <td>71.772072</td>\n",
       "      <td>1.229807e-16</td>\n",
       "      <td>True</td>\n",
       "    </tr>\n",
       "    <tr>\n",
       "      <th>7</th>\n",
       "      <td>Age</td>\n",
       "      <td>46.140611</td>\n",
       "      <td>2.209975e-11</td>\n",
       "      <td>True</td>\n",
       "    </tr>\n",
       "    <tr>\n",
       "      <th>0</th>\n",
       "      <td>Pregnancies</td>\n",
       "      <td>39.670227</td>\n",
       "      <td>5.065127e-10</td>\n",
       "      <td>True</td>\n",
       "    </tr>\n",
       "    <tr>\n",
       "      <th>6</th>\n",
       "      <td>DiabetesPedigreeFunction</td>\n",
       "      <td>23.871300</td>\n",
       "      <td>1.254607e-06</td>\n",
       "      <td>False</td>\n",
       "    </tr>\n",
       "    <tr>\n",
       "      <th>4</th>\n",
       "      <td>Insulin</td>\n",
       "      <td>13.281108</td>\n",
       "      <td>2.861865e-04</td>\n",
       "      <td>False</td>\n",
       "    </tr>\n",
       "    <tr>\n",
       "      <th>3</th>\n",
       "      <td>SkinThickness</td>\n",
       "      <td>4.304381</td>\n",
       "      <td>3.834770e-02</td>\n",
       "      <td>False</td>\n",
       "    </tr>\n",
       "    <tr>\n",
       "      <th>2</th>\n",
       "      <td>BloodPressure</td>\n",
       "      <td>3.256950</td>\n",
       "      <td>7.151390e-02</td>\n",
       "      <td>False</td>\n",
       "    </tr>\n",
       "  </tbody>\n",
       "</table>\n",
       "</div>"
      ],
      "text/plain": [
       "                    feature       score        pvalue  select\n",
       "1                   Glucose  213.161752  8.935432e-43    True\n",
       "5                       BMI   71.772072  1.229807e-16    True\n",
       "7                       Age   46.140611  2.209975e-11    True\n",
       "0               Pregnancies   39.670227  5.065127e-10    True\n",
       "6  DiabetesPedigreeFunction   23.871300  1.254607e-06   False\n",
       "4                   Insulin   13.281108  2.861865e-04   False\n",
       "3             SkinThickness    4.304381  3.834770e-02   False\n",
       "2             BloodPressure    3.256950  7.151390e-02   False"
      ]
     },
     "execution_count": 6,
     "metadata": {},
     "output_type": "execute_result"
    }
   ],
   "source": [
    "# 创建selector，定义检验方法，因为这是分类问题，而且特征全部是数值变量，选择'f_classif'\n",
    "# 保留关联程度最高的4个特征\n",
    "selector = SelectKBest(score_func=f_classif, k=4)\n",
    "\n",
    "# 拟合数据，同时提供特征和目标变量\n",
    "results = selector.fit(X, y)\n",
    "\n",
    "# 查看每个特征的分数和p-value\n",
    "# results.scores_: 每个特征的分数\n",
    "# results.pvalues_: 每个特征的p-value\n",
    "# results.get_support(): 返回一个布尔向量，True表示选择该特征，False表示放弃，也可以返回索引\n",
    "features = pd.DataFrame({\n",
    "    \"feature\": X.columns,\n",
    "    \"score\": results.scores_,\n",
    "    \"pvalue\": results.pvalues_,\n",
    "    \"select\": results.get_support()\n",
    "})\n",
    "features.sort_values(\"score\", ascending=False)"
   ]
  },
  {
   "cell_type": "markdown",
   "metadata": {},
   "source": [
    "调用results.transform()直接返回经过筛选的特征。"
   ]
  },
  {
   "cell_type": "code",
   "execution_count": 7,
   "metadata": {},
   "outputs": [
    {
     "data": {
      "text/plain": [
       "array([[  6. , 148. ,  33.6,  50. ],\n",
       "       [  1. ,  85. ,  26.6,  31. ],\n",
       "       [  8. , 183. ,  23.3,  32. ],\n",
       "       ...,\n",
       "       [  5. , 121. ,  26.2,  30. ],\n",
       "       [  1. , 126. ,  30.1,  47. ],\n",
       "       [  1. ,  93. ,  30.4,  23. ]])"
      ]
     },
     "execution_count": 7,
     "metadata": {},
     "output_type": "execute_result"
    }
   ],
   "source": [
    "X_new = results.transform(X)\n",
    "X_new"
   ]
  },
  {
   "cell_type": "markdown",
   "metadata": {},
   "source": [
    "调用results.get_support()返回得分最高的K个特征的索引。"
   ]
  },
  {
   "cell_type": "code",
   "execution_count": 8,
   "metadata": {},
   "outputs": [
    {
     "data": {
      "text/html": [
       "<div>\n",
       "<style scoped>\n",
       "    .dataframe tbody tr th:only-of-type {\n",
       "        vertical-align: middle;\n",
       "    }\n",
       "\n",
       "    .dataframe tbody tr th {\n",
       "        vertical-align: top;\n",
       "    }\n",
       "\n",
       "    .dataframe thead th {\n",
       "        text-align: right;\n",
       "    }\n",
       "</style>\n",
       "<table border=\"1\" class=\"dataframe\">\n",
       "  <thead>\n",
       "    <tr style=\"text-align: right;\">\n",
       "      <th></th>\n",
       "      <th>Pregnancies</th>\n",
       "      <th>Glucose</th>\n",
       "      <th>BMI</th>\n",
       "      <th>Age</th>\n",
       "    </tr>\n",
       "  </thead>\n",
       "  <tbody>\n",
       "    <tr>\n",
       "      <th>0</th>\n",
       "      <td>6</td>\n",
       "      <td>148</td>\n",
       "      <td>33.6</td>\n",
       "      <td>50</td>\n",
       "    </tr>\n",
       "    <tr>\n",
       "      <th>1</th>\n",
       "      <td>1</td>\n",
       "      <td>85</td>\n",
       "      <td>26.6</td>\n",
       "      <td>31</td>\n",
       "    </tr>\n",
       "    <tr>\n",
       "      <th>2</th>\n",
       "      <td>8</td>\n",
       "      <td>183</td>\n",
       "      <td>23.3</td>\n",
       "      <td>32</td>\n",
       "    </tr>\n",
       "    <tr>\n",
       "      <th>3</th>\n",
       "      <td>1</td>\n",
       "      <td>89</td>\n",
       "      <td>28.1</td>\n",
       "      <td>21</td>\n",
       "    </tr>\n",
       "    <tr>\n",
       "      <th>4</th>\n",
       "      <td>0</td>\n",
       "      <td>137</td>\n",
       "      <td>43.1</td>\n",
       "      <td>33</td>\n",
       "    </tr>\n",
       "  </tbody>\n",
       "</table>\n",
       "</div>"
      ],
      "text/plain": [
       "   Pregnancies  Glucose   BMI  Age\n",
       "0            6      148  33.6   50\n",
       "1            1       85  26.6   31\n",
       "2            8      183  23.3   32\n",
       "3            1       89  28.1   21\n",
       "4            0      137  43.1   33"
      ]
     },
     "execution_count": 8,
     "metadata": {},
     "output_type": "execute_result"
    }
   ],
   "source": [
    "X_new_index = results.get_support(indices=True)\n",
    "X_new = X.iloc[:, X_new_index]\n",
    "X_new.head()"
   ]
  },
  {
   "cell_type": "markdown",
   "metadata": {},
   "source": [
    "## 2. 递归消除\n",
    "\n",
    "递归消除：RFE, Recursive Features Elimination.\n",
    "\n",
    "递归消除的核心思想是通过反复迭代，剔除没有预测意义的特征，与向后逐步回归非常相似，属于纯技术性的变量选择。\n",
    "\n",
    "步骤：\n",
    "\n",
    "1. 使用所有特征先创建一个基准模型\n",
    "2. 剔除一个特征，创建新模型，记录新模型的预测精度\n",
    "    + 如果预测精度比基准模型高，剔除该特征\n",
    "    + 如果预测精度比基准模型低，保留该特征\n",
    "3. 重复第二步，直到预测精度保持稳定\n",
    "\n",
    "sklearn.feature_selection提供了两个接口：\n",
    "\n",
    "* RFE: 可指定选择的特征数。\n",
    "* RFECV: 根据k折交叉验证评分自动选择最优特征。\n",
    "\n",
    "**单变量选择和递归消除应结合使用，它们的功能是互补的，单变量选择剔除了无关变量，递归消除剔除了相关特征**"
   ]
  },
  {
   "cell_type": "code",
   "execution_count": 9,
   "metadata": {},
   "outputs": [],
   "source": [
    "from sklearn.linear_model import LogisticRegression\n",
    "from sklearn.feature_selection import RFECV"
   ]
  },
  {
   "cell_type": "code",
   "execution_count": 10,
   "metadata": {},
   "outputs": [
    {
     "name": "stdout",
     "output_type": "stream",
     "text": [
      "Number of selected features = 5\n",
      "Selected features: [ True  True False False False  True  True  True]\n",
      "Feature ranking: [1 1 2 3 4 1 1 1]\n"
     ]
    }
   ],
   "source": [
    "# 创建筛选器\n",
    "selector = RFECV(\n",
    "    estimator=LogisticRegression(),  # 由于这是分类问题，选择简单的逻辑回归\n",
    "    min_features_to_select=3,  # 选择的最小特征数量\n",
    "    cv=5,  # 交叉验证折数\n",
    "    scoring=\"accuracy\",  # 评估预测精度的指标\n",
    "    n_jobs=-1  # 使用所有CPU运算\n",
    ")\n",
    "\n",
    "# 拟合数据\n",
    "results = selector.fit(X, y)\n",
    "\n",
    "# 查看结果\n",
    "# results.n_features_: 最终选择的特征数量\n",
    "# results.support_: 布尔向量，True表示保留特征，False表示剔除特征\n",
    "# results.ranking_: 特征等级，1表示最高优先级，即应该保留的特征\n",
    "print(\"Number of selected features = %d\" % results.n_features_)\n",
    "print(\"Selected features: %s\" % results.support_)\n",
    "print(\"Feature ranking: %s\" % results.ranking_)"
   ]
  },
  {
   "cell_type": "markdown",
   "metadata": {},
   "source": [
    "调用results.transform()筛选最重要的特征。"
   ]
  },
  {
   "cell_type": "code",
   "execution_count": 11,
   "metadata": {},
   "outputs": [
    {
     "data": {
      "text/plain": [
       "array([[  6.   , 148.   ,  33.6  ,   0.627,  50.   ],\n",
       "       [  1.   ,  85.   ,  26.6  ,   0.351,  31.   ],\n",
       "       [  8.   , 183.   ,  23.3  ,   0.672,  32.   ],\n",
       "       ...,\n",
       "       [  5.   , 121.   ,  26.2  ,   0.245,  30.   ],\n",
       "       [  1.   , 126.   ,  30.1  ,   0.349,  47.   ],\n",
       "       [  1.   ,  93.   ,  30.4  ,   0.315,  23.   ]])"
      ]
     },
     "execution_count": 11,
     "metadata": {},
     "output_type": "execute_result"
    }
   ],
   "source": [
    "X_new = results.transform(X)\n",
    "X_new"
   ]
  },
  {
   "cell_type": "markdown",
   "metadata": {},
   "source": [
    "根据拟合结果自行筛选。"
   ]
  },
  {
   "cell_type": "code",
   "execution_count": 12,
   "metadata": {},
   "outputs": [
    {
     "data": {
      "text/html": [
       "<div>\n",
       "<style scoped>\n",
       "    .dataframe tbody tr th:only-of-type {\n",
       "        vertical-align: middle;\n",
       "    }\n",
       "\n",
       "    .dataframe tbody tr th {\n",
       "        vertical-align: top;\n",
       "    }\n",
       "\n",
       "    .dataframe thead th {\n",
       "        text-align: right;\n",
       "    }\n",
       "</style>\n",
       "<table border=\"1\" class=\"dataframe\">\n",
       "  <thead>\n",
       "    <tr style=\"text-align: right;\">\n",
       "      <th></th>\n",
       "      <th>Pregnancies</th>\n",
       "      <th>Glucose</th>\n",
       "      <th>BMI</th>\n",
       "      <th>DiabetesPedigreeFunction</th>\n",
       "      <th>Age</th>\n",
       "    </tr>\n",
       "  </thead>\n",
       "  <tbody>\n",
       "    <tr>\n",
       "      <th>0</th>\n",
       "      <td>6</td>\n",
       "      <td>148</td>\n",
       "      <td>33.6</td>\n",
       "      <td>0.627</td>\n",
       "      <td>50</td>\n",
       "    </tr>\n",
       "    <tr>\n",
       "      <th>1</th>\n",
       "      <td>1</td>\n",
       "      <td>85</td>\n",
       "      <td>26.6</td>\n",
       "      <td>0.351</td>\n",
       "      <td>31</td>\n",
       "    </tr>\n",
       "    <tr>\n",
       "      <th>2</th>\n",
       "      <td>8</td>\n",
       "      <td>183</td>\n",
       "      <td>23.3</td>\n",
       "      <td>0.672</td>\n",
       "      <td>32</td>\n",
       "    </tr>\n",
       "    <tr>\n",
       "      <th>3</th>\n",
       "      <td>1</td>\n",
       "      <td>89</td>\n",
       "      <td>28.1</td>\n",
       "      <td>0.167</td>\n",
       "      <td>21</td>\n",
       "    </tr>\n",
       "    <tr>\n",
       "      <th>4</th>\n",
       "      <td>0</td>\n",
       "      <td>137</td>\n",
       "      <td>43.1</td>\n",
       "      <td>2.288</td>\n",
       "      <td>33</td>\n",
       "    </tr>\n",
       "  </tbody>\n",
       "</table>\n",
       "</div>"
      ],
      "text/plain": [
       "   Pregnancies  Glucose   BMI  DiabetesPedigreeFunction  Age\n",
       "0            6      148  33.6                     0.627   50\n",
       "1            1       85  26.6                     0.351   31\n",
       "2            8      183  23.3                     0.672   32\n",
       "3            1       89  28.1                     0.167   21\n",
       "4            0      137  43.1                     2.288   33"
      ]
     },
     "execution_count": 12,
     "metadata": {},
     "output_type": "execute_result"
    }
   ],
   "source": [
    "X_new = X.loc[:, results.support_]\n",
    "X_new.head()"
   ]
  },
  {
   "cell_type": "markdown",
   "metadata": {},
   "source": [
    "## 3. 特征重要性\n",
    "\n",
    "我们可以量化特征的重要程度，重要程度越高，对模型准确预测的贡献越大，反之贡献越低。\n",
    "\n",
    "要评估特征重要性，需要借助以树模型为基础的集成学习算法，最常用的是随机森林(RandomForest)。\n",
    "\n",
    "用随机森林拟合训练集后，可以从'feature_importances_'属性中获取特征重要性，用户可根据预先设定的阈值选择最重要的特征。"
   ]
  },
  {
   "cell_type": "code",
   "execution_count": 13,
   "metadata": {},
   "outputs": [
    {
     "data": {
      "image/png": "[encoded data removed]",
      "text/plain": [
       "<Figure size 720x444.96 with 1 Axes>"
      ]
     },
     "metadata": {},
     "output_type": "display_data"
    }
   ],
   "source": [
    "from sklearn.ensemble import RandomForestClassifier\n",
    "\n",
    "# 创建分类器\n",
    "model = RandomForestClassifier(random_state=123)\n",
    "\n",
    "# 拟合数据\n",
    "model.fit(X, y)\n",
    "\n",
    "# 提取特征重要性\n",
    "importance = pd.Series(model.feature_importances_, index=X.columns)\n",
    "importance = importance.sort_values()\n",
    "\n",
    "# 可视化\n",
    "ax = importance.plot.barh(figsize = (10, 6.18), title=\"Feature Importance by RandomForest\")"
   ]
  },
  {
   "cell_type": "markdown",
   "metadata": {},
   "source": [
    "上图显示，最重要的3个特征分别是'Glucose','BMI','Age'，这都包含在单变量选择和递归消除的结果中。"
   ]
  },
  {
   "cell_type": "markdown",
   "metadata": {},
   "source": [
    "## 4. PCA\n",
    "\n",
    "PCA(Principle Component Analysis): 主成分分析。\n",
    "\n",
    "PCA是一种降维技术(dimension reduction)，属于无监督机器学习算法，也可用于特征选择。\n",
    "\n",
    "PCA的核心原理是将大量的相关变量转化为几组无关变量，这些无关变量称为主成分，它们能够保留原始数据的大部分变异。\n",
    "\n",
    "拟合PCA模型前要先选择约简的维数，这个步骤带有主观判断，如果对问题和数据集缺乏深入理解，很难做出一个正确的选择，当然可以用数学技巧解决这个问题。\n",
    "\n",
    "接下来用sklearn实现PCA。"
   ]
  },
  {
   "cell_type": "code",
   "execution_count": 14,
   "metadata": {},
   "outputs": [
    {
     "name": "stdout",
     "output_type": "stream",
     "text": [
      "original features: (768, 8)\n",
      "transform features: (768, 3)\n",
      "explained variance ratio: 97.59%\n",
      "[[-75.71465491 -35.95078264  -7.26078895]\n",
      " [-82.3582676   28.90821322  -5.49667139]\n",
      " [-74.63064344 -67.90649647  19.46180812]\n",
      " ...\n",
      " [ 32.11319827   3.3766648   -1.58786446]\n",
      " [-80.21449431 -14.18601977  12.3512639 ]\n",
      " [-81.30814972  21.62149606  -8.15276833]]\n"
     ]
    }
   ],
   "source": [
    "from sklearn.decomposition import PCA\n",
    "\n",
    "# 创建PCA对象，选择3个主成分\n",
    "pca = PCA(n_components=3)\n",
    "\n",
    "# 提取主成分\n",
    "# PCA是无监督机器学习算法，不需要提供目标变量\n",
    "res = pca.fit_transform(X)\n",
    "\n",
    "# 获取总的解释方差比率\n",
    "total_evr = np.sum(pca.explained_variance_ratio_)\n",
    "\n",
    "# 查看结果\n",
    "print(f\"original features: {X.shape}\")\n",
    "print(f\"transform features: {res.shape}\")\n",
    "print(f\"explained variance ratio: {total_evr * 100:.2f}%\")\n",
    "print(res)"
   ]
  },
  {
   "cell_type": "markdown",
   "metadata": {},
   "source": [
    "调用pca.fit_transform得到一个(n_samples, n_components)的数组，每一列都代表一个主成分，它们是原始特征的线性组合。\n",
    "\n",
    "这个数组就是新的\"特征矩阵\"。\n",
    "\n",
    "用PCA做特征选择的好处在于，能够创建几个\"新特征\"来代替数十个原始特征，数据集的维度大大降低，这些新特征不仅能够包含原始数据的大部分变异(方差)，而且彼此间不相关。\n",
    "\n",
    "缺点是无法从经济意义上解读\"新特征\"，因为每个主成分都是原始特征的线性组合，从上面的数组就可以看出，它们与原始特征完全不同。"
   ]
  },
  {
   "cell_type": "code",
   "execution_count": null,
   "metadata": {},
   "outputs": [],
   "source": []
  }
 ],
 "metadata": {
  "hide_input": false,
  "kernelspec": {
   "display_name": "pyds",
   "language": "python",
   "name": "pyds"
  },
  "language_info": {
   "codemirror_mode": {
    "name": "ipython",
    "version": 3
   },
   "file_extension": ".py",
   "mimetype": "text/x-python",
   "name": "python",
   "nbconvert_exporter": "python",
   "pygments_lexer": "ipython3",
   "version": "3.8.3"
  }
 },
 "nbformat": 4,
 "nbformat_minor": 4
}

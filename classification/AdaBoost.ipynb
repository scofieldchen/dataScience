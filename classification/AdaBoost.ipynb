{
 "cells": [
  {
   "cell_type": "markdown",
   "metadata": {},
   "source": [
    "# AdaBoost - 自适应增强"
   ]
  },
  {
   "cell_type": "markdown",
   "metadata": {},
   "source": [
    "## 1. 如何理解AdaBoost算法\n",
    "\n",
    "Boosting是指一类机器学习集成算法，其中先后添加模型，然后序列中的较新模型会校正序列中较早的模型所做的预测。\n",
    "\n",
    "AdaBoost：自适应增强，是一种增强集成的机器学习算法，并且是最早成功的增强方法之一。\n",
    "\n",
    "AdaBoost结合了来自短一级决策树（称为决策树桩）的预测。决策树桩算法被用作AdaBoost算法寻求使用许多弱模型并通过添加其他弱模型来校正其预测。\n",
    "\n",
    "训练算法包括从一个决策树开始，在训练集中找到那些错误分类的示例，并为这些示例增加更多的权重，然后在相同的数据上训练另外一棵树。重复该过程，直到添加了所需数量的树为止。\n",
    "\n",
    "该算法是为分类而开发的，涉及将集合中所有决策树做出的预测进行组合(多数投票)。还针对回归问题开发了类似的方法，在回归问题中，使用决策树的平均值进行预测。这些决策树对最终预测的贡献度将取决于它们在训练集上的性能。\n",
    "\n",
    "参考资料：\n",
    "\n",
    "* [understanding AdaBoost](https://towardsdatascience.com/understanding-adaboost-2f94f22d5bfe)\n",
    "* [sklearn - AdaBoost](https://scikit-learn.org/stable/modules/generated/sklearn.ensemble.AdaBoostClassifier.html)\n",
    "* [adaboost ensemble in python](https://machinelearningmastery.com/adaboost-ensemble-in-python/)"
   ]
  },
  {
   "cell_type": "markdown",
   "metadata": {},
   "source": [
    "## 2. sklearn实现"
   ]
  },
  {
   "cell_type": "markdown",
   "metadata": {},
   "source": [
    "### 2.1 分类问题"
   ]
  },
  {
   "cell_type": "code",
   "execution_count": 1,
   "metadata": {},
   "outputs": [],
   "source": [
    "import numpy as np\n",
    "import pandas as pd\n",
    "from sklearn.datasets import load_iris\n",
    "from sklearn.model_selection import train_test_split, cross_val_score\n",
    "from sklearn.ensemble import AdaBoostClassifier\n",
    "from sklearn import metrics"
   ]
  },
  {
   "cell_type": "markdown",
   "metadata": {},
   "source": [
    "使用iris数据集，根据四种特征预测花的类型。"
   ]
  },
  {
   "cell_type": "code",
   "execution_count": 2,
   "metadata": {},
   "outputs": [
    {
     "data": {
      "text/html": [
       "<div>\n",
       "<style scoped>\n",
       "    .dataframe tbody tr th:only-of-type {\n",
       "        vertical-align: middle;\n",
       "    }\n",
       "\n",
       "    .dataframe tbody tr th {\n",
       "        vertical-align: top;\n",
       "    }\n",
       "\n",
       "    .dataframe thead th {\n",
       "        text-align: right;\n",
       "    }\n",
       "</style>\n",
       "<table border=\"1\" class=\"dataframe\">\n",
       "  <thead>\n",
       "    <tr style=\"text-align: right;\">\n",
       "      <th></th>\n",
       "      <th>sepal length (cm)</th>\n",
       "      <th>sepal width (cm)</th>\n",
       "      <th>petal length (cm)</th>\n",
       "      <th>petal width (cm)</th>\n",
       "      <th>target</th>\n",
       "    </tr>\n",
       "  </thead>\n",
       "  <tbody>\n",
       "    <tr>\n",
       "      <th>0</th>\n",
       "      <td>5.1</td>\n",
       "      <td>3.5</td>\n",
       "      <td>1.4</td>\n",
       "      <td>0.2</td>\n",
       "      <td>0</td>\n",
       "    </tr>\n",
       "    <tr>\n",
       "      <th>1</th>\n",
       "      <td>4.9</td>\n",
       "      <td>3.0</td>\n",
       "      <td>1.4</td>\n",
       "      <td>0.2</td>\n",
       "      <td>0</td>\n",
       "    </tr>\n",
       "    <tr>\n",
       "      <th>2</th>\n",
       "      <td>4.7</td>\n",
       "      <td>3.2</td>\n",
       "      <td>1.3</td>\n",
       "      <td>0.2</td>\n",
       "      <td>0</td>\n",
       "    </tr>\n",
       "    <tr>\n",
       "      <th>3</th>\n",
       "      <td>4.6</td>\n",
       "      <td>3.1</td>\n",
       "      <td>1.5</td>\n",
       "      <td>0.2</td>\n",
       "      <td>0</td>\n",
       "    </tr>\n",
       "    <tr>\n",
       "      <th>4</th>\n",
       "      <td>5.0</td>\n",
       "      <td>3.6</td>\n",
       "      <td>1.4</td>\n",
       "      <td>0.2</td>\n",
       "      <td>0</td>\n",
       "    </tr>\n",
       "  </tbody>\n",
       "</table>\n",
       "</div>"
      ],
      "text/plain": [
       "   sepal length (cm)  sepal width (cm)  petal length (cm)  petal width (cm)  \\\n",
       "0                5.1               3.5                1.4               0.2   \n",
       "1                4.9               3.0                1.4               0.2   \n",
       "2                4.7               3.2                1.3               0.2   \n",
       "3                4.6               3.1                1.5               0.2   \n",
       "4                5.0               3.6                1.4               0.2   \n",
       "\n",
       "   target  \n",
       "0       0  \n",
       "1       0  \n",
       "2       0  \n",
       "3       0  \n",
       "4       0  "
      ]
     },
     "execution_count": 2,
     "metadata": {},
     "output_type": "execute_result"
    }
   ],
   "source": [
    "iris = load_iris()\n",
    "iris_df = pd.DataFrame(iris.data, columns=iris.feature_names)\n",
    "iris_df[\"target\"] = iris.target\n",
    "\n",
    "iris_df.head()"
   ]
  },
  {
   "cell_type": "markdown",
   "metadata": {},
   "source": [
    "调用AdaBoostClassifier接口，实现分类。"
   ]
  },
  {
   "cell_type": "code",
   "execution_count": 3,
   "metadata": {},
   "outputs": [
    {
     "name": "stdout",
     "output_type": "stream",
     "text": [
      "Accuracy:  0.956\n"
     ]
    }
   ],
   "source": [
    "# 拆分训练集和检验集\n",
    "X_train, X_test, y_train, y_test = train_test_split(\n",
    "    iris.data, iris.target, test_size=0.3, random_state=123)\n",
    "\n",
    "# 创建模型对象，使用默认超参数\n",
    "model = AdaBoostClassifier()\n",
    "\n",
    "# 拟合数据\n",
    "model.fit(X_train, y_train)\n",
    "\n",
    "# 预测\n",
    "y_pred = model.predict(X_test)\n",
    "\n",
    "# 评估预测精度\n",
    "acc = metrics.accuracy_score(y_test, y_pred)\n",
    "print(f\"Accuracy: {acc: .3f}\")"
   ]
  },
  {
   "cell_type": "markdown",
   "metadata": {},
   "source": [
    "使用K折交叉验证评估模型的真实预测能力。"
   ]
  },
  {
   "cell_type": "code",
   "execution_count": 4,
   "metadata": {},
   "outputs": [
    {
     "name": "stdout",
     "output_type": "stream",
     "text": [
      "Mean accuracy: 0.95(0.03)\n"
     ]
    }
   ],
   "source": [
    "scores = cross_val_score(model, iris.data, iris.target, scoring=\"accuracy\", cv=5, n_jobs=-1)\n",
    "scores_mean = np.mean(scores)\n",
    "scores_std = np.std(scores)\n",
    "print(f\"Mean accuracy: {scores_mean:.2f}({scores_std:.2f})\")"
   ]
  },
  {
   "cell_type": "markdown",
   "metadata": {},
   "source": [
    "### 2.2 回归问题"
   ]
  },
  {
   "cell_type": "code",
   "execution_count": 5,
   "metadata": {},
   "outputs": [],
   "source": [
    "import numpy as np\n",
    "import pandas as pd\n",
    "from sklearn.datasets import load_boston\n",
    "from sklearn.model_selection import train_test_split, cross_val_score\n",
    "from sklearn.ensemble import AdaBoostRegressor\n",
    "from sklearn import metrics"
   ]
  },
  {
   "cell_type": "markdown",
   "metadata": {},
   "source": [
    "使用boston_housing数据集，预测房屋价格中位数。"
   ]
  },
  {
   "cell_type": "code",
   "execution_count": 6,
   "metadata": {},
   "outputs": [
    {
     "data": {
      "text/html": [
       "<div>\n",
       "<style scoped>\n",
       "    .dataframe tbody tr th:only-of-type {\n",
       "        vertical-align: middle;\n",
       "    }\n",
       "\n",
       "    .dataframe tbody tr th {\n",
       "        vertical-align: top;\n",
       "    }\n",
       "\n",
       "    .dataframe thead th {\n",
       "        text-align: right;\n",
       "    }\n",
       "</style>\n",
       "<table border=\"1\" class=\"dataframe\">\n",
       "  <thead>\n",
       "    <tr style=\"text-align: right;\">\n",
       "      <th></th>\n",
       "      <th>CRIM</th>\n",
       "      <th>ZN</th>\n",
       "      <th>INDUS</th>\n",
       "      <th>CHAS</th>\n",
       "      <th>NOX</th>\n",
       "      <th>RM</th>\n",
       "      <th>AGE</th>\n",
       "      <th>DIS</th>\n",
       "      <th>RAD</th>\n",
       "      <th>TAX</th>\n",
       "      <th>PTRATIO</th>\n",
       "      <th>B</th>\n",
       "      <th>LSTAT</th>\n",
       "      <th>target</th>\n",
       "    </tr>\n",
       "  </thead>\n",
       "  <tbody>\n",
       "    <tr>\n",
       "      <th>0</th>\n",
       "      <td>0.00632</td>\n",
       "      <td>18.0</td>\n",
       "      <td>2.31</td>\n",
       "      <td>0.0</td>\n",
       "      <td>0.538</td>\n",
       "      <td>6.575</td>\n",
       "      <td>65.2</td>\n",
       "      <td>4.0900</td>\n",
       "      <td>1.0</td>\n",
       "      <td>296.0</td>\n",
       "      <td>15.3</td>\n",
       "      <td>396.90</td>\n",
       "      <td>4.98</td>\n",
       "      <td>24.0</td>\n",
       "    </tr>\n",
       "    <tr>\n",
       "      <th>1</th>\n",
       "      <td>0.02731</td>\n",
       "      <td>0.0</td>\n",
       "      <td>7.07</td>\n",
       "      <td>0.0</td>\n",
       "      <td>0.469</td>\n",
       "      <td>6.421</td>\n",
       "      <td>78.9</td>\n",
       "      <td>4.9671</td>\n",
       "      <td>2.0</td>\n",
       "      <td>242.0</td>\n",
       "      <td>17.8</td>\n",
       "      <td>396.90</td>\n",
       "      <td>9.14</td>\n",
       "      <td>21.6</td>\n",
       "    </tr>\n",
       "    <tr>\n",
       "      <th>2</th>\n",
       "      <td>0.02729</td>\n",
       "      <td>0.0</td>\n",
       "      <td>7.07</td>\n",
       "      <td>0.0</td>\n",
       "      <td>0.469</td>\n",
       "      <td>7.185</td>\n",
       "      <td>61.1</td>\n",
       "      <td>4.9671</td>\n",
       "      <td>2.0</td>\n",
       "      <td>242.0</td>\n",
       "      <td>17.8</td>\n",
       "      <td>392.83</td>\n",
       "      <td>4.03</td>\n",
       "      <td>34.7</td>\n",
       "    </tr>\n",
       "    <tr>\n",
       "      <th>3</th>\n",
       "      <td>0.03237</td>\n",
       "      <td>0.0</td>\n",
       "      <td>2.18</td>\n",
       "      <td>0.0</td>\n",
       "      <td>0.458</td>\n",
       "      <td>6.998</td>\n",
       "      <td>45.8</td>\n",
       "      <td>6.0622</td>\n",
       "      <td>3.0</td>\n",
       "      <td>222.0</td>\n",
       "      <td>18.7</td>\n",
       "      <td>394.63</td>\n",
       "      <td>2.94</td>\n",
       "      <td>33.4</td>\n",
       "    </tr>\n",
       "    <tr>\n",
       "      <th>4</th>\n",
       "      <td>0.06905</td>\n",
       "      <td>0.0</td>\n",
       "      <td>2.18</td>\n",
       "      <td>0.0</td>\n",
       "      <td>0.458</td>\n",
       "      <td>7.147</td>\n",
       "      <td>54.2</td>\n",
       "      <td>6.0622</td>\n",
       "      <td>3.0</td>\n",
       "      <td>222.0</td>\n",
       "      <td>18.7</td>\n",
       "      <td>396.90</td>\n",
       "      <td>5.33</td>\n",
       "      <td>36.2</td>\n",
       "    </tr>\n",
       "  </tbody>\n",
       "</table>\n",
       "</div>"
      ],
      "text/plain": [
       "      CRIM    ZN  INDUS  CHAS    NOX     RM   AGE     DIS  RAD    TAX  \\\n",
       "0  0.00632  18.0   2.31   0.0  0.538  6.575  65.2  4.0900  1.0  296.0   \n",
       "1  0.02731   0.0   7.07   0.0  0.469  6.421  78.9  4.9671  2.0  242.0   \n",
       "2  0.02729   0.0   7.07   0.0  0.469  7.185  61.1  4.9671  2.0  242.0   \n",
       "3  0.03237   0.0   2.18   0.0  0.458  6.998  45.8  6.0622  3.0  222.0   \n",
       "4  0.06905   0.0   2.18   0.0  0.458  7.147  54.2  6.0622  3.0  222.0   \n",
       "\n",
       "   PTRATIO       B  LSTAT  target  \n",
       "0     15.3  396.90   4.98    24.0  \n",
       "1     17.8  396.90   9.14    21.6  \n",
       "2     17.8  392.83   4.03    34.7  \n",
       "3     18.7  394.63   2.94    33.4  \n",
       "4     18.7  396.90   5.33    36.2  "
      ]
     },
     "execution_count": 6,
     "metadata": {},
     "output_type": "execute_result"
    }
   ],
   "source": [
    "boston = load_boston()\n",
    "boston_df = pd.DataFrame(boston.data, columns=boston.feature_names)\n",
    "boston_df[\"target\"] = boston.target\n",
    "\n",
    "boston_df.head()"
   ]
  },
  {
   "cell_type": "markdown",
   "metadata": {},
   "source": [
    "调用AdaBoostRegressor接口，建立回归模型。"
   ]
  },
  {
   "cell_type": "code",
   "execution_count": 7,
   "metadata": {},
   "outputs": [
    {
     "name": "stdout",
     "output_type": "stream",
     "text": [
      "MAE: 2.844\n"
     ]
    }
   ],
   "source": [
    "# 拆分训练集和检验集\n",
    "X_train, X_test, y_train, y_test = train_test_split(\n",
    "    boston.data, boston.target, test_size=0.3, random_state=123)\n",
    "\n",
    "# 创建模型对象，使用默认超参数\n",
    "model = AdaBoostRegressor()\n",
    "\n",
    "# 拟合数据\n",
    "model.fit(X_train, y_train)\n",
    "\n",
    "# 预测\n",
    "y_pred = model.predict(X_test)\n",
    "\n",
    "# 评估预测精度，MAE（平均绝对误差）\n",
    "mae = metrics.mean_absolute_error(y_test, y_pred)\n",
    "print(f\"MAE: {mae:.3f}\")"
   ]
  },
  {
   "cell_type": "markdown",
   "metadata": {},
   "source": [
    "使用K折交叉验证评估模型的预测能力。\n",
    "\n",
    "理解scoring参数：cross_val_score的scoring参数指定一个计分器对象，用于评估模型的预测精度，所有计分器对象都遵循一个约定，返回值越高预测精度越高，所以在回归模型中，类似metrics.mean_absolute_error的计分器，可用作'neg_mean_absolute_error'。\n",
    "\n",
    "所有可选计分器参考：[官方文档](https://scikit-learn.org/stable/modules/model_evaluation.html)"
   ]
  },
  {
   "cell_type": "code",
   "execution_count": 8,
   "metadata": {},
   "outputs": [
    {
     "name": "stdout",
     "output_type": "stream",
     "text": [
      "Mean MAE: 3.27(0.70)\n"
     ]
    }
   ],
   "source": [
    "scores = cross_val_score(model, boston.data, boston.target,\n",
    "                         scoring=\"neg_mean_absolute_error\",\n",
    "                         cv=5, n_jobs=-1)\n",
    "scores_mean = np.mean(np.abs(scores))\n",
    "scores_std = np.std(np.abs(scores))\n",
    "print(f\"Mean MAE: {scores_mean:.2f}({scores_std:.2f})\")"
   ]
  },
  {
   "cell_type": "markdown",
   "metadata": {},
   "source": [
    "## 3. 模型优化\n",
    "\n",
    "在学会使用sklearn实现分类和回归模型后，接下来学习如何优化模型，探索几个重要的超参数对模型表现的影响。\n",
    "\n",
    "我们会创建虚拟数据集，并使用AdaBoostClassifier分类模型做说明。"
   ]
  },
  {
   "cell_type": "code",
   "execution_count": 9,
   "metadata": {},
   "outputs": [],
   "source": [
    "import numpy as np\n",
    "import pandas as pd\n",
    "import matplotlib.pyplot as plt\n",
    "import seaborn as sns\n",
    "from sklearn.datasets import make_classification\n",
    "from sklearn.ensemble import AdaBoostClassifier\n",
    "from sklearn.tree import DecisionTreeClassifier\n",
    "from sklearn.model_selection import cross_val_score\n",
    "\n",
    "\n",
    "%matplotlib inline\n",
    "plt.style.use(\"ggplot\")"
   ]
  },
  {
   "cell_type": "code",
   "execution_count": 10,
   "metadata": {},
   "outputs": [],
   "source": [
    "# 创建虚拟数据集\n",
    "X, y = make_classification(\n",
    "    n_samples=1000,\n",
    "    n_features=20,\n",
    "    n_informative=10,\n",
    "    n_redundant=10,\n",
    "    n_classes=2,\n",
    "    random_state=123\n",
    ")"
   ]
  },
  {
   "cell_type": "markdown",
   "metadata": {},
   "source": [
    "### 3.1 决策树的数量\n",
    "\n",
    "AdaBoost算法的一个重要的超参数是使用的决策树的数量。\n",
    "\n",
    "集成算法使用的每棵决策树都是弱分类器，每颗决策树都有一定的预测能力，但性能一般。要使集成模型表现良好，添加到模型中的树的数量必须足够多，通常为数百甚至数千。\n",
    "\n",
    "树的最大数量可以通过\"n_estimators\"设置，默认为50。"
   ]
  },
  {
   "cell_type": "code",
   "execution_count": 11,
   "metadata": {},
   "outputs": [],
   "source": [
    "# 探索树的最大数量\n",
    "n_estimators_list = [5, 10, 20, 30, 40, 50, 100, 200, 300, 400, 500, 1000]\n",
    "\n",
    "# 记录给定树数量的预测评分\n",
    "scores = []\n",
    "\n",
    "for n_estimators in n_estimators_list:\n",
    "    model = AdaBoostClassifier(n_estimators=n_estimators)\n",
    "    cvscores = cross_val_score(\n",
    "        model, X, y, scoring=\"accuracy\", cv=5, n_jobs=-1)\n",
    "    scores.append(np.mean(cvscores))"
   ]
  },
  {
   "cell_type": "code",
   "execution_count": 12,
   "metadata": {},
   "outputs": [
    {
     "data": {
      "text/plain": [
       "Text(0, 0.5, 'Accuracy')"
      ]
     },
     "execution_count": 12,
     "metadata": {},
     "output_type": "execute_result"
    },
    {
     "data": {
      "image/png": "[encoded data removed]",
      "text/plain": [
       "<Figure size 864x504 with 1 Axes>"
      ]
     },
     "metadata": {},
     "output_type": "display_data"
    }
   ],
   "source": [
    "fig, ax = plt.subplots(figsize=(12, 7))\n",
    "ax.plot(n_estimators_list, scores, \"r-o\", markersize=10)\n",
    "ax.set_title(\"Accuracy vs Number of Trees\")\n",
    "ax.set_xlabel(\"Number of Trees\")\n",
    "ax.set_ylabel(\"Accuracy\")"
   ]
  },
  {
   "cell_type": "markdown",
   "metadata": {},
   "source": [
    "当树的数量很少时，预测精度很低，增加数量会迅速提升模型性能，当接近或超过50后，逐渐稳定在一个区间。当树的数量太多，预测精度反而降低，因为模型过度拟合了数据。"
   ]
  },
  {
   "cell_type": "markdown",
   "metadata": {},
   "source": [
    "### 3.2 决策树的深度\n",
    "\n",
    "默认情况下，将具有一个级别的决策树用作弱学习器。\n",
    "\n",
    "通过增加决策树的深度，我们可以使整体中使用的模型不那么脆弱。\n",
    "\n",
    "以下示例探讨了增加DecisionTreeClassifier的最大深度对AdaBoost集成的影响。"
   ]
  },
  {
   "cell_type": "code",
   "execution_count": 13,
   "metadata": {},
   "outputs": [],
   "source": [
    "# 决策树的最大深度\n",
    "depth_list = np.arange(1, 11)\n",
    "\n",
    "scores = []\n",
    "for depth in depth_list:\n",
    "    # 创建基础模型\n",
    "    base = DecisionTreeClassifier(max_depth=depth)\n",
    "    # 创建集成分类器\n",
    "    model = AdaBoostClassifier(base_estimator=base)\n",
    "    cvscores = cross_val_score(model, X, y, scoring=\"accuracy\", cv=5, n_jobs=-1)\n",
    "    scores.append(np.mean(cvscores))"
   ]
  },
  {
   "cell_type": "code",
   "execution_count": 14,
   "metadata": {},
   "outputs": [
    {
     "data": {
      "text/plain": [
       "Text(0, 0.5, 'Accuracy')"
      ]
     },
     "execution_count": 14,
     "metadata": {},
     "output_type": "execute_result"
    },
    {
     "data": {
      "image/png": "[encoded data removed]",
      "text/plain": [
       "<Figure size 864x504 with 1 Axes>"
      ]
     },
     "metadata": {},
     "output_type": "display_data"
    }
   ],
   "source": [
    "fig, ax = plt.subplots(figsize=(12, 7))\n",
    "ax.plot(depth_list, scores, \"r-o\", markersize=12)\n",
    "ax.set_title(\"Accuracy vs Max depth of weak learner\")\n",
    "ax.set_xlabel(\"Max depth\")\n",
    "ax.set_ylabel(\"Accuracy\")"
   ]
  },
  {
   "cell_type": "markdown",
   "metadata": {},
   "source": [
    "随着作为弱分类器的决策树的最大深度的上升，集成算法的性能也持续上升。"
   ]
  },
  {
   "cell_type": "markdown",
   "metadata": {},
   "source": [
    "### 3.3 学习率\n",
    "\n",
    "AdaBoost的一个重要参数是learning_rate(学习率)，控制每棵决策树对整体预测的贡献。\n",
    "\n",
    "learning_rate默认等于1，根据集成模型使用的决策树数量，较小或较大的值可能是合适的。\n",
    "\n",
    "集成模型使用的决策树越多，学习率应该越低，相反使用的决策树越少，学习率应该越高。"
   ]
  },
  {
   "cell_type": "code",
   "execution_count": 15,
   "metadata": {},
   "outputs": [],
   "source": [
    "# 探索学习率对预测精度的影响\n",
    "learning_rate_list = np.arange(0.1, 2.1, 0.1)\n",
    "\n",
    "scores = []\n",
    "for learning_rate in learning_rate_list:\n",
    "    model = AdaBoostClassifier(learning_rate=learning_rate)\n",
    "    cvscores = cross_val_score(model, X, y, scoring=\"accuracy\", cv=5, n_jobs=-1)\n",
    "    scores.append(np.mean(cvscores))"
   ]
  },
  {
   "cell_type": "code",
   "execution_count": 16,
   "metadata": {},
   "outputs": [
    {
     "data": {
      "text/plain": [
       "Text(0, 0.5, 'Accuracy')"
      ]
     },
     "execution_count": 16,
     "metadata": {},
     "output_type": "execute_result"
    },
    {
     "data": {
      "image/png": "[encoded data removed]",
      "text/plain": [
       "<Figure size 864x504 with 1 Axes>"
      ]
     },
     "metadata": {},
     "output_type": "display_data"
    }
   ],
   "source": [
    "fig, ax = plt.subplots(figsize=(12, 7))\n",
    "ax.plot(learning_rate_list, scores, \"r-o\", markersize=12)\n",
    "ax.set_title(\"Accuracy vs Learning rate\")\n",
    "ax.set_xlabel(\"Learning rate\")\n",
    "ax.set_ylabel(\"Accuracy\")"
   ]
  },
  {
   "cell_type": "markdown",
   "metadata": {},
   "source": [
    "当弱分类器的数量或最大深度等参数保持固定时，学习率在超过默认值1.0后继续增加，会导致预测精度大幅下降。"
   ]
  },
  {
   "cell_type": "markdown",
   "metadata": {},
   "source": [
    "### 3.4 弱学习器\n",
    "\n",
    "集成算法默认使用决策树作为弱学习器，但可以使用其它算法，如逻辑回归。\n",
    "\n",
    "sklearn要求使用的弱学习器必须支持加权样本(weighted samples)，因为AdaBoost通过基于训练集的加权版本拟合模型来创建集合的方式。\n",
    "\n",
    "参数\"base_estimator\"指定弱学习器，在分类的情况下，基本模型还必须支持预测概率或类似概率的分数。\n",
    "\n",
    "接下来使用逻辑回归作为说明。"
   ]
  },
  {
   "cell_type": "code",
   "execution_count": 19,
   "metadata": {},
   "outputs": [
    {
     "name": "stdout",
     "output_type": "stream",
     "text": [
      "Accuracy: 0.79\n"
     ]
    }
   ],
   "source": [
    "from sklearn.linear_model import LogisticRegression\n",
    "\n",
    "model = AdaBoostClassifier(base_estimator=LogisticRegression())\n",
    "cvscores = cross_val_score(model, X, y, scoring=\"accuracy\", cv=5, n_jobs=-1)\n",
    "mean_score = np.mean(cvscores)\n",
    "print(f\"Accuracy: {mean_score:.2f}\")"
   ]
  },
  {
   "cell_type": "code",
   "execution_count": null,
   "metadata": {},
   "outputs": [],
   "source": []
  }
 ],
 "metadata": {
  "kernelspec": {
   "display_name": "pyds",
   "language": "python",
   "name": "pyds"
  },
  "language_info": {
   "codemirror_mode": {
    "name": "ipython",
    "version": 3
   },
   "file_extension": ".py",
   "mimetype": "text/x-python",
   "name": "python",
   "nbconvert_exporter": "python",
   "pygments_lexer": "ipython3",
   "version": "3.8.3"
  }
 },
 "nbformat": 4,
 "nbformat_minor": 4
}

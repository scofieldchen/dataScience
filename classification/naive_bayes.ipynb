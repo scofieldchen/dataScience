{
 "cells": [
  {
   "cell_type": "markdown",
   "metadata": {},
   "source": [
    "## 1. 工作原理\n",
    "\n",
    "贝叶斯模型是最简单的分类模型，基于贝叶斯理论(条件概率)。贝叶斯分类器的运算速度极快，且预测精度很高。\n",
    "\n",
    "参考：\n",
    "\n",
    "* [datacamp](https://www.datacamp.com/community/tutorials/naive-bayes-scikit-learn)\n",
    "* [machinelearningmastery](https://machinelearningmastery.com/naive-bayes-tutorial-for-machine-learning/)\n",
    "* [machinelearningplus](https://www.machinelearningplus.com/predictive-modeling/how-naive-bayes-algorithm-works-with-example-and-full-code/)\n",
    "\n",
    "核心术语：\n",
    "\n",
    "* 条件概率：$P(B/A) = \\frac{P(B) * P(A/B)}{P(A)}$\n",
    "* 先验概率：某结果发生的概率，通常基于该结果发生的频率统计\n",
    "* 后验概率：在给定预测因子的情况下，出现某结果的概率\n",
    "\n",
    "朴素贝叶斯模型的理解可以分为两个部分：“朴素(naive)”的含义是对特征的分布做出严格的假设，例如服从正态分布或多项式分布；贝叶斯模型是指利用贝叶斯理论即条件概率，评估目标变量属于某类别的概率。\n",
    "\n",
    "朴素贝叶斯模型的工作原理可以用下列公式简单概括：\n",
    "\n",
    "$$P(L/features) = \\frac{P(L) * P(features/L)}{P(features)}$$\n",
    "\n",
    "* $P(features)$: 某特征出现的概率\n",
    "* $P(L)$: 目标变量某类别出现的概率\n",
    "* $P(features/L)$: 某类别出现的情况下具备某特征的概率\n",
    "* $P(L/features)$: 某些特征出现的情况下某类别出现的概率"
   ]
  },
  {
   "cell_type": "markdown",
   "metadata": {},
   "source": [
    "## 2. 简单案例分析\n",
    "\n",
    "根据天气状况预测是否进行球赛。\n",
    "\n",
    "首先收集天气状况和球赛数据，天气状况分为'sunny','rainy','overcast'三类，球赛结果分为'play','no'两类。\n",
    "\n",
    "如何应用贝叶斯理论？\n",
    "\n",
    "1. 根据样本计算先验概率，如$P(whether=sunny)$，$P(play=yes)$等\n",
    "2. 使用条件概率公式，计算$P(play/whether)$\n",
    "\n",
    "![simple example](pictures/naive_bayes_example.png)"
   ]
  },
  {
   "cell_type": "markdown",
   "metadata": {},
   "source": [
    "## 3. Sklearn实现\n",
    "\n",
    "基于特征服从不同分布的假设，sklearn实现了3种不同的模型：\n",
    "\n",
    "1. 高斯朴素贝叶斯 --> 假设特征服从正态分布\n",
    "2. 多项式朴素贝叶斯 --> 假设特征服从多项式分布\n",
    "3. 伯努利朴素贝叶斯 --> 假设特征服从二项分布"
   ]
  },
  {
   "cell_type": "markdown",
   "metadata": {},
   "source": [
    "### 3.1 高斯朴素贝叶斯\n",
    "\n",
    "模型假设特征服从正态分布，且相互独立。\n",
    "\n",
    "sklearn提供的接口函数：GaussianNB，无需调整超参数。\n",
    "\n",
    "![gaussian_naive_bayes](pictures/gaussian_naive_bayes.png)"
   ]
  },
  {
   "cell_type": "code",
   "execution_count": 2,
   "metadata": {},
   "outputs": [],
   "source": [
    "import numpy as np\n",
    "import pandas as pd\n",
    "import matplotlib.pyplot as plt\n",
    "from sklearn.datasets import load_iris\n",
    "from sklearn.naive_bayes import GaussianNB\n",
    "from sklearn.model_selection import train_test_split\n",
    "from sklearn.metrics import confusion_matrix, accuracy_score\n",
    "import seaborn as sns\n",
    "%matplotlib inline"
   ]
  },
  {
   "cell_type": "code",
   "execution_count": 3,
   "metadata": {},
   "outputs": [
    {
     "name": "stdout",
     "output_type": "stream",
     "text": [
      "Accuracy score = 0.967\n"
     ]
    },
    {
     "data": {
      "image/png": "[encoded data removed]",
      "text/plain": [
       "<Figure size 720x432 with 1 Axes>"
      ]
     },
     "metadata": {
      "needs_background": "light"
     },
     "output_type": "display_data"
    }
   ],
   "source": [
    "# 使用IRIS数据集\n",
    "iris = load_iris()\n",
    "X, y = iris.data, iris.target\n",
    "\n",
    "# 划分训练集和检验集\n",
    "X_train, X_test, y_train, y_test = train_test_split(X, y, test_size=0.2, random_state=123)\n",
    "\n",
    "# 创建模型对象\n",
    "model = GaussianNB()\n",
    "\n",
    "# 拟合数据\n",
    "model.fit(X_train, y_train)\n",
    "\n",
    "# 模型预测\n",
    "y_pred = model.predict(X_test)\n",
    "\n",
    "# 评估模型预测能力，混淆矩阵和准确率\n",
    "fig, ax = plt.subplots(figsize=(10, 6))\n",
    "cm = confusion_matrix(y_test, y_pred)\n",
    "sns.heatmap(cm, square=True, annot=True, fmt=\"d\", cbar=False, ax=ax,\n",
    "            xticklabels=iris.target_names,\n",
    "            yticklabels=iris.target_names)\n",
    "\n",
    "acc = accuracy_score(y_test, y_pred)\n",
    "print(f\"Accuracy score = {round(acc,3)}\")"
   ]
  },
  {
   "cell_type": "markdown",
   "metadata": {},
   "source": [
    "model.predict_prob用于计算目标变量每个类别的概率值，返回$n*m$矩阵，$n$是测试集的观测值数量，$m$是目标变量类别的数量，按照类别名称(编码)排列，可通过model.classes_属性获取列名称。"
   ]
  },
  {
   "cell_type": "code",
   "execution_count": 4,
   "metadata": {},
   "outputs": [
    {
     "data": {
      "text/html": [
       "<div>\n",
       "<style scoped>\n",
       "    .dataframe tbody tr th:only-of-type {\n",
       "        vertical-align: middle;\n",
       "    }\n",
       "\n",
       "    .dataframe tbody tr th {\n",
       "        vertical-align: top;\n",
       "    }\n",
       "\n",
       "    .dataframe thead th {\n",
       "        text-align: right;\n",
       "    }\n",
       "</style>\n",
       "<table border=\"1\" class=\"dataframe\">\n",
       "  <thead>\n",
       "    <tr style=\"text-align: right;\">\n",
       "      <th></th>\n",
       "      <th>0</th>\n",
       "      <th>1</th>\n",
       "      <th>2</th>\n",
       "    </tr>\n",
       "  </thead>\n",
       "  <tbody>\n",
       "    <tr>\n",
       "      <th>0</th>\n",
       "      <td>0.0</td>\n",
       "      <td>0.92</td>\n",
       "      <td>0.08</td>\n",
       "    </tr>\n",
       "    <tr>\n",
       "      <th>1</th>\n",
       "      <td>0.0</td>\n",
       "      <td>0.00</td>\n",
       "      <td>1.00</td>\n",
       "    </tr>\n",
       "    <tr>\n",
       "      <th>2</th>\n",
       "      <td>0.0</td>\n",
       "      <td>0.00</td>\n",
       "      <td>1.00</td>\n",
       "    </tr>\n",
       "    <tr>\n",
       "      <th>3</th>\n",
       "      <td>0.0</td>\n",
       "      <td>1.00</td>\n",
       "      <td>0.00</td>\n",
       "    </tr>\n",
       "    <tr>\n",
       "      <th>4</th>\n",
       "      <td>1.0</td>\n",
       "      <td>0.00</td>\n",
       "      <td>0.00</td>\n",
       "    </tr>\n",
       "    <tr>\n",
       "      <th>5</th>\n",
       "      <td>0.0</td>\n",
       "      <td>0.27</td>\n",
       "      <td>0.73</td>\n",
       "    </tr>\n",
       "    <tr>\n",
       "      <th>6</th>\n",
       "      <td>0.0</td>\n",
       "      <td>1.00</td>\n",
       "      <td>0.00</td>\n",
       "    </tr>\n",
       "    <tr>\n",
       "      <th>7</th>\n",
       "      <td>1.0</td>\n",
       "      <td>0.00</td>\n",
       "      <td>0.00</td>\n",
       "    </tr>\n",
       "    <tr>\n",
       "      <th>8</th>\n",
       "      <td>1.0</td>\n",
       "      <td>0.00</td>\n",
       "      <td>0.00</td>\n",
       "    </tr>\n",
       "    <tr>\n",
       "      <th>9</th>\n",
       "      <td>0.0</td>\n",
       "      <td>1.00</td>\n",
       "      <td>0.00</td>\n",
       "    </tr>\n",
       "  </tbody>\n",
       "</table>\n",
       "</div>"
      ],
      "text/plain": [
       "     0     1     2\n",
       "0  0.0  0.92  0.08\n",
       "1  0.0  0.00  1.00\n",
       "2  0.0  0.00  1.00\n",
       "3  0.0  1.00  0.00\n",
       "4  1.0  0.00  0.00\n",
       "5  0.0  0.27  0.73\n",
       "6  0.0  1.00  0.00\n",
       "7  1.0  0.00  0.00\n",
       "8  1.0  0.00  0.00\n",
       "9  0.0  1.00  0.00"
      ]
     },
     "execution_count": 4,
     "metadata": {},
     "output_type": "execute_result"
    }
   ],
   "source": [
    "probs = model.predict_proba(X_test)\n",
    "probs_df = pd.DataFrame(np.round(probs, 2), columns=model.classes_)\n",
    "probs_df.head(10)"
   ]
  },
  {
   "cell_type": "markdown",
   "metadata": {},
   "source": [
    "### 3.2 多项式朴素贝叶斯\n",
    "\n",
    "模型假设特征服从多项式分布，适用于特征是计数或频率的情况，常用于文本分类，在文本分类中会把文本转化为词语计数，然后拟合分类模型。\n",
    "\n",
    "sklearn提供的接口函数：MultinomialNB, 有一个重要的超参数'alpha'，通常使用默认值'alpha=1.0'."
   ]
  },
  {
   "cell_type": "code",
   "execution_count": 6,
   "metadata": {},
   "outputs": [],
   "source": [
    "from sklearn.datasets import fetch_20newsgroups\n",
    "from sklearn.feature_extraction.text import TfidfVectorizer\n",
    "from sklearn.naive_bayes import MultinomialNB\n",
    "from sklearn import metrics\n",
    "%matplotlib inline"
   ]
  },
  {
   "cell_type": "code",
   "execution_count": 11,
   "metadata": {},
   "outputs": [
    {
     "name": "stdout",
     "output_type": "stream",
     "text": [
      "0.8016759776536313\n"
     ]
    },
    {
     "data": {
      "image/png": "[encoded data removed]",
      "text/plain": [
       "<Figure size 720x432 with 2 Axes>"
      ]
     },
     "metadata": {
      "needs_background": "light"
     },
     "output_type": "display_data"
    }
   ],
   "source": [
    "# 使用'newsgroups'数据集，包含18000多条新闻，被划分为20个不同类别\n",
    "# 为简单起见，加载几个类别的数据\n",
    "categories = [\n",
    "    'talk.religion.misc',\n",
    "    'soc.religion.christian',\n",
    "    'sci.space',\n",
    "    'comp.graphics'\n",
    "]\n",
    "train = fetch_20newsgroups(subset=\"train\", categories=categories)\n",
    "test = fetch_20newsgroups(subset=\"test\", categories=categories)\n",
    "\n",
    "# 将文本数据转化为数值特征\n",
    "vec = TfidfVectorizer()\n",
    "X_train = vec.fit_transform(train.data)\n",
    "X_test = vec.transform(test.data)\n",
    "y_train = train.target\n",
    "y_test = test.target\n",
    "\n",
    "# 多项式朴素贝叶斯分类器\n",
    "model = MultinomialNB(alpha=1.0)\n",
    "\n",
    "# 拟合数据，训练模型\n",
    "model.fit(X_train, y_train)\n",
    "\n",
    "# 预测\n",
    "y_pred = model.predict(X_test)\n",
    "\n",
    "# 评估预测精度\n",
    "fig, ax = plt.subplots(figsize=(10, 6))\n",
    "metrics.plot_confusion_matrix(model, X_test, y_test, values_format=\"d\", ax=ax)\n",
    "\n",
    "print(metrics.accuracy_score(y_test, y_pred))"
   ]
  },
  {
   "cell_type": "markdown",
   "metadata": {},
   "source": [
    "### 3.3 伯努利朴素贝叶斯\n",
    "\n",
    "伯努利朴素贝叶斯假设特征服从伯努利分布，即特征只能取两个值，通常用1和0表示，1表示感兴趣的事情发生，0表示不发生。\n",
    "\n",
    "sklearn提供的接口函数：BernoulliNB, 有一个重要的超参数'binarize'，用于将普通的连续性变量转化为二元变量。"
   ]
  },
  {
   "cell_type": "code",
   "execution_count": 18,
   "metadata": {},
   "outputs": [],
   "source": [
    "from sklearn.datasets import make_classification\n",
    "from sklearn.model_selection import train_test_split\n",
    "from sklearn.naive_bayes import BernoulliNB\n",
    "from sklearn import metrics\n",
    "import matplotlib.pyplot as plt\n",
    "%matplotlib inline"
   ]
  },
  {
   "cell_type": "code",
   "execution_count": 22,
   "metadata": {},
   "outputs": [
    {
     "name": "stdout",
     "output_type": "stream",
     "text": [
      "0.8933333333333333\n"
     ]
    },
    {
     "data": {
      "image/png": "[encoded data removed]",
      "text/plain": [
       "<Figure size 720x432 with 2 Axes>"
      ]
     },
     "metadata": {
      "needs_background": "light"
     },
     "output_type": "display_data"
    }
   ],
   "source": [
    "# 创建虚假数据集\n",
    "# 注意：特征是连续性变量，并非单纯的二元变量，特征转换将在创建模型那步完成\n",
    "X, y = make_classification(n_samples=300, n_features=2, n_informative=2,\n",
    "                           n_redundant=0, random_state=123)\n",
    "\n",
    "# 划分训练集和检验集\n",
    "X_train, X_test, y_train, y_test = train_test_split(X, y, test_size=0.25, random_state=123)\n",
    "\n",
    "# 创建模型，选择超参数\n",
    "# 如果特征已经是伯努利变量，可直接拟合模型\n",
    "# 如果特征是普通连续性变量，可使用binarize=threshold将特征转化为二元变量\n",
    "model = BernoulliNB(binarize=0.0)  # 使用0作为划分的阈值\n",
    "\n",
    "# 拟合数据\n",
    "model.fit(X_train, y_train)\n",
    "\n",
    "# 预测\n",
    "y_pred = model.predict(X_test)\n",
    "\n",
    "# 评估预测精度\n",
    "fig, ax = plt.subplots(figsize=(10, 6))\n",
    "metrics.plot_confusion_matrix(model, X_test, y_test, values_format=\"d\", ax=ax)\n",
    "print(metrics.accuracy_score(y_test, y_pred))"
   ]
  },
  {
   "cell_type": "code",
   "execution_count": null,
   "metadata": {},
   "outputs": [],
   "source": []
  }
 ],
 "metadata": {
  "kernelspec": {
   "display_name": "Python 3",
   "language": "python",
   "name": "python3"
  },
  "language_info": {
   "codemirror_mode": {
    "name": "ipython",
    "version": 3
   },
   "file_extension": ".py",
   "mimetype": "text/x-python",
   "name": "python",
   "nbconvert_exporter": "python",
   "pygments_lexer": "ipython3",
   "version": "3.7.3"
  }
 },
 "nbformat": 4,
 "nbformat_minor": 4
}

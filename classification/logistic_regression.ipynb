{
 "cells": [
  {
   "cell_type": "markdown",
   "metadata": {},
   "source": [
    "## 1. 工作原理\n",
    "\n",
    "逻辑回归(Logistic Regression)：分类模型，专门用于解决二元分类问题。二元分类是指目标变量只有两个水平值，例如判断性别为'男'或'女'，预测股票价格'上涨'或'下跌'，贷款人'还款'或'违约'。逻辑回归的建模思路与传统的线性回归相似。\n",
    "\n",
    "**逻辑回归能否用于多变量分类？**\n",
    "\n",
    "在二元分类问题中，目标变量只有两个水平值，通常记为'1'和'0'，1代表感兴趣的事情发生，0代表没有发生。\n",
    "\n",
    "我们继续采用线性回归的建模方式，但碍于目标变量是分类变量，建模的目的转为预测$p(Y=1)$，即感兴趣的事情发生的概率，采用如下方程：\n",
    "\n",
    "$$p = \\frac{1}{(1 + e^{\\beta_0 + \\beta_1X_1 + \\beta_2X_2 ... + \\beta_kX_k})}$$\n",
    "\n",
    "这个方程保证了概率p的取值范围在$[0,1]$之间，但由于参数是非线性的，引入一个新变量$Odds(Y=1) = \\frac{p}{1-p}$，即感兴趣的事情发生的“几率”，等于事件发生的概率除以事件不发生的概率，于是方程转变为：\n",
    "\n",
    "$$Odds(Y=1) = e^{\\beta_0 + \\beta_1X_1 + \\beta_2X_2 ... + \\beta_kX_k}$$\n",
    "\n",
    "方程两边取自然对数，转变为熟悉的线性方程，该方程也被称为**Logit函数**：\n",
    "\n",
    "$$log(Odds(Y=1)) = \\beta_0 + \\beta_1X_1 + \\beta_2X_2 ... + \\beta_kX_k$$\n",
    "\n",
    "结论：逻辑回归用预测变量来预测$Y=1$的概率，尽管上述方程的因变量是“对数几率”，但很容易从几率反推出概率。实际应用中通常采取'cut-off rules'，即设定一个概率阈值，例如0.5，当$p(Y=1) > 0.5$时认为$Y=1$，反之$Y=0$，这样就把概率值重新转化为分类变量。"
   ]
  },
  {
   "cell_type": "markdown",
   "metadata": {},
   "source": [
    "## 2. Sklearn实现"
   ]
  },
  {
   "cell_type": "code",
   "execution_count": 2,
   "metadata": {},
   "outputs": [],
   "source": [
    "import pandas as pd\n",
    "from sklearn.model_selection import train_test_split\n",
    "from sklearn.linear_model import LogisticRegression\n",
    "from sklearn.metrics import classification_report"
   ]
  },
  {
   "cell_type": "markdown",
   "metadata": {},
   "source": [
    "我们用diabetes数据集，目标是预测病人是否患有糖尿病，患病记为1，不患病记为0."
   ]
  },
  {
   "cell_type": "code",
   "execution_count": 4,
   "metadata": {},
   "outputs": [
    {
     "data": {
      "text/html": [
       "<div>\n",
       "<style scoped>\n",
       "    .dataframe tbody tr th:only-of-type {\n",
       "        vertical-align: middle;\n",
       "    }\n",
       "\n",
       "    .dataframe tbody tr th {\n",
       "        vertical-align: top;\n",
       "    }\n",
       "\n",
       "    .dataframe thead th {\n",
       "        text-align: right;\n",
       "    }\n",
       "</style>\n",
       "<table border=\"1\" class=\"dataframe\">\n",
       "  <thead>\n",
       "    <tr style=\"text-align: right;\">\n",
       "      <th></th>\n",
       "      <th>pregnant</th>\n",
       "      <th>glucose</th>\n",
       "      <th>bp</th>\n",
       "      <th>skin</th>\n",
       "      <th>insulin</th>\n",
       "      <th>bmi</th>\n",
       "      <th>pedigree</th>\n",
       "      <th>age</th>\n",
       "      <th>label</th>\n",
       "    </tr>\n",
       "  </thead>\n",
       "  <tbody>\n",
       "    <tr>\n",
       "      <th>0</th>\n",
       "      <td>6</td>\n",
       "      <td>148</td>\n",
       "      <td>72</td>\n",
       "      <td>35</td>\n",
       "      <td>0</td>\n",
       "      <td>33.6</td>\n",
       "      <td>0.627</td>\n",
       "      <td>50</td>\n",
       "      <td>1</td>\n",
       "    </tr>\n",
       "    <tr>\n",
       "      <th>1</th>\n",
       "      <td>1</td>\n",
       "      <td>85</td>\n",
       "      <td>66</td>\n",
       "      <td>29</td>\n",
       "      <td>0</td>\n",
       "      <td>26.6</td>\n",
       "      <td>0.351</td>\n",
       "      <td>31</td>\n",
       "      <td>0</td>\n",
       "    </tr>\n",
       "    <tr>\n",
       "      <th>2</th>\n",
       "      <td>8</td>\n",
       "      <td>183</td>\n",
       "      <td>64</td>\n",
       "      <td>0</td>\n",
       "      <td>0</td>\n",
       "      <td>23.3</td>\n",
       "      <td>0.672</td>\n",
       "      <td>32</td>\n",
       "      <td>1</td>\n",
       "    </tr>\n",
       "    <tr>\n",
       "      <th>3</th>\n",
       "      <td>1</td>\n",
       "      <td>89</td>\n",
       "      <td>66</td>\n",
       "      <td>23</td>\n",
       "      <td>94</td>\n",
       "      <td>28.1</td>\n",
       "      <td>0.167</td>\n",
       "      <td>21</td>\n",
       "      <td>0</td>\n",
       "    </tr>\n",
       "    <tr>\n",
       "      <th>4</th>\n",
       "      <td>0</td>\n",
       "      <td>137</td>\n",
       "      <td>40</td>\n",
       "      <td>35</td>\n",
       "      <td>168</td>\n",
       "      <td>43.1</td>\n",
       "      <td>2.288</td>\n",
       "      <td>33</td>\n",
       "      <td>1</td>\n",
       "    </tr>\n",
       "  </tbody>\n",
       "</table>\n",
       "</div>"
      ],
      "text/plain": [
       "   pregnant  glucose  bp  skin  insulin   bmi  pedigree  age  label\n",
       "0         6      148  72    35        0  33.6     0.627   50      1\n",
       "1         1       85  66    29        0  26.6     0.351   31      0\n",
       "2         8      183  64     0        0  23.3     0.672   32      1\n",
       "3         1       89  66    23       94  28.1     0.167   21      0\n",
       "4         0      137  40    35      168  43.1     2.288   33      1"
      ]
     },
     "execution_count": 4,
     "metadata": {},
     "output_type": "execute_result"
    }
   ],
   "source": [
    "colnames = [\n",
    "    'pregnant', 'glucose', 'bp',\n",
    "    'skin', 'insulin', 'bmi',\n",
    "    'pedigree', 'age', 'label'\n",
    "]\n",
    "diabetes = pd.read_csv(\"datasets/diabetes.csv\", header=None, skiprows=1, names=colnames)\n",
    "diabetes.head()"
   ]
  },
  {
   "cell_type": "code",
   "execution_count": 7,
   "metadata": {},
   "outputs": [
    {
     "name": "stdout",
     "output_type": "stream",
     "text": [
      "              precision    recall  f1-score   support\n",
      "\n",
      "           0       0.81      0.94      0.87        96\n",
      "           1       0.86      0.64      0.73        58\n",
      "\n",
      "    accuracy                           0.82       154\n",
      "   macro avg       0.84      0.79      0.80       154\n",
      "weighted avg       0.83      0.82      0.82       154\n",
      "\n"
     ]
    }
   ],
   "source": [
    "# 划分训练集和检验集，采用80/20划分\n",
    "X = diabetes.iloc[:,:8]\n",
    "y = diabetes.label\n",
    "X_train, X_test, y_train, y_test = train_test_split(X, y, test_size=0.2, random_state=123)\n",
    "\n",
    "# 创建模型对象\n",
    "model = LogisticRegression(solver=\"liblinear\")\n",
    "\n",
    "# 训练模型\n",
    "model.fit(X_train, y_train)\n",
    "\n",
    "# 预测\n",
    "y_pred = model.predict(X_test)\n",
    "\n",
    "# 评估预测精度\n",
    "print(classification_report(y_test, y_pred))"
   ]
  },
  {
   "cell_type": "code",
   "execution_count": null,
   "metadata": {},
   "outputs": [],
   "source": []
  }
 ],
 "metadata": {
  "kernelspec": {
   "display_name": "Python 3",
   "language": "python",
   "name": "python3"
  },
  "language_info": {
   "codemirror_mode": {
    "name": "ipython",
    "version": 3
   },
   "file_extension": ".py",
   "mimetype": "text/x-python",
   "name": "python",
   "nbconvert_exporter": "python",
   "pygments_lexer": "ipython3",
   "version": "3.7.3"
  }
 },
 "nbformat": 4,
 "nbformat_minor": 4
}

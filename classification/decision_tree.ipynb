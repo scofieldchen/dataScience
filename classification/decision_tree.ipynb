{
 "cells": [
  {
   "cell_type": "markdown",
   "metadata": {},
   "source": [
    "## 决策树和集成学习\n",
    "\n",
    "决策树：又称为分类和回归树(CART, Classification and Regression Tree)，能同时解决分类和回归问题。决策树可以理解为很多if-then-else规则的集合，代表数据之间的复杂交互，将新数据代入这些这些规则将得到分类或回归目标。"
   ]
  },
  {
   "cell_type": "code",
   "execution_count": 18,
   "metadata": {},
   "outputs": [],
   "source": [
    "import numpy as np\n",
    "import pandas as pd\n",
    "import matplotlib.pyplot as plt\n",
    "from sklearn.datasets import load_iris\n",
    "from sklearn.tree import DecisionTreeClassifier\n",
    "from sklearn.model_selection import train_test_split\n",
    "from sklearn.model_selection import GridSearchCV\n",
    "from sklearn import metrics\n",
    "\n",
    "%matplotlib inline"
   ]
  },
  {
   "cell_type": "markdown",
   "metadata": {},
   "source": [
    "## 1. 决策树"
   ]
  },
  {
   "cell_type": "markdown",
   "metadata": {},
   "source": [
    "### 1.1 准备数据\n",
    "\n",
    "IRIS数据集，根据花的四种特征，预测类别。\n",
    "\n",
    "四个特征：\n",
    "\n",
    "* sepalLength(花萼长度)\n",
    "* sepalWidth(花萼宽度)\n",
    "* petalLength(花瓣长度)\n",
    "* petalWidth(花瓣宽度)\n",
    "\n",
    "目标变量是花的类别：\n",
    "\n",
    "* setosa(山鸢尾)\n",
    "* versicolor(变色鸢尾)\n",
    "* virginica(维吉尼亚鸢尾)."
   ]
  },
  {
   "cell_type": "code",
   "execution_count": 2,
   "metadata": {},
   "outputs": [
    {
     "data": {
      "text/html": [
       "<div>\n",
       "<style scoped>\n",
       "    .dataframe tbody tr th:only-of-type {\n",
       "        vertical-align: middle;\n",
       "    }\n",
       "\n",
       "    .dataframe tbody tr th {\n",
       "        vertical-align: top;\n",
       "    }\n",
       "\n",
       "    .dataframe thead th {\n",
       "        text-align: right;\n",
       "    }\n",
       "</style>\n",
       "<table border=\"1\" class=\"dataframe\">\n",
       "  <thead>\n",
       "    <tr style=\"text-align: right;\">\n",
       "      <th></th>\n",
       "      <th>sepal length (cm)</th>\n",
       "      <th>sepal width (cm)</th>\n",
       "      <th>petal length (cm)</th>\n",
       "      <th>petal width (cm)</th>\n",
       "      <th>target</th>\n",
       "    </tr>\n",
       "  </thead>\n",
       "  <tbody>\n",
       "    <tr>\n",
       "      <th>145</th>\n",
       "      <td>6.7</td>\n",
       "      <td>3.0</td>\n",
       "      <td>5.2</td>\n",
       "      <td>2.3</td>\n",
       "      <td>2</td>\n",
       "    </tr>\n",
       "    <tr>\n",
       "      <th>146</th>\n",
       "      <td>6.3</td>\n",
       "      <td>2.5</td>\n",
       "      <td>5.0</td>\n",
       "      <td>1.9</td>\n",
       "      <td>2</td>\n",
       "    </tr>\n",
       "    <tr>\n",
       "      <th>147</th>\n",
       "      <td>6.5</td>\n",
       "      <td>3.0</td>\n",
       "      <td>5.2</td>\n",
       "      <td>2.0</td>\n",
       "      <td>2</td>\n",
       "    </tr>\n",
       "    <tr>\n",
       "      <th>148</th>\n",
       "      <td>6.2</td>\n",
       "      <td>3.4</td>\n",
       "      <td>5.4</td>\n",
       "      <td>2.3</td>\n",
       "      <td>2</td>\n",
       "    </tr>\n",
       "    <tr>\n",
       "      <th>149</th>\n",
       "      <td>5.9</td>\n",
       "      <td>3.0</td>\n",
       "      <td>5.1</td>\n",
       "      <td>1.8</td>\n",
       "      <td>2</td>\n",
       "    </tr>\n",
       "  </tbody>\n",
       "</table>\n",
       "</div>"
      ],
      "text/plain": [
       "     sepal length (cm)  sepal width (cm)  petal length (cm)  petal width (cm)  \\\n",
       "145                6.7               3.0                5.2               2.3   \n",
       "146                6.3               2.5                5.0               1.9   \n",
       "147                6.5               3.0                5.2               2.0   \n",
       "148                6.2               3.4                5.4               2.3   \n",
       "149                5.9               3.0                5.1               1.8   \n",
       "\n",
       "     target  \n",
       "145       2  \n",
       "146       2  \n",
       "147       2  \n",
       "148       2  \n",
       "149       2  "
      ]
     },
     "execution_count": 2,
     "metadata": {},
     "output_type": "execute_result"
    }
   ],
   "source": [
    "iris = load_iris()\n",
    "iris_df = pd.DataFrame(iris.data, columns=iris.feature_names)\n",
    "iris_df[\"target\"] = iris.target\n",
    "iris_df.tail()"
   ]
  },
  {
   "cell_type": "markdown",
   "metadata": {},
   "source": [
    "### 1.2 拟合模型"
   ]
  },
  {
   "cell_type": "code",
   "execution_count": 3,
   "metadata": {},
   "outputs": [
    {
     "name": "stdout",
     "output_type": "stream",
     "text": [
      "accuracy score: 0.96\n"
     ]
    }
   ],
   "source": [
    "# 拆分训练集和检验集\n",
    "X_train, X_test, y_train, y_test = train_test_split(iris.data, iris.target, test_size=0.3, random_state=123)\n",
    "\n",
    "# 创建决策树模型对象，使用默认参数，用基尼衡量不纯度\n",
    "# 设置随机数种子，保证可重复结果\n",
    "model = DecisionTreeClassifier(random_state=123)\n",
    "\n",
    "# 拟合数据\n",
    "model.fit(X_train, y_train)\n",
    "\n",
    "# 预测\n",
    "y_pred = model.predict(X_test)\n",
    "\n",
    "# 评估预测精度\n",
    "acc = metrics.accuracy_score(y_test, y_pred)\n",
    "print(f\"accuracy score: {acc:.2f}\")"
   ]
  },
  {
   "cell_type": "markdown",
   "metadata": {},
   "source": [
    "### 1.3 可视化决策树\n",
    "\n",
    "从下图可以看出决策树模型的内在逻辑：\n",
    "\n",
    "从根节点开始，选择一个特征，按照某种规则(如petal length <= 2.45)将样本拆分为两个部分，目标是尽可能完美的区分目标标量的标签，我们要纯度或不纯度来度量拆分的效果，如果节点对应的样本完全包含了某一个标签，不纯度为零，不需要进一步拆分节点，然而如果节点的不纯度很高，则需要制定新的规则进一步拆分。在这个案例中，当petal length <= 2.45时，样本数目是32个，仅包含1个标签，class=setosa，该节点的不纯度就是0，不需要进一步拆分。\n",
    "\n",
    "重复上述的步骤，直到每一个节点的不纯度为0，不需要进一步拆分，该节点称为叶节点或终端节点。"
   ]
  },
  {
   "cell_type": "code",
   "execution_count": 4,
   "metadata": {},
   "outputs": [],
   "source": [
    "from sklearn.tree import export_graphviz"
   ]
  },
  {
   "cell_type": "code",
   "execution_count": 5,
   "metadata": {},
   "outputs": [],
   "source": [
    "with open(\"./datasets/tree.dot\", \"w\") as file:\n",
    "    export_graphviz(model, file, feature_names=iris.feature_names, class_names=iris.target_names)"
   ]
  },
  {
   "cell_type": "markdown",
   "metadata": {},
   "source": [
    "![decision_tree](pictures/tree.png)"
   ]
  },
  {
   "cell_type": "markdown",
   "metadata": {},
   "source": [
    "### 1.4 特征重要性\n",
    "\n",
    "从上图可以看出，越靠近根节点的特征，越能够准确分类大量的样本，越靠近终端节点的特征，能够分类的样本数量越少。所以树模型还有一个重要的功能：计算特征重要度。"
   ]
  },
  {
   "cell_type": "code",
   "execution_count": 6,
   "metadata": {},
   "outputs": [
    {
     "data": {
      "text/plain": [
       "Text(0.5, 1.0, 'Feature Importance')"
      ]
     },
     "execution_count": 6,
     "metadata": {},
     "output_type": "execute_result"
    },
    {
     "data": {
      "image/png": "[encoded data removed]",
      "text/plain": [
       "<Figure size 720x432 with 1 Axes>"
      ]
     },
     "metadata": {
      "needs_background": "light"
     },
     "output_type": "display_data"
    }
   ],
   "source": [
    "importances = pd.DataFrame({\n",
    "    \"feature\": iris.feature_names,\n",
    "    \"value\": model.feature_importances_\n",
    "})\n",
    "importances.sort_values(\"value\", ascending=False, inplace=True)\n",
    "\n",
    "fig, ax = plt.subplots(figsize=(10, 6))\n",
    "importances.plot(x=\"feature\", y=\"value\", kind=\"bar\", ax=ax)\n",
    "ax.set_title(\"Feature Importance\")"
   ]
  },
  {
   "cell_type": "markdown",
   "metadata": {},
   "source": [
    "### 1.5 避免过度拟合\n",
    "\n",
    "树模型的最大缺点是容易过度拟合，如果不加限制，树模型可能不断拆分直到每个节点对应一个观测值。可以调整核心参数，避免过拟合。\n",
    "\n",
    "核心参数：\n",
    "\n",
    "* max_depth: 树的最大深度。\n",
    "* max_features: 拆分节点时考虑的最大特征数量，默认为考虑所有特征，当特征数量很多时，可以引入限制因子，仅考虑部分特征，提升分类效率。\n",
    "    + max_features = k, 仅考虑k个特征\n",
    "    + max_features = 'sqrt', 使用sqrt(n_features)\n",
    "    + max_features = 'log2', 使用log2(n_features)\n",
    "+ min_samples_split: 拆分节点时要求的最小样本数量，默认等于2，即如果节点的样本数量小于等于2，不再进行拆分。\n",
    "\n",
    "**确定最优参数是困难的，使用网格搜索加K折交叉验证是最好的选择**"
   ]
  },
  {
   "cell_type": "code",
   "execution_count": 7,
   "metadata": {},
   "outputs": [
    {
     "data": {
      "text/plain": [
       "GridSearchCV(cv=5, error_score=nan,\n",
       "             estimator=DecisionTreeClassifier(ccp_alpha=0.0, class_weight=None,\n",
       "                                              criterion='gini', max_depth=None,\n",
       "                                              max_features=None,\n",
       "                                              max_leaf_nodes=None,\n",
       "                                              min_impurity_decrease=0.0,\n",
       "                                              min_impurity_split=None,\n",
       "                                              min_samples_leaf=1,\n",
       "                                              min_samples_split=2,\n",
       "                                              min_weight_fraction_leaf=0.0,\n",
       "                                              presort='deprecated',\n",
       "                                              random_state=None,\n",
       "                                              splitter='best'),\n",
       "             iid='deprecated', n_jobs=None,\n",
       "             param_grid={'criterion': ['gini', 'entropy'],\n",
       "                         'max_depth': [5, 10, 15, None],\n",
       "                         'max_features': ['sqrt', 'log2', None],\n",
       "                         'min_samples_split': [2, 5, 10, 20, 50]},\n",
       "             pre_dispatch='2*n_jobs', refit=True, return_train_score=False,\n",
       "             scoring='accuracy', verbose=0)"
      ]
     },
     "execution_count": 7,
     "metadata": {},
     "output_type": "execute_result"
    }
   ],
   "source": [
    "# 选择模型\n",
    "estimator = DecisionTreeClassifier()\n",
    "\n",
    "# 选择参数和扫描区间\n",
    "param_grid = {\n",
    "    \"criterion\": [\"gini\", \"entropy\"],  # 如何度量不纯度\n",
    "    \"max_depth\": [5, 10, 15, None],  # 树的最大深度\n",
    "    \"max_features\": [\"sqrt\", \"log2\", None],  # 拆分节点时考虑的最大特征数量\n",
    "    \"min_samples_split\": [2, 5, 10, 20, 50]  # 拆分节点时要求的最小样本数量\n",
    "}\n",
    "\n",
    "# 网格搜索，寻找最优参数\n",
    "grid = GridSearchCV(\n",
    "    estimator=estimator,\n",
    "    param_grid=param_grid,\n",
    "    scoring=\"accuracy\",\n",
    "    cv=5\n",
    ")\n",
    "grid.fit(X_train, y_train)"
   ]
  },
  {
   "cell_type": "code",
   "execution_count": 8,
   "metadata": {},
   "outputs": [
    {
     "name": "stdout",
     "output_type": "stream",
     "text": [
      "{'criterion': 'gini', 'max_depth': 15, 'max_features': 'sqrt', 'min_samples_split': 20}\n",
      "DecisionTreeClassifier(ccp_alpha=0.0, class_weight=None, criterion='gini',\n",
      "                       max_depth=15, max_features='sqrt', max_leaf_nodes=None,\n",
      "                       min_impurity_decrease=0.0, min_impurity_split=None,\n",
      "                       min_samples_leaf=1, min_samples_split=20,\n",
      "                       min_weight_fraction_leaf=0.0, presort='deprecated',\n",
      "                       random_state=None, splitter='best')\n",
      "0.9619047619047618\n"
     ]
    }
   ],
   "source": [
    "print(grid.best_params_)\n",
    "print(grid.best_estimator_)\n",
    "print(grid.best_score_)"
   ]
  },
  {
   "cell_type": "code",
   "execution_count": 9,
   "metadata": {},
   "outputs": [
    {
     "name": "stdout",
     "output_type": "stream",
     "text": [
      "accuracy score: 0.93\n"
     ]
    }
   ],
   "source": [
    "best_model = grid.best_estimator_\n",
    "y_pred = best_model.predict(X_test)\n",
    "acc = metrics.accuracy_score(y_test, y_pred)\n",
    "print(f\"accuracy score: {acc:.2f}\")"
   ]
  },
  {
   "cell_type": "markdown",
   "metadata": {},
   "source": [
    "## 2. 集成学习\n",
    "\n",
    "集成学习：同时训练多个模型，基于这些模型预测结果的多数投票或平均值，生成分类和回归目标。"
   ]
  },
  {
   "cell_type": "markdown",
   "metadata": {},
   "source": [
    "### 2.1 随机森林\n",
    "\n",
    "随机模型(RandomForest)使用一组决策树，每棵树给出不同的预测，一般会基于多数投票给出最终预测，最多投票的类被认为是正确的。\n",
    "\n",
    "sklearn的随机森林使用每棵树的平均结果给出最终预测，预测精度也非常高。"
   ]
  },
  {
   "cell_type": "code",
   "execution_count": 10,
   "metadata": {},
   "outputs": [],
   "source": [
    "from sklearn.ensemble import RandomForestClassifier"
   ]
  },
  {
   "cell_type": "code",
   "execution_count": 11,
   "metadata": {},
   "outputs": [
    {
     "name": "stdout",
     "output_type": "stream",
     "text": [
      "accuracy score: 0.93\n"
     ]
    }
   ],
   "source": [
    "# 拆分训练集和检验集\n",
    "X_train, X_test, y_train, y_test = train_test_split(iris.data, iris.target, test_size=0.3, random_state=123)\n",
    "\n",
    "# 创建模型，使用10棵决策树\n",
    "model = RandomForestClassifier(n_estimators=10)\n",
    "\n",
    "# 拟合数据\n",
    "model.fit(X_train, y_train)\n",
    "\n",
    "# 预测\n",
    "y_pred = model.predict(X_test)\n",
    "\n",
    "# 评估预测精度\n",
    "acc = metrics.accuracy_score(y_test, y_pred)\n",
    "print(f\"accuracy score: {acc:.2f}\")"
   ]
  },
  {
   "cell_type": "markdown",
   "metadata": {},
   "source": [
    "评估树的数量对预测精度的影响。"
   ]
  },
  {
   "cell_type": "code",
   "execution_count": 12,
   "metadata": {},
   "outputs": [],
   "source": [
    "from sklearn.model_selection import cross_val_score"
   ]
  },
  {
   "cell_type": "code",
   "execution_count": 13,
   "metadata": {},
   "outputs": [],
   "source": [
    "n_estimators_rng = list(range(1, 100))\n",
    "acc_list = []\n",
    "\n",
    "for n_estimators in n_estimators_rng:\n",
    "    estimator = RandomForestClassifier(n_estimators)\n",
    "    acc = cross_val_score(estimator, iris.data, iris.target,\n",
    "                          scoring=\"accuracy\", cv=10).mean()\n",
    "    acc_list.append(acc)"
   ]
  },
  {
   "cell_type": "code",
   "execution_count": 14,
   "metadata": {},
   "outputs": [
    {
     "data": {
      "text/plain": [
       "Text(0.0, 1.0, 'Accuracy vs Estimators')"
      ]
     },
     "execution_count": 14,
     "metadata": {},
     "output_type": "execute_result"
    },
    {
     "data": {
      "image/png": "[encoded data removed]",
      "text/plain": [
       "<Figure size 864x504 with 1 Axes>"
      ]
     },
     "metadata": {
      "needs_background": "light"
     },
     "output_type": "display_data"
    }
   ],
   "source": [
    "fig, ax = plt.subplots(figsize=(12, 7))\n",
    "ax.plot(n_estimators_rng, acc_list)\n",
    "ax.set_title(\"Accuracy vs Estimators\", loc=\"left\")"
   ]
  },
  {
   "cell_type": "markdown",
   "metadata": {},
   "source": [
    "结果跟预期相符，当树的数量较少时，预测精度较低，但随着树数量增加，预测精度大幅上涨，当树数量大于20时，预测精度稳定在0.955-0.965."
   ]
  },
  {
   "cell_type": "markdown",
   "metadata": {},
   "source": [
    "随机森林模型也可以用于评估特征重要性。"
   ]
  },
  {
   "cell_type": "code",
   "execution_count": 15,
   "metadata": {},
   "outputs": [],
   "source": [
    "from sklearn.datasets import make_classification"
   ]
  },
  {
   "cell_type": "code",
   "execution_count": 16,
   "metadata": {},
   "outputs": [],
   "source": [
    "# 创建虚假数据集\n",
    "X, y = make_classification(\n",
    "    n_samples=1000,\n",
    "    n_features=50,  # 50个特征\n",
    "    n_informative=10,  # 10个重要特征\n",
    "    n_redundant=40,  # 40个不重要特征\n",
    "    n_classes=2  # 目标变量有2个类别\n",
    ")"
   ]
  },
  {
   "cell_type": "code",
   "execution_count": 17,
   "metadata": {},
   "outputs": [
    {
     "data": {
      "text/plain": [
       "<matplotlib.axes._subplots.AxesSubplot at 0x7ff6e74e4ac8>"
      ]
     },
     "execution_count": 17,
     "metadata": {},
     "output_type": "execute_result"
    },
    {
     "data": {
      "image/png": "[encoded data removed]",
      "text/plain": [
       "<Figure size 864x504 with 1 Axes>"
      ]
     },
     "metadata": {
      "needs_background": "light"
     },
     "output_type": "display_data"
    }
   ],
   "source": [
    "# 创建模型，拟合数据\n",
    "model = RandomForestClassifier(n_estimators=100)\n",
    "model.fit(X, y)\n",
    "\n",
    "# 获取特征重要度\n",
    "importances = pd.DataFrame({\n",
    "    \"feature\": list(range(50)),\n",
    "    \"importance\": model.feature_importances_\n",
    "})\n",
    "importances.sort_values(\"importance\", ascending=False, inplace=True)\n",
    "\n",
    "# 可视化\n",
    "importances.plot(x=\"feature\", y=\"importance\", kind=\"bar\", figsize=(12, 7),\n",
    "                 title=\"Feature importance by RandomForestClassifier\")"
   ]
  },
  {
   "cell_type": "markdown",
   "metadata": {},
   "source": [
    "与预期相符，部分特征非常重要，部分特征没有意义。这在处理多维数据集时非常有用，使用决策树和随机森林评估特征重要度，并剔除重要性低于阈值的特征，减低数据集的维度。"
   ]
  },
  {
   "cell_type": "markdown",
   "metadata": {},
   "source": [
    "### 2.2 AdaBoost\n",
    "\n",
    "参考资料：\n",
    "\n",
    "* [understanding AdaBoost](https://towardsdatascience.com/understanding-adaboost-2f94f22d5bfe)\n",
    "* [sklearn - AdaBoost](https://scikit-learn.org/stable/modules/generated/sklearn.ensemble.AdaBoostClassifier.html)\n",
    "* [adaboost ensemble in python](https://machinelearningmastery.com/adaboost-ensemble-in-python/)"
   ]
  },
  {
   "cell_type": "markdown",
   "metadata": {},
   "source": []
  }
 ],
 "metadata": {
  "kernelspec": {
   "display_name": "Python 3",
   "language": "python",
   "name": "python3"
  },
  "language_info": {
   "codemirror_mode": {
    "name": "ipython",
    "version": 3
   },
   "file_extension": ".py",
   "mimetype": "text/x-python",
   "name": "python",
   "nbconvert_exporter": "python",
   "pygments_lexer": "ipython3",
   "version": "3.7.3"
  }
 },
 "nbformat": 4,
 "nbformat_minor": 4
}

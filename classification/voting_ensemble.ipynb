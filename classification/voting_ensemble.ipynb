{
 "cells": [
  {
   "cell_type": "markdown",
   "metadata": {},
   "source": [
    "# 投票集成"
   ]
  },
  {
   "cell_type": "markdown",
   "metadata": {},
   "source": [
    "## 1. 投票集成\n",
    "\n",
    "投票集成(voting ensemble)\n",
    "\n",
    "一种机器学习集成算法，同时使用多个模型，结合这些模型的预测，根据多数投票原则做出最后预测。投票集成能同时解决分类和回归问题。\n",
    "\n",
    "如何结合多个模型的预测？\n",
    "\n",
    "* 回归问题：计算所有预测值的平均值\n",
    "* 分类问题：根据所有模型预测结果的多数投票做出最终决定\n",
    "\n",
    "在分类问题中，多数投票有两种方式：\n",
    "\n",
    "1. 硬投票(hard voting): 根据预测类别进行多数投票\n",
    "2. 软投票(soft voting): 根据预测概率之和进行多数投票\n",
    "\n",
    "什么时候使用投票集成？\n",
    "\n",
    "1. 有两个以上表现良好的预测模型\n",
    "2. 集成模型的性能比单个模型更好，例如交叉验证评分更高，否则应使用单个模型\n",
    "\n",
    "投票集成的缺点？\n",
    "\n",
    "集成的所有单个模型的权重相同，这意味着好的模型和糟糕的模型对最终预测的贡献一致，当单个模型表现差异较大，集成模型的性能可能表现一般。\n",
    "\n",
    "参考：[如何用Python实现投票集成](https://machinelearningmastery.com/voting-ensembles-with-python/)"
   ]
  },
  {
   "cell_type": "code",
   "execution_count": 8,
   "metadata": {},
   "outputs": [],
   "source": [
    "import copy\n",
    "\n",
    "import numpy as np\n",
    "import pandas as pd\n",
    "import matplotlib.pyplot as plt\n",
    "\n",
    "%matplotlib inline\n",
    "plt.style.use(\"ggplot\")"
   ]
  },
  {
   "cell_type": "markdown",
   "metadata": {},
   "source": [
    "## 2. 投票分类器"
   ]
  },
  {
   "cell_type": "markdown",
   "metadata": {},
   "source": [
    "准备数据，使用iris数据集。"
   ]
  },
  {
   "cell_type": "code",
   "execution_count": 9,
   "metadata": {},
   "outputs": [
    {
     "data": {
      "text/html": [
       "<div>\n",
       "<style scoped>\n",
       "    .dataframe tbody tr th:only-of-type {\n",
       "        vertical-align: middle;\n",
       "    }\n",
       "\n",
       "    .dataframe tbody tr th {\n",
       "        vertical-align: top;\n",
       "    }\n",
       "\n",
       "    .dataframe thead th {\n",
       "        text-align: right;\n",
       "    }\n",
       "</style>\n",
       "<table border=\"1\" class=\"dataframe\">\n",
       "  <thead>\n",
       "    <tr style=\"text-align: right;\">\n",
       "      <th></th>\n",
       "      <th>sepal length (cm)</th>\n",
       "      <th>sepal width (cm)</th>\n",
       "      <th>petal length (cm)</th>\n",
       "      <th>petal width (cm)</th>\n",
       "      <th>target</th>\n",
       "    </tr>\n",
       "  </thead>\n",
       "  <tbody>\n",
       "    <tr>\n",
       "      <th>0</th>\n",
       "      <td>5.1</td>\n",
       "      <td>3.5</td>\n",
       "      <td>1.4</td>\n",
       "      <td>0.2</td>\n",
       "      <td>0</td>\n",
       "    </tr>\n",
       "    <tr>\n",
       "      <th>1</th>\n",
       "      <td>4.9</td>\n",
       "      <td>3.0</td>\n",
       "      <td>1.4</td>\n",
       "      <td>0.2</td>\n",
       "      <td>0</td>\n",
       "    </tr>\n",
       "    <tr>\n",
       "      <th>2</th>\n",
       "      <td>4.7</td>\n",
       "      <td>3.2</td>\n",
       "      <td>1.3</td>\n",
       "      <td>0.2</td>\n",
       "      <td>0</td>\n",
       "    </tr>\n",
       "    <tr>\n",
       "      <th>3</th>\n",
       "      <td>4.6</td>\n",
       "      <td>3.1</td>\n",
       "      <td>1.5</td>\n",
       "      <td>0.2</td>\n",
       "      <td>0</td>\n",
       "    </tr>\n",
       "    <tr>\n",
       "      <th>4</th>\n",
       "      <td>5.0</td>\n",
       "      <td>3.6</td>\n",
       "      <td>1.4</td>\n",
       "      <td>0.2</td>\n",
       "      <td>0</td>\n",
       "    </tr>\n",
       "  </tbody>\n",
       "</table>\n",
       "</div>"
      ],
      "text/plain": [
       "   sepal length (cm)  sepal width (cm)  petal length (cm)  petal width (cm)  \\\n",
       "0                5.1               3.5                1.4               0.2   \n",
       "1                4.9               3.0                1.4               0.2   \n",
       "2                4.7               3.2                1.3               0.2   \n",
       "3                4.6               3.1                1.5               0.2   \n",
       "4                5.0               3.6                1.4               0.2   \n",
       "\n",
       "   target  \n",
       "0       0  \n",
       "1       0  \n",
       "2       0  \n",
       "3       0  \n",
       "4       0  "
      ]
     },
     "execution_count": 9,
     "metadata": {},
     "output_type": "execute_result"
    }
   ],
   "source": [
    "from sklearn.datasets import load_iris\n",
    "\n",
    "iris = load_iris()\n",
    "iris_df = pd.DataFrame(iris.data, columns=iris.feature_names)\n",
    "iris_df[\"target\"] = iris.target\n",
    "iris_df.head()"
   ]
  },
  {
   "cell_type": "markdown",
   "metadata": {},
   "source": [
    "sklearn提供接口VotingClassifier实现投票集成。\n",
    "\n",
    "先创建多个模型实例，存放在列表中，传递给VotingClassifier。"
   ]
  },
  {
   "cell_type": "code",
   "execution_count": 10,
   "metadata": {},
   "outputs": [],
   "source": [
    "from sklearn.linear_model import LogisticRegression\n",
    "from sklearn.neighbors import KNeighborsClassifier\n",
    "from sklearn.naive_bayes import GaussianNB\n",
    "from sklearn.svm import SVC\n",
    "from sklearn.ensemble import VotingClassifier\n",
    "from sklearn.model_selection import cross_val_score, train_test_split\n",
    "from sklearn import metrics"
   ]
  },
  {
   "cell_type": "code",
   "execution_count": 11,
   "metadata": {},
   "outputs": [
    {
     "name": "stdout",
     "output_type": "stream",
     "text": [
      "lr: 0.973(0.033)\n",
      "knn: 0.967(0.045)\n",
      "nb: 0.953(0.043)\n",
      "svm: 0.973(0.033)\n",
      "voting: 0.973(0.033)\n"
     ]
    },
    {
     "data": {
      "image/png": "[encoded data removed]",
      "text/plain": [
       "<Figure size 720x504 with 1 Axes>"
      ]
     },
     "metadata": {},
     "output_type": "display_data"
    }
   ],
   "source": [
    "# 创建要集成的单个模型，存放在列表中，[('name1','model1'), ('name2', 'model2')]\n",
    "models = []\n",
    "models.append((\"lr\", LogisticRegression()))\n",
    "models.append((\"knn\", KNeighborsClassifier()))\n",
    "models.append((\"nb\", GaussianNB()))\n",
    "models.append((\"svm\", SVC(probability=True)))  # 设置probability=True让SVM支持predict_prob()\n",
    "\n",
    "# 创建投票分类器，投票方式可选择'hard' or 'soft'\n",
    "voting = VotingClassifier(estimators=models, voting=\"hard\")\n",
    "\n",
    "# 使用交叉验证测试所有模型的性能，预期投票集成比单个模型更好\n",
    "models2 = copy.deepcopy(models)\n",
    "models2.append((\"voting\", voting))\n",
    "\n",
    "names, scores = [], []\n",
    "for name, model in models2:\n",
    "    cvscores = cross_val_score(\n",
    "        model, X=iris.data, y=iris.target, scoring=\"accuracy\", cv=10, n_jobs=-1)\n",
    "    names.append(name)\n",
    "    scores.append(cvscores)\n",
    "    print(f\"{name}: {np.mean(cvscores):.3f}({np.std(cvscores):.3f})\")\n",
    "    \n",
    "# 用箱线图对比所有模型的交叉验证评分\n",
    "fig, ax = plt.subplots(figsize=(10, 7))\n",
    "bp = ax.boxplot(scores, labels=names, showmeans=True)"
   ]
  },
  {
   "cell_type": "markdown",
   "metadata": {},
   "source": [
    "结果显示，投票集成的性能不逊于任意单个模型，但并没有比所有模型更好，在这种情况下使用单个模型更合适。"
   ]
  },
  {
   "cell_type": "markdown",
   "metadata": {},
   "source": [
    "VotingClassifier的使用方法跟其它分类器没有区别，配置好实例后，调用fit()拟合数据，调用predict()预测。"
   ]
  },
  {
   "cell_type": "code",
   "execution_count": 12,
   "metadata": {},
   "outputs": [
    {
     "name": "stdout",
     "output_type": "stream",
     "text": [
      "              precision    recall  f1-score   support\n",
      "\n",
      "           0       1.00      1.00      1.00        18\n",
      "           1       0.77      1.00      0.87        10\n",
      "           2       1.00      0.82      0.90        17\n",
      "\n",
      "    accuracy                           0.93        45\n",
      "   macro avg       0.92      0.94      0.92        45\n",
      "weighted avg       0.95      0.93      0.93        45\n",
      "\n"
     ]
    }
   ],
   "source": [
    "# 划分训练集和检验集\n",
    "X_train, X_test, y_train, y_test = train_test_split(\n",
    "    iris.data, iris.target, test_size=0.3, random_state=123)\n",
    "\n",
    "# 拟合数据\n",
    "voting.fit(X_train, y_train)\n",
    "\n",
    "# 预测\n",
    "y_pred = voting.predict(X_test)\n",
    "\n",
    "# 检验预测评分\n",
    "print(metrics.classification_report(y_test, y_pred))"
   ]
  },
  {
   "cell_type": "markdown",
   "metadata": {},
   "source": [
    "## 3. 投票回归器"
   ]
  },
  {
   "cell_type": "markdown",
   "metadata": {},
   "source": [
    "准备数据，使用boston数据集。"
   ]
  },
  {
   "cell_type": "code",
   "execution_count": 13,
   "metadata": {},
   "outputs": [
    {
     "data": {
      "text/html": [
       "<div>\n",
       "<style scoped>\n",
       "    .dataframe tbody tr th:only-of-type {\n",
       "        vertical-align: middle;\n",
       "    }\n",
       "\n",
       "    .dataframe tbody tr th {\n",
       "        vertical-align: top;\n",
       "    }\n",
       "\n",
       "    .dataframe thead th {\n",
       "        text-align: right;\n",
       "    }\n",
       "</style>\n",
       "<table border=\"1\" class=\"dataframe\">\n",
       "  <thead>\n",
       "    <tr style=\"text-align: right;\">\n",
       "      <th></th>\n",
       "      <th>CRIM</th>\n",
       "      <th>ZN</th>\n",
       "      <th>INDUS</th>\n",
       "      <th>CHAS</th>\n",
       "      <th>NOX</th>\n",
       "      <th>RM</th>\n",
       "      <th>AGE</th>\n",
       "      <th>DIS</th>\n",
       "      <th>RAD</th>\n",
       "      <th>TAX</th>\n",
       "      <th>PTRATIO</th>\n",
       "      <th>B</th>\n",
       "      <th>LSTAT</th>\n",
       "      <th>target</th>\n",
       "    </tr>\n",
       "  </thead>\n",
       "  <tbody>\n",
       "    <tr>\n",
       "      <th>0</th>\n",
       "      <td>0.00632</td>\n",
       "      <td>18.0</td>\n",
       "      <td>2.31</td>\n",
       "      <td>0.0</td>\n",
       "      <td>0.538</td>\n",
       "      <td>6.575</td>\n",
       "      <td>65.2</td>\n",
       "      <td>4.0900</td>\n",
       "      <td>1.0</td>\n",
       "      <td>296.0</td>\n",
       "      <td>15.3</td>\n",
       "      <td>396.90</td>\n",
       "      <td>4.98</td>\n",
       "      <td>24.0</td>\n",
       "    </tr>\n",
       "    <tr>\n",
       "      <th>1</th>\n",
       "      <td>0.02731</td>\n",
       "      <td>0.0</td>\n",
       "      <td>7.07</td>\n",
       "      <td>0.0</td>\n",
       "      <td>0.469</td>\n",
       "      <td>6.421</td>\n",
       "      <td>78.9</td>\n",
       "      <td>4.9671</td>\n",
       "      <td>2.0</td>\n",
       "      <td>242.0</td>\n",
       "      <td>17.8</td>\n",
       "      <td>396.90</td>\n",
       "      <td>9.14</td>\n",
       "      <td>21.6</td>\n",
       "    </tr>\n",
       "    <tr>\n",
       "      <th>2</th>\n",
       "      <td>0.02729</td>\n",
       "      <td>0.0</td>\n",
       "      <td>7.07</td>\n",
       "      <td>0.0</td>\n",
       "      <td>0.469</td>\n",
       "      <td>7.185</td>\n",
       "      <td>61.1</td>\n",
       "      <td>4.9671</td>\n",
       "      <td>2.0</td>\n",
       "      <td>242.0</td>\n",
       "      <td>17.8</td>\n",
       "      <td>392.83</td>\n",
       "      <td>4.03</td>\n",
       "      <td>34.7</td>\n",
       "    </tr>\n",
       "    <tr>\n",
       "      <th>3</th>\n",
       "      <td>0.03237</td>\n",
       "      <td>0.0</td>\n",
       "      <td>2.18</td>\n",
       "      <td>0.0</td>\n",
       "      <td>0.458</td>\n",
       "      <td>6.998</td>\n",
       "      <td>45.8</td>\n",
       "      <td>6.0622</td>\n",
       "      <td>3.0</td>\n",
       "      <td>222.0</td>\n",
       "      <td>18.7</td>\n",
       "      <td>394.63</td>\n",
       "      <td>2.94</td>\n",
       "      <td>33.4</td>\n",
       "    </tr>\n",
       "    <tr>\n",
       "      <th>4</th>\n",
       "      <td>0.06905</td>\n",
       "      <td>0.0</td>\n",
       "      <td>2.18</td>\n",
       "      <td>0.0</td>\n",
       "      <td>0.458</td>\n",
       "      <td>7.147</td>\n",
       "      <td>54.2</td>\n",
       "      <td>6.0622</td>\n",
       "      <td>3.0</td>\n",
       "      <td>222.0</td>\n",
       "      <td>18.7</td>\n",
       "      <td>396.90</td>\n",
       "      <td>5.33</td>\n",
       "      <td>36.2</td>\n",
       "    </tr>\n",
       "  </tbody>\n",
       "</table>\n",
       "</div>"
      ],
      "text/plain": [
       "      CRIM    ZN  INDUS  CHAS    NOX     RM   AGE     DIS  RAD    TAX  \\\n",
       "0  0.00632  18.0   2.31   0.0  0.538  6.575  65.2  4.0900  1.0  296.0   \n",
       "1  0.02731   0.0   7.07   0.0  0.469  6.421  78.9  4.9671  2.0  242.0   \n",
       "2  0.02729   0.0   7.07   0.0  0.469  7.185  61.1  4.9671  2.0  242.0   \n",
       "3  0.03237   0.0   2.18   0.0  0.458  6.998  45.8  6.0622  3.0  222.0   \n",
       "4  0.06905   0.0   2.18   0.0  0.458  7.147  54.2  6.0622  3.0  222.0   \n",
       "\n",
       "   PTRATIO       B  LSTAT  target  \n",
       "0     15.3  396.90   4.98    24.0  \n",
       "1     17.8  396.90   9.14    21.6  \n",
       "2     17.8  392.83   4.03    34.7  \n",
       "3     18.7  394.63   2.94    33.4  \n",
       "4     18.7  396.90   5.33    36.2  "
      ]
     },
     "execution_count": 13,
     "metadata": {},
     "output_type": "execute_result"
    }
   ],
   "source": [
    "from sklearn.datasets import load_boston\n",
    "\n",
    "boston = load_boston()\n",
    "boston_df = pd.DataFrame(boston.data, columns=boston.feature_names)\n",
    "boston_df[\"target\"] = boston.target\n",
    "boston_df.head()"
   ]
  },
  {
   "cell_type": "markdown",
   "metadata": {},
   "source": [
    "sklearn提供接口VotingRegressor实现投票集成。\n",
    "\n",
    "先创建多个模型实例，存放在列表中，传递给VotingRegressor。\n",
    "\n",
    "与上面分类案例不同，这里仅使用决策树回归模型，通过调整\"max_depth\"来创建不同的模型实例，作为投票集成的输入。"
   ]
  },
  {
   "cell_type": "code",
   "execution_count": 14,
   "metadata": {},
   "outputs": [],
   "source": [
    "from sklearn.tree import DecisionTreeRegressor\n",
    "from sklearn.ensemble import VotingRegressor\n",
    "from sklearn.model_selection import cross_val_score, train_test_split\n",
    "from sklearn import metrics"
   ]
  },
  {
   "cell_type": "code",
   "execution_count": 15,
   "metadata": {},
   "outputs": [
    {
     "name": "stdout",
     "output_type": "stream",
     "text": [
      "cart(1): -6.338(2.416)\n",
      "cart(2): -4.618(1.358)\n",
      "cart(3): -4.332(1.179)\n",
      "cart(4): -3.859(1.193)\n",
      "cart(5): -3.753(1.286)\n",
      "voting: -4.111(1.457)\n"
     ]
    },
    {
     "data": {
      "image/png": "[encoded data removed]",
      "text/plain": [
       "<Figure size 720x504 with 1 Axes>"
      ]
     },
     "metadata": {},
     "output_type": "display_data"
    }
   ],
   "source": [
    "# 创建要集成的单个模型，存放在列表中，[('name1','model1'), ('name2', 'model2')]\n",
    "models = []\n",
    "models.append((\"cart(1)\", DecisionTreeRegressor(max_depth=1)))\n",
    "models.append((\"cart(2)\", DecisionTreeRegressor(max_depth=2)))\n",
    "models.append((\"cart(3)\", DecisionTreeRegressor(max_depth=3)))\n",
    "models.append((\"cart(4)\", DecisionTreeRegressor(max_depth=4)))\n",
    "models.append((\"cart(5)\", DecisionTreeRegressor(max_depth=5)))\n",
    "\n",
    "# 创建投票回归器\n",
    "voting = VotingRegressor(estimators=models)\n",
    "\n",
    "# 使用交叉验证测试所有模型的性能，预期投票集成比单个模型更好\n",
    "models2 = copy.deepcopy(models)\n",
    "models2.append((\"voting\", voting))\n",
    "\n",
    "names, scores = [], []\n",
    "for name, model in models2:\n",
    "    cvscores = cross_val_score(\n",
    "        model, X=boston.data, y=boston.target, scoring=\"neg_mean_absolute_error\", cv=10, n_jobs=-1)\n",
    "    names.append(name)\n",
    "    scores.append(cvscores)\n",
    "    print(f\"{name}: {np.mean(cvscores):.3f}({np.std(cvscores):.3f})\")\n",
    "    \n",
    "# 用箱线图对比所有模型的交叉验证评分\n",
    "fig, ax = plt.subplots(figsize=(10, 7))\n",
    "bp = ax.boxplot(scores, labels=names, showmeans=True)"
   ]
  },
  {
   "cell_type": "markdown",
   "metadata": {},
   "source": [
    "随着最大深度上升，单个决策回归树的预测精度也随着上升。由于单个模型表现分化严重，所以投票集成的性能比部分模型差。\n",
    "\n",
    "这充分说明一点，只有当单个模型都表现优秀且性能接近时，才应该使用投票集成。"
   ]
  },
  {
   "cell_type": "markdown",
   "metadata": {},
   "source": [
    "VotingRegressor与单个回归模型的使用方法相同，先调用fit拟合训练集，再调用predict预测。"
   ]
  },
  {
   "cell_type": "code",
   "execution_count": 25,
   "metadata": {},
   "outputs": [
    {
     "name": "stdout",
     "output_type": "stream",
     "text": [
      "MAE: 3.332\n",
      "R2: 0.718\n"
     ]
    },
    {
     "data": {
      "image/png": "[encoded data removed]",
      "text/plain": [
       "<Figure size 561.6x432 with 1 Axes>"
      ]
     },
     "metadata": {},
     "output_type": "display_data"
    }
   ],
   "source": [
    "# 划分训练集和检验集\n",
    "X_train, X_test, y_train, y_test = train_test_split(\n",
    "    boston.data, boston.target, test_size=0.3, random_state=123)\n",
    "\n",
    "# 拟合数据\n",
    "voting.fit(X_train, y_train)\n",
    "\n",
    "# 预测\n",
    "y_pred = voting.predict(X_test)\n",
    "\n",
    "# 检验预测评分\n",
    "mae = metrics.mean_absolute_error(y_test, y_pred)\n",
    "r2 = metrics.r2_score(y_test, y_pred)\n",
    "print(f\"MAE: {mae:.3f}\")\n",
    "print(f\"R2: {r2:.3f}\")\n",
    "\n",
    "# 散点图：预测值 vs 实际值\n",
    "import seaborn as sns\n",
    "\n",
    "pred_df = pd.DataFrame({\n",
    "    \"actual\": y_test,\n",
    "    \"pred\": y_pred\n",
    "})\n",
    "\n",
    "lmplot = sns.lmplot(\"actual\", \"pred\", data=pred_df, height=6, aspect=1.3)\n",
    "title = lmplot.ax.set_title(f\"Actual vs Prediction, R2 = {r2:.3f}\", fontsize=15)"
   ]
  },
  {
   "cell_type": "code",
   "execution_count": null,
   "metadata": {},
   "outputs": [],
   "source": []
  }
 ],
 "metadata": {
  "kernelspec": {
   "display_name": "pyds",
   "language": "python",
   "name": "pyds"
  },
  "language_info": {
   "codemirror_mode": {
    "name": "ipython",
    "version": 3
   },
   "file_extension": ".py",
   "mimetype": "text/x-python",
   "name": "python",
   "nbconvert_exporter": "python",
   "pygments_lexer": "ipython3",
   "version": "3.8.3"
  }
 },
 "nbformat": 4,
 "nbformat_minor": 4
}

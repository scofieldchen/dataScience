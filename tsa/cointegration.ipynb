{
 "cells": [
  {
   "cell_type": "markdown",
   "metadata": {},
   "source": [
    "# 协整性检验\n",
    "\n",
    "什么是协整(cointegration)？\n",
    "\n",
    "参考：[econometrics with R](https://www.econometrics-with-r.org/16-3-cointegration.html)\n",
    "\n",
    "要理解协整，首先要理解整合阶数(order of integration).\n",
    "\n",
    "对非平稳时间序列$Y_t$，如果经过一阶差分后变为平稳，称$Y_t$是I(1)，如果经过二阶差分后变为平稳，称$Y_t$是I(2).\n",
    "\n",
    "总结：如果$Y_t$是I(d)，意味着经过d阶差分才能变为平稳。通常情况下d不会超过2.\n",
    "\n",
    "协整: 假设两个时间序列$X_t$, $Y_t$，它们都是I(1)，存在系数$\\alpha$使得$Y_t - \\alpha X_t$是I(0)，就说$X_t$和$Y_t$是协整的。从直觉上理解，$X_t$, $Y_t$协整意味着两个序列有相同的趋势(trend)，将两个序列相减可以消除趋势，最终得到一个平稳的时间序列。\n",
    "\n",
    "简单案列：10年期国债收益率和3个月国债收益率，它们都是I(1)，利率差异 = 10年期收益率 - 3个月收益率，利率差异是平稳时间序列。\n",
    "\n",
    "![利率差异](data/term_spread.PNG)"
   ]
  },
  {
   "cell_type": "code",
   "execution_count": null,
   "metadata": {},
   "outputs": [],
   "source": []
  }
 ],
 "metadata": {
  "kernelspec": {
   "display_name": "Python 3",
   "language": "python",
   "name": "python3"
  },
  "language_info": {
   "codemirror_mode": {
    "name": "ipython",
    "version": 3
   },
   "file_extension": ".py",
   "mimetype": "text/x-python",
   "name": "python",
   "nbconvert_exporter": "python",
   "pygments_lexer": "ipython3",
   "version": "3.7.3"
  }
 },
 "nbformat": 4,
 "nbformat_minor": 4
}

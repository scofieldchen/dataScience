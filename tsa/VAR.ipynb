{
 "cells": [
  {
   "cell_type": "markdown",
   "metadata": {},
   "source": [
    "# 向量自回归\n",
    "\n",
    "* [statsmodels](https://www.statsmodels.org/dev/vector_ar.html)\n",
    "* [VAR - comprehensive guides](https://www.machinelearningplus.com/time-series/vector-autoregression-examples-python/)\n",
    "* [Time-series Analysis with VAR and VECM](https://towardsdatascience.com/vector-autoregressions-vector-error-correction-multivariate-model-a69daf6ab618)\n",
    "* [Multivariate Time-series Modeling](https://www.analyticsvidhya.com/blog/2018/09/multivariate-time-series-guide-forecasting-modeling-python-codes/)"
   ]
  },
  {
   "cell_type": "markdown",
   "metadata": {},
   "source": [
    "## 1. 简介\n",
    "\n",
    "向量自回归(vector autoregression): 存在两个以上的时间序列，它们相互影响，将每个变量表示为自身和其它变量滞后项的线性组合，简答来说就是用自身滞后项和相关变量的滞后项作为预测因子，建立多个自回归模型。\n",
    "\n",
    "AR模型用序列的滞后项预测自身，VAR能够捕捉多个变量间的复杂关系，令预测更加准确。\n",
    "\n",
    "假设有两个时间序列: $Y_1$和$Y_2$\n",
    "\n",
    "VAR(1)：\n",
    "\n",
    "* $Y_{1,t} = \\alpha_{1} + \\beta_{11,1}Y_{1, t-1} + \\beta_{12,1}Y_{2, t-1} + \\epsilon_{1, t}$\n",
    "* $Y_{2,t} = \\alpha_{2} + \\beta_{21,1}Y_{1, t-1} + \\beta_{22,1}Y_{2, t-1} + \\epsilon_{2, t}$\n",
    "\n",
    "VAR(2)：\n",
    "\n",
    "* $Y_{1,t} = \\alpha_{1} + \\beta_{11,1}Y_{1, t-1} + \\beta_{12,1}Y_{2, t-1} + \\beta_{11,2}Y_{1, t-2} + \\beta_{12,2}Y_{2, t-2} + \\epsilon_{1, t}$\n",
    "* $Y_{2,t} = \\alpha_{2} + \\beta_{21,1}Y_{1, t-1} + \\beta_{22,1}Y_{2, t-1} + \\beta_{21,2}Y_{1, t-2} + \\beta_{22,2}Y_{2, t-2} + \\epsilon_{2, t}$"
   ]
  },
  {
   "cell_type": "code",
   "execution_count": 2,
   "metadata": {},
   "outputs": [],
   "source": [
    "import numpy as np\n",
    "import pandas as pd\n",
    "import matplotlib.pyplot as plt\n",
    "import seaborn as sns\n",
    "import statsmodels.api as sm\n",
    "from statsmodels.tsa.api import VAR\n",
    "from statsmodels.tsa.stattools import grangercausalitytests, adfuller\n",
    "from pandas import DataFrame, Series\n",
    "\n",
    "%matplotlib inline"
   ]
  },
  {
   "cell_type": "markdown",
   "metadata": {},
   "source": [
    "## 2. 数据集\n",
    "\n",
    "我们使用statsmodels提供的宏观经济数据，为简单起见，选择'realgdp','realcons','realinv'3个变量，分别代表美国实际GDP，实际消费和实际投资。"
   ]
  },
  {
   "cell_type": "code",
   "execution_count": 3,
   "metadata": {},
   "outputs": [
    {
     "data": {
      "text/html": [
       "<div>\n",
       "<style scoped>\n",
       "    .dataframe tbody tr th:only-of-type {\n",
       "        vertical-align: middle;\n",
       "    }\n",
       "\n",
       "    .dataframe tbody tr th {\n",
       "        vertical-align: top;\n",
       "    }\n",
       "\n",
       "    .dataframe thead th {\n",
       "        text-align: right;\n",
       "    }\n",
       "</style>\n",
       "<table border=\"1\" class=\"dataframe\">\n",
       "  <thead>\n",
       "    <tr style=\"text-align: right;\">\n",
       "      <th></th>\n",
       "      <th>realgdp</th>\n",
       "      <th>realcons</th>\n",
       "      <th>realinv</th>\n",
       "    </tr>\n",
       "    <tr>\n",
       "      <th>datetime</th>\n",
       "      <th></th>\n",
       "      <th></th>\n",
       "      <th></th>\n",
       "    </tr>\n",
       "  </thead>\n",
       "  <tbody>\n",
       "    <tr>\n",
       "      <th>2008-07-01</th>\n",
       "      <td>13324.600</td>\n",
       "      <td>9267.7</td>\n",
       "      <td>1990.693</td>\n",
       "    </tr>\n",
       "    <tr>\n",
       "      <th>2008-10-01</th>\n",
       "      <td>13141.920</td>\n",
       "      <td>9195.3</td>\n",
       "      <td>1857.661</td>\n",
       "    </tr>\n",
       "    <tr>\n",
       "      <th>2009-01-01</th>\n",
       "      <td>12925.410</td>\n",
       "      <td>9209.2</td>\n",
       "      <td>1558.494</td>\n",
       "    </tr>\n",
       "    <tr>\n",
       "      <th>2009-04-01</th>\n",
       "      <td>12901.504</td>\n",
       "      <td>9189.0</td>\n",
       "      <td>1456.678</td>\n",
       "    </tr>\n",
       "    <tr>\n",
       "      <th>2009-07-01</th>\n",
       "      <td>12990.341</td>\n",
       "      <td>9256.0</td>\n",
       "      <td>1486.398</td>\n",
       "    </tr>\n",
       "  </tbody>\n",
       "</table>\n",
       "</div>"
      ],
      "text/plain": [
       "              realgdp  realcons   realinv\n",
       "datetime                                 \n",
       "2008-07-01  13324.600    9267.7  1990.693\n",
       "2008-10-01  13141.920    9195.3  1857.661\n",
       "2009-01-01  12925.410    9209.2  1558.494\n",
       "2009-04-01  12901.504    9189.0  1456.678\n",
       "2009-07-01  12990.341    9256.0  1486.398"
      ]
     },
     "execution_count": 3,
     "metadata": {},
     "output_type": "execute_result"
    }
   ],
   "source": [
    "mdata = sm.datasets.macrodata.load_pandas().data\n",
    "mdata = (mdata.assign(year=lambda x: x[\"year\"].astype(int).astype(str),\n",
    "                      quarter=lambda x: x[\"quarter\"].astype(int).astype(str),\n",
    "                      datetime=lambda x: pd.to_datetime(x[\"year\"] + \"Q\" + x[\"quarter\"]))\n",
    "              .set_index(\"datetime\")\n",
    "              .filter([\"realgdp\", \"realcons\", \"realinv\"]))\n",
    "mdata.tail()"
   ]
  },
  {
   "cell_type": "markdown",
   "metadata": {},
   "source": [
    "## 3. 时间序列分析\n",
    "\n",
    "时序分析的第一步是可视化，先绘制趋势图。从趋势图可以获得很多信息，例如时间序列是否有趋势，季节性等。"
   ]
  },
  {
   "cell_type": "code",
   "execution_count": 4,
   "metadata": {},
   "outputs": [
    {
     "data": {
      "text/plain": [
       "<seaborn.axisgrid.FacetGrid at 0x7f07d5c846d8>"
      ]
     },
     "execution_count": 4,
     "metadata": {},
     "output_type": "execute_result"
    },
    {
     "data": {
      "image/png": "[encoded data removed]",
      "text/plain": [
       "<Figure size 540x648 with 3 Axes>"
      ]
     },
     "metadata": {
      "needs_background": "light"
     },
     "output_type": "display_data"
    }
   ],
   "source": [
    "mdata_melt = mdata.reset_index().melt(id_vars=[\"datetime\"])\n",
    "sns.relplot(\"datetime\", \"value\", data=mdata_melt, row=\"variable\",\n",
    "            kind=\"line\", height=3, aspect=2.5, facet_kws={\"sharey\": False})"
   ]
  },
  {
   "cell_type": "markdown",
   "metadata": {},
   "source": [
    "从图中可以明显看出，实际GDP，消费和投资都有明显的上升趋势，它们是非平稳的。\n",
    "\n",
    "先进行一阶差分，然后用ADF检验测试差分序列是否平稳。"
   ]
  },
  {
   "cell_type": "code",
   "execution_count": 5,
   "metadata": {},
   "outputs": [
    {
     "name": "stdout",
     "output_type": "stream",
     "text": [
      "realgdp\n",
      "==============================\n",
      "ADF statistic: -6.306\n",
      "p-value: 0.000\n",
      "used lags: 1\n",
      "============================== \n",
      "\n",
      "realcons\n",
      "==============================\n",
      "ADF statistic: -4.204\n",
      "p-value: 0.001\n",
      "used lags: 3\n",
      "============================== \n",
      "\n",
      "realinv\n",
      "==============================\n",
      "ADF statistic: -5.351\n",
      "p-value: 0.000\n",
      "used lags: 2\n",
      "============================== \n",
      "\n"
     ]
    }
   ],
   "source": [
    "def adf_test(ts: Series) -> None:\n",
    "    \"\"\"ADF检验，当p值低于选择的显著性水平如0.05，拒绝存在单位根的原假设，\n",
    "    认为时间序列是平稳的，相反p值大于阈值认为序列非平稳\n",
    "    \"\"\"\n",
    "    ts.dropna(inplace=True)\n",
    "    res = adfuller(ts, autolag=\"AIC\")\n",
    "    print(f\"ADF statistic: {res[0]:.3f}\")\n",
    "    print(f\"p-value: {res[1]:.3f}\")\n",
    "    print(f\"used lags: {res[2]}\")\n",
    "    \n",
    "mdata_diff = mdata.diff().dropna()\n",
    "# mdata_diff\n",
    "\n",
    "for col in mdata_diff.columns:\n",
    "    print(col)\n",
    "    print(\"=\"*30)\n",
    "    adf_test(mdata_diff[col])\n",
    "    print(\"=\"*30, \"\\n\")"
   ]
  },
  {
   "cell_type": "markdown",
   "metadata": {},
   "source": [
    "ADF检验显示，经过一阶差分后的序列是平稳的，我们将使用差分序列进行建模。"
   ]
  },
  {
   "cell_type": "markdown",
   "metadata": {},
   "source": [
    "## 4. 格兰杰因果检验\n",
    "\n",
    "#### 什么是格兰杰因果检验（Granger causality test）？\n",
    "\n",
    "格兰杰因果检验：一个时间序列X是否有助于预测另一个时间序列Y。虽然称为因果检验，但其实是领先-滞后关系检验，检验本身无法揭示经济意义上的因果关系。直觉理解：给定时间序列$X_t$和$Y_t$，拟合两个回归方程，第一个方程用$Y_t$的滞后项预测$Y_t$，第二个方程用$Y_t$和$X_t$的滞后项预测$Y_t$，如果第二个方程的解释能力比第一个强，认为$X_t$是$Y_t$的格兰杰原因。\n",
    "\n",
    "关于格兰杰检验：\n",
    "\n",
    "* [Statistics HowTo](https://www.statisticshowto.com/granger-causality/)\n",
    "* [Wikipedia](https://en.wikipedia.org/wiki/Granger_causality)\n",
    "\n",
    "#### 为什么进行因果检验？\n",
    "\n",
    "VAR假设序列相互影响，即可以用该序列和其它变量的滞后项预测自身，简单来说就是存在\"因果关系\"，如果序列是相互独立的，VAR不适用。"
   ]
  },
  {
   "cell_type": "markdown",
   "metadata": {},
   "source": [
    "接下来我们调用statsmodels的grangercausalitytests接口，构建辅助函数检验3个宏观经济变量是否存在因果关系？"
   ]
  },
  {
   "cell_type": "code",
   "execution_count": 6,
   "metadata": {},
   "outputs": [
    {
     "data": {
      "text/html": [
       "<div>\n",
       "<style scoped>\n",
       "    .dataframe tbody tr th:only-of-type {\n",
       "        vertical-align: middle;\n",
       "    }\n",
       "\n",
       "    .dataframe tbody tr th {\n",
       "        vertical-align: top;\n",
       "    }\n",
       "\n",
       "    .dataframe thead th {\n",
       "        text-align: right;\n",
       "    }\n",
       "</style>\n",
       "<table border=\"1\" class=\"dataframe\">\n",
       "  <thead>\n",
       "    <tr style=\"text-align: right;\">\n",
       "      <th></th>\n",
       "      <th>realgdp</th>\n",
       "      <th>realcons</th>\n",
       "      <th>realinv</th>\n",
       "    </tr>\n",
       "  </thead>\n",
       "  <tbody>\n",
       "    <tr>\n",
       "      <th>realgdp</th>\n",
       "      <td>1.0000</td>\n",
       "      <td>0.0</td>\n",
       "      <td>0.1292</td>\n",
       "    </tr>\n",
       "    <tr>\n",
       "      <th>realcons</th>\n",
       "      <td>0.0171</td>\n",
       "      <td>1.0</td>\n",
       "      <td>0.0022</td>\n",
       "    </tr>\n",
       "    <tr>\n",
       "      <th>realinv</th>\n",
       "      <td>0.0000</td>\n",
       "      <td>0.0</td>\n",
       "      <td>1.0000</td>\n",
       "    </tr>\n",
       "  </tbody>\n",
       "</table>\n",
       "</div>"
      ],
      "text/plain": [
       "          realgdp  realcons  realinv\n",
       "realgdp    1.0000       0.0   0.1292\n",
       "realcons   0.0171       1.0   0.0022\n",
       "realinv    0.0000       0.0   1.0000"
      ]
     },
     "execution_count": 6,
     "metadata": {},
     "output_type": "execute_result"
    }
   ],
   "source": [
    "def granger_test_matrix(df: DataFrame,\n",
    "                        maxlag: int = 4,\n",
    "                        test: str = \"ssr_ftest\") -> DataFrame:\n",
    "    \"\"\"对数据框的所有变量进行格兰杰因果检验\n",
    "    \n",
    "    Args:\n",
    "        df(pd.DataFrame): 列变量是要测试的时间序列\n",
    "        maxlag(int): 最大滞后阶数\n",
    "        test(str): 检验统计量，可选值为('ssr_ftest', 'ssr_chi2test',\n",
    "            'lrtest', 'params_ftest')\n",
    "            \n",
    "    Returns:\n",
    "        pd.DataFrame, 记录p值，列是回归方程的自变量(因)，行是回归方程的因变量(果)\n",
    "    \"\"\"\n",
    "    variables = list(df.columns)\n",
    "    out = pd.DataFrame(\n",
    "        np.zeros((len(variables), len(variables))),\n",
    "        index=variables, columns=variables)\n",
    "    \n",
    "    for x in out.columns:  # 预测变量\n",
    "        for y in out.index: # 因变量\n",
    "            gc_res = grangercausalitytests(df[[y, x]], maxlag, verbose=False)\n",
    "            pvalue = np.min([gc_res[lag+1][0][test][1] for lag in range(maxlag)])\n",
    "            out.loc[y, x] = round(pvalue, 4)\n",
    "    \n",
    "    return out\n",
    "\n",
    "\n",
    "granger_test_matrix(mdata_diff)"
   ]
  },
  {
   "cell_type": "markdown",
   "metadata": {},
   "source": [
    "行变量是果(回归模型的被解释变量)，列变量是因(回归模型的预测变量)，第二行第一个值是0.0171，意味着realgdp是realcons的格兰杰原因，第一行第二列的值是0.0，意味着realcons是realgdp的格兰杰原因。\n",
    "\n",
    "除第一行第三列的值外，其余p值都低于常见显著性水平0.05，所以我们认为3个变量间相互影响，可以构建VAR模型。"
   ]
  },
  {
   "cell_type": "markdown",
   "metadata": {},
   "source": [
    "## 5. 建立模型\n",
    "\n",
    "* 拆分训练集和检验集\n",
    "* 在训练集拟合模型，选择最优的滞后阶数p\n",
    "* 拟合最优模型，诊断检验\n",
    "* 在测试集评估预测能力"
   ]
  },
  {
   "cell_type": "markdown",
   "metadata": {},
   "source": [
    "### 5.1 拆分训练集和检验集"
   ]
  },
  {
   "cell_type": "code",
   "execution_count": 56,
   "metadata": {},
   "outputs": [],
   "source": [
    "# 训练集大小\n",
    "test_size = 10\n",
    "\n",
    "df_train = mdata.iloc[:-test_size]\n",
    "df_test = mdata.iloc[-test_size:]\n",
    "\n",
    "# VAR模型要求时间序列是平稳的，所以先对训练集进行一阶差分\n",
    "df_train_diff = df_train.diff().dropna()"
   ]
  },
  {
   "cell_type": "markdown",
   "metadata": {},
   "source": [
    "### 5.2 寻找最优滞后阶数p\n",
    "\n",
    "网格搜索：\n",
    "\n",
    "1. 确定p的扫描区间，逐个拟合模型，记录AIC作为拟合优度的衡量指标。\n",
    "2. 选择AIC最小(即拟合优度)的滞后阶数。\n",
    "\n",
    "AIC是通用指标而不是唯一的指标，也可以使用BIC衡量拟合优度。"
   ]
  },
  {
   "cell_type": "code",
   "execution_count": 57,
   "metadata": {},
   "outputs": [
    {
     "name": "stdout",
     "output_type": "stream",
     "text": [
      "lag=1 aic=19.710899367309775\n",
      "lag=2 aic=19.71900654701932\n",
      "lag=3 aic=19.66057523896647\n",
      "lag=4 aic=19.721564579820388\n",
      "lag=5 aic=19.759409383410194\n",
      "lag=6 aic=19.815978860519156\n",
      "lag=7 aic=19.84561356998511\n",
      "lag=8 aic=19.85931337035835\n",
      "lag=9 aic=19.918771342700236\n",
      "lag=10 aic=19.968592711625696\n",
      "optimal lag = 3, min aic = 19.66057523896647\n"
     ]
    }
   ],
   "source": [
    "model = VAR(df_train_diff, freq=\"QS-OCT\")\n",
    "\n",
    "p_rng = list(range(1, 11))\n",
    "aics = {}\n",
    "\n",
    "for p in p_rng:\n",
    "    results = model.fit(p)\n",
    "    aic = results.aic\n",
    "    aics.update({p: aic})\n",
    "    print(f\"lag={p} aic={aic}\")\n",
    "    \n",
    "aics_sort = sorted(aics.items(), key=lambda x: x[1])\n",
    "print(f\"optimal lag = {aics_sort[0][0]}, min aic = {aics_sort[0][1]}\")"
   ]
  },
  {
   "cell_type": "markdown",
   "metadata": {},
   "source": [
    "调用model.select_order(max_lag)，也可以获得相同的结果。"
   ]
  },
  {
   "cell_type": "code",
   "execution_count": 58,
   "metadata": {},
   "outputs": [
    {
     "data": {
      "text/html": [
       "<table class=\"simpletable\">\n",
       "<caption>VAR Order Selection (* highlights the minimums)</caption>\n",
       "<tr>\n",
       "   <td></td>      <th>AIC</th>         <th>BIC</th>         <th>FPE</th>        <th>HQIC</th>    \n",
       "</tr>\n",
       "<tr>\n",
       "  <th>0</th>  <td>     20.27</td>  <td>     20.32</td>  <td> 6.346e+08</td>  <td>     20.29</td> \n",
       "</tr>\n",
       "<tr>\n",
       "  <th>1</th>  <td>     19.80</td>  <td>     20.01*</td> <td> 3.969e+08</td>  <td>     19.88*</td>\n",
       "</tr>\n",
       "<tr>\n",
       "  <th>2</th>  <td>     19.80</td>  <td>     20.17</td>  <td> 3.974e+08</td>  <td>     19.95</td> \n",
       "</tr>\n",
       "<tr>\n",
       "  <th>3</th>  <td>     19.74*</td> <td>     20.26</td>  <td> 3.726e+08*</td> <td>     19.95</td> \n",
       "</tr>\n",
       "<tr>\n",
       "  <th>4</th>  <td>     19.79</td>  <td>     20.48</td>  <td> 3.948e+08</td>  <td>     20.07</td> \n",
       "</tr>\n",
       "<tr>\n",
       "  <th>5</th>  <td>     19.82</td>  <td>     20.67</td>  <td> 4.062e+08</td>  <td>     20.16</td> \n",
       "</tr>\n",
       "<tr>\n",
       "  <th>6</th>  <td>     19.87</td>  <td>     20.87</td>  <td> 4.272e+08</td>  <td>     20.28</td> \n",
       "</tr>\n",
       "<tr>\n",
       "  <th>7</th>  <td>     19.89</td>  <td>     21.05</td>  <td> 4.358e+08</td>  <td>     20.36</td> \n",
       "</tr>\n",
       "<tr>\n",
       "  <th>8</th>  <td>     19.89</td>  <td>     21.21</td>  <td> 4.358e+08</td>  <td>     20.42</td> \n",
       "</tr>\n",
       "<tr>\n",
       "  <th>9</th>  <td>     19.93</td>  <td>     21.41</td>  <td> 4.580e+08</td>  <td>     20.53</td> \n",
       "</tr>\n",
       "<tr>\n",
       "  <th>10</th> <td>     19.97</td>  <td>     21.61</td>  <td> 4.749e+08</td>  <td>     20.63</td> \n",
       "</tr>\n",
       "</table>"
      ],
      "text/plain": [
       "<class 'statsmodels.iolib.table.SimpleTable'>"
      ]
     },
     "execution_count": 58,
     "metadata": {},
     "output_type": "execute_result"
    }
   ],
   "source": [
    "results = model.select_order(10)\n",
    "results.summary()"
   ]
  },
  {
   "cell_type": "markdown",
   "metadata": {},
   "source": [
    "### 5.3 拟合最优模型\n",
    "\n",
    "我们选择3作为最大滞后阶数，拟合VAR(3)，视为最优模型，查看估计系数。"
   ]
  },
  {
   "cell_type": "code",
   "execution_count": 59,
   "metadata": {},
   "outputs": [
    {
     "data": {
      "text/plain": [
       "  Summary of Regression Results   \n",
       "==================================\n",
       "Model:                         VAR\n",
       "Method:                        OLS\n",
       "Date:           Sun, 19, Jul, 2020\n",
       "Time:                     12:00:22\n",
       "--------------------------------------------------------------------\n",
       "No. of Equations:         3.00000    BIC:                    20.1751\n",
       "Nobs:                     189.000    HQIC:                   19.8690\n",
       "Log likelihood:          -2632.46    FPE:                3.45627e+08\n",
       "AIC:                      19.6606    Det(Omega_mle):     2.96097e+08\n",
       "--------------------------------------------------------------------\n",
       "Results for equation realgdp\n",
       "==============================================================================\n",
       "                 coefficient       std. error           t-stat            prob\n",
       "------------------------------------------------------------------------------\n",
       "const              18.001958         7.173155            2.510           0.012\n",
       "L1.realgdp         -0.468027         0.162370           -2.882           0.004\n",
       "L1.realcons         1.158829         0.198556            5.836           0.000\n",
       "L1.realinv          0.476950         0.192369            2.479           0.013\n",
       "L2.realgdp         -0.026295         0.168547           -0.156           0.876\n",
       "L2.realcons         0.346221         0.220879            1.567           0.117\n",
       "L2.realinv          0.062288         0.204418            0.305           0.761\n",
       "L3.realgdp         -0.129661         0.168461           -0.770           0.441\n",
       "L3.realcons         0.156085         0.218378            0.715           0.475\n",
       "L3.realinv          0.003991         0.195651            0.020           0.984\n",
       "==============================================================================\n",
       "\n",
       "Results for equation realcons\n",
       "==============================================================================\n",
       "                 coefficient       std. error           t-stat            prob\n",
       "------------------------------------------------------------------------------\n",
       "const              16.577773         4.155710            3.989           0.000\n",
       "L1.realgdp         -0.200359         0.094068           -2.130           0.033\n",
       "L1.realcons         0.398300         0.115032            3.463           0.001\n",
       "L1.realinv          0.227130         0.111448            2.038           0.042\n",
       "L2.realgdp         -0.132862         0.097646           -1.361           0.174\n",
       "L2.realcons         0.313949         0.127964            2.453           0.014\n",
       "L2.realinv          0.112161         0.118428            0.947           0.344\n",
       "L3.realgdp         -0.154181         0.097597           -1.580           0.114\n",
       "L3.realcons         0.458775         0.126516            3.626           0.000\n",
       "L3.realinv          0.051093         0.113349            0.451           0.652\n",
       "==============================================================================\n",
       "\n",
       "Results for equation realinv\n",
       "==============================================================================\n",
       "                 coefficient       std. error           t-stat            prob\n",
       "------------------------------------------------------------------------------\n",
       "const              -5.242697         5.127651           -1.022           0.307\n",
       "L1.realgdp         -0.201174         0.116069           -1.733           0.083\n",
       "L1.realcons         0.806632         0.141935            5.683           0.000\n",
       "L1.realinv          0.283579         0.137513            2.062           0.039\n",
       "L2.realgdp          0.032107         0.120484            0.266           0.790\n",
       "L2.realcons         0.014227         0.157893            0.090           0.928\n",
       "L2.realinv          0.051760         0.146126            0.354           0.723\n",
       "L3.realgdp         -0.058838         0.120423           -0.489           0.625\n",
       "L3.realcons        -0.230584         0.156105           -1.477           0.140\n",
       "L3.realinv          0.065694         0.139859            0.470           0.639\n",
       "==============================================================================\n",
       "\n",
       "Correlation matrix of residuals\n",
       "             realgdp  realcons   realinv\n",
       "realgdp     1.000000  0.518607  0.699935\n",
       "realcons    0.518607  1.000000 -0.041368\n",
       "realinv     0.699935 -0.041368  1.000000\n",
       "\n"
      ]
     },
     "execution_count": 59,
     "metadata": {},
     "output_type": "execute_result"
    }
   ],
   "source": [
    "model_fitted = model.fit(3)\n",
    "model_fitted.summary()"
   ]
  },
  {
   "cell_type": "markdown",
   "metadata": {},
   "source": [
    "### 5.4 评估预测能力"
   ]
  },
  {
   "cell_type": "code",
   "execution_count": 62,
   "metadata": {},
   "outputs": [
    {
     "data": {
      "text/html": [
       "<div>\n",
       "<style scoped>\n",
       "    .dataframe tbody tr th:only-of-type {\n",
       "        vertical-align: middle;\n",
       "    }\n",
       "\n",
       "    .dataframe tbody tr th {\n",
       "        vertical-align: top;\n",
       "    }\n",
       "\n",
       "    .dataframe thead th {\n",
       "        text-align: right;\n",
       "    }\n",
       "</style>\n",
       "<table border=\"1\" class=\"dataframe\">\n",
       "  <thead>\n",
       "    <tr style=\"text-align: right;\">\n",
       "      <th></th>\n",
       "      <th>realgdp</th>\n",
       "      <th>realcons</th>\n",
       "      <th>realinv</th>\n",
       "    </tr>\n",
       "    <tr>\n",
       "      <th>datetime</th>\n",
       "      <th></th>\n",
       "      <th></th>\n",
       "      <th></th>\n",
       "    </tr>\n",
       "  </thead>\n",
       "  <tbody>\n",
       "    <tr>\n",
       "      <th>2007-04-01</th>\n",
       "      <td>113.631275</td>\n",
       "      <td>66.613453</td>\n",
       "      <td>30.678067</td>\n",
       "    </tr>\n",
       "    <tr>\n",
       "      <th>2007-07-01</th>\n",
       "      <td>84.092235</td>\n",
       "      <td>68.412043</td>\n",
       "      <td>4.331948</td>\n",
       "    </tr>\n",
       "    <tr>\n",
       "      <th>2007-10-01</th>\n",
       "      <td>89.788769</td>\n",
       "      <td>67.774585</td>\n",
       "      <td>16.682975</td>\n",
       "    </tr>\n",
       "    <tr>\n",
       "      <th>2008-01-01</th>\n",
       "      <td>80.004963</td>\n",
       "      <td>54.771050</td>\n",
       "      <td>19.961167</td>\n",
       "    </tr>\n",
       "    <tr>\n",
       "      <th>2008-04-01</th>\n",
       "      <td>75.483202</td>\n",
       "      <td>56.758296</td>\n",
       "      <td>12.775608</td>\n",
       "    </tr>\n",
       "    <tr>\n",
       "      <th>2008-07-01</th>\n",
       "      <td>71.645767</td>\n",
       "      <td>53.869173</td>\n",
       "      <td>13.544326</td>\n",
       "    </tr>\n",
       "    <tr>\n",
       "      <th>2008-10-01</th>\n",
       "      <td>70.071797</td>\n",
       "      <td>49.790893</td>\n",
       "      <td>15.504452</td>\n",
       "    </tr>\n",
       "    <tr>\n",
       "      <th>2009-01-01</th>\n",
       "      <td>67.033625</td>\n",
       "      <td>49.857841</td>\n",
       "      <td>12.298525</td>\n",
       "    </tr>\n",
       "    <tr>\n",
       "      <th>2009-04-01</th>\n",
       "      <td>65.805266</td>\n",
       "      <td>48.219143</td>\n",
       "      <td>12.989970</td>\n",
       "    </tr>\n",
       "    <tr>\n",
       "      <th>2009-07-01</th>\n",
       "      <td>64.289711</td>\n",
       "      <td>46.506517</td>\n",
       "      <td>13.010570</td>\n",
       "    </tr>\n",
       "  </tbody>\n",
       "</table>\n",
       "</div>"
      ],
      "text/plain": [
       "               realgdp   realcons    realinv\n",
       "datetime                                    \n",
       "2007-04-01  113.631275  66.613453  30.678067\n",
       "2007-07-01   84.092235  68.412043   4.331948\n",
       "2007-10-01   89.788769  67.774585  16.682975\n",
       "2008-01-01   80.004963  54.771050  19.961167\n",
       "2008-04-01   75.483202  56.758296  12.775608\n",
       "2008-07-01   71.645767  53.869173  13.544326\n",
       "2008-10-01   70.071797  49.790893  15.504452\n",
       "2009-01-01   67.033625  49.857841  12.298525\n",
       "2009-04-01   65.805266  48.219143  12.989970\n",
       "2009-07-01   64.289711  46.506517  13.010570"
      ]
     },
     "execution_count": 62,
     "metadata": {},
     "output_type": "execute_result"
    }
   ],
   "source": [
    "# 生成预测值\n",
    "# 由于输入是一阶差分，预测值也是一阶差分\n",
    "fc = model_fitted.forecast(model_fitted.endog, steps=len(df_test))\n",
    "fc_df = pd.DataFrame(fc, columns=df_test.columns, index=df_test.index)\n",
    "fc_df"
   ]
  },
  {
   "cell_type": "code",
   "execution_count": 63,
   "metadata": {},
   "outputs": [
    {
     "data": {
      "text/html": [
       "<div>\n",
       "<style scoped>\n",
       "    .dataframe tbody tr th:only-of-type {\n",
       "        vertical-align: middle;\n",
       "    }\n",
       "\n",
       "    .dataframe tbody tr th {\n",
       "        vertical-align: top;\n",
       "    }\n",
       "\n",
       "    .dataframe thead th {\n",
       "        text-align: right;\n",
       "    }\n",
       "</style>\n",
       "<table border=\"1\" class=\"dataframe\">\n",
       "  <thead>\n",
       "    <tr style=\"text-align: right;\">\n",
       "      <th></th>\n",
       "      <th>realgdp</th>\n",
       "      <th>realcons</th>\n",
       "      <th>realinv</th>\n",
       "    </tr>\n",
       "    <tr>\n",
       "      <th>datetime</th>\n",
       "      <th></th>\n",
       "      <th></th>\n",
       "      <th></th>\n",
       "    </tr>\n",
       "  </thead>\n",
       "  <tbody>\n",
       "    <tr>\n",
       "      <th>2007-04-01</th>\n",
       "      <td>13213.532275</td>\n",
       "      <td>9445.344728</td>\n",
       "      <td>2343.531795</td>\n",
       "    </tr>\n",
       "    <tr>\n",
       "      <th>2007-07-01</th>\n",
       "      <td>13183.993235</td>\n",
       "      <td>9417.604278</td>\n",
       "      <td>2289.445226</td>\n",
       "    </tr>\n",
       "    <tr>\n",
       "      <th>2007-10-01</th>\n",
       "      <td>13189.689769</td>\n",
       "      <td>9422.663354</td>\n",
       "      <td>2306.855329</td>\n",
       "    </tr>\n",
       "    <tr>\n",
       "      <th>2008-01-01</th>\n",
       "      <td>13179.905963</td>\n",
       "      <td>9399.876013</td>\n",
       "      <td>2287.346180</td>\n",
       "    </tr>\n",
       "    <tr>\n",
       "      <th>2008-04-01</th>\n",
       "      <td>13175.384202</td>\n",
       "      <td>9397.341499</td>\n",
       "      <td>2277.626106</td>\n",
       "    </tr>\n",
       "    <tr>\n",
       "      <th>2008-07-01</th>\n",
       "      <td>13171.546767</td>\n",
       "      <td>9390.614940</td>\n",
       "      <td>2271.668266</td>\n",
       "    </tr>\n",
       "    <tr>\n",
       "      <th>2008-10-01</th>\n",
       "      <td>13169.972797</td>\n",
       "      <td>9384.962690</td>\n",
       "      <td>2267.976142</td>\n",
       "    </tr>\n",
       "    <tr>\n",
       "      <th>2009-01-01</th>\n",
       "      <td>13166.934625</td>\n",
       "      <td>9381.991466</td>\n",
       "      <td>2261.798991</td>\n",
       "    </tr>\n",
       "    <tr>\n",
       "      <th>2009-04-01</th>\n",
       "      <td>13165.706266</td>\n",
       "      <td>9379.124408</td>\n",
       "      <td>2259.623378</td>\n",
       "    </tr>\n",
       "    <tr>\n",
       "      <th>2009-07-01</th>\n",
       "      <td>13164.190711</td>\n",
       "      <td>9375.896228</td>\n",
       "      <td>2256.415797</td>\n",
       "    </tr>\n",
       "  </tbody>\n",
       "</table>\n",
       "</div>"
      ],
      "text/plain": [
       "                 realgdp     realcons      realinv\n",
       "datetime                                          \n",
       "2007-04-01  13213.532275  9445.344728  2343.531795\n",
       "2007-07-01  13183.993235  9417.604278  2289.445226\n",
       "2007-10-01  13189.689769  9422.663354  2306.855329\n",
       "2008-01-01  13179.905963  9399.876013  2287.346180\n",
       "2008-04-01  13175.384202  9397.341499  2277.626106\n",
       "2008-07-01  13171.546767  9390.614940  2271.668266\n",
       "2008-10-01  13169.972797  9384.962690  2267.976142\n",
       "2009-01-01  13166.934625  9381.991466  2261.798991\n",
       "2009-04-01  13165.706266  9379.124408  2259.623378\n",
       "2009-07-01  13164.190711  9375.896228  2256.415797"
      ]
     },
     "execution_count": 63,
     "metadata": {},
     "output_type": "execute_result"
    }
   ],
   "source": [
    "# 将预测值的度量单位(一阶差分)转化为原始度量单位\n",
    "fc_df = fc_df.cumsum(axis=1) + df_train.iloc[-1]\n",
    "fc_df"
   ]
  },
  {
   "cell_type": "code",
   "execution_count": 64,
   "metadata": {},
   "outputs": [
    {
     "data": {
      "text/html": [
       "<div>\n",
       "<style scoped>\n",
       "    .dataframe tbody tr th:only-of-type {\n",
       "        vertical-align: middle;\n",
       "    }\n",
       "\n",
       "    .dataframe tbody tr th {\n",
       "        vertical-align: top;\n",
       "    }\n",
       "\n",
       "    .dataframe thead th {\n",
       "        text-align: right;\n",
       "    }\n",
       "</style>\n",
       "<table border=\"1\" class=\"dataframe\">\n",
       "  <thead>\n",
       "    <tr style=\"text-align: right;\">\n",
       "      <th></th>\n",
       "      <th>mae</th>\n",
       "      <th>mape</th>\n",
       "      <th>mse</th>\n",
       "      <th>rmse</th>\n",
       "      <th>corr</th>\n",
       "    </tr>\n",
       "  </thead>\n",
       "  <tbody>\n",
       "    <tr>\n",
       "      <th>realgdp</th>\n",
       "      <td>163.575374</td>\n",
       "      <td>0.012410</td>\n",
       "      <td>33458.807346</td>\n",
       "      <td>182.917488</td>\n",
       "      <td>0.454671</td>\n",
       "    </tr>\n",
       "    <tr>\n",
       "      <th>realcons</th>\n",
       "      <td>118.691960</td>\n",
       "      <td>0.012828</td>\n",
       "      <td>17001.589877</td>\n",
       "      <td>130.390145</td>\n",
       "      <td>0.609444</td>\n",
       "    </tr>\n",
       "    <tr>\n",
       "      <th>realinv</th>\n",
       "      <td>391.082821</td>\n",
       "      <td>0.233162</td>\n",
       "      <td>216609.166403</td>\n",
       "      <td>465.412899</td>\n",
       "      <td>0.748908</td>\n",
       "    </tr>\n",
       "  </tbody>\n",
       "</table>\n",
       "</div>"
      ],
      "text/plain": [
       "                 mae      mape            mse        rmse      corr\n",
       "realgdp   163.575374  0.012410   33458.807346  182.917488  0.454671\n",
       "realcons  118.691960  0.012828   17001.589877  130.390145  0.609444\n",
       "realinv   391.082821  0.233162  216609.166403  465.412899  0.748908"
      ]
     },
     "execution_count": 64,
     "metadata": {},
     "output_type": "execute_result"
    }
   ],
   "source": [
    "# 评估预测精度\n",
    "def evaluate_accuracy(forecast, actual):\n",
    "    \"\"\"计算常用的精度评估指标\"\"\"\n",
    "    # 平均绝对误差 MAE\n",
    "    mae = np.mean(np.abs(forecast - actual))\n",
    "    # 平均绝对百分比误差 MAPE\n",
    "    mape = np.mean(np.abs(forecast - actual) / np.abs(actual))\n",
    "    # 均方误差 MSE\n",
    "    mse = np.mean((forecast - actual) ** 2)\n",
    "    # 均方根误差 RMSE\n",
    "    rmse = np.sqrt(mse)\n",
    "    # 实际值和预测值的相关系数\n",
    "    corr = np.corrcoef(forecast, actual)[0, 1]\n",
    "    \n",
    "    return {\n",
    "        \"mae\": mae,\n",
    "        \"mape\": mape,\n",
    "        \"mse\": mse,\n",
    "        \"rmse\": rmse,\n",
    "        \"corr\": corr\n",
    "    }\n",
    "\n",
    "\n",
    "metrics = []\n",
    "for col in fc_df.columns:\n",
    "    acc_metrics = evaluate_accuracy(fc_df[col], df_test[col])\n",
    "    metrics.append(acc_metrics)\n",
    "    \n",
    "metrics_df = pd.DataFrame.from_records(metrics, index=fc_df.columns)\n",
    "metrics_df"
   ]
  },
  {
   "cell_type": "code",
   "execution_count": 65,
   "metadata": {},
   "outputs": [
    {
     "data": {
      "image/png": "[encoded data removed]",
      "text/plain": [
       "<Figure size 576x576 with 3 Axes>"
      ]
     },
     "metadata": {
      "needs_background": "light"
     },
     "output_type": "display_data"
    }
   ],
   "source": [
    "# 可视化，对比实际值和预测值\n",
    "fig, ax = plt.subplots(nrows=3, ncols=1, figsize=(8, 8),\n",
    "                       sharex=True, sharey=False)\n",
    "\n",
    "for i, axi in enumerate(ax.flatten()):\n",
    "    label = df_test.columns[i]\n",
    "    axi.plot(df_test.iloc[:, i], label=f\"{label}(actual)\")\n",
    "    axi.plot(fc_df.iloc[:, i], label=f\"{label}(forecast)\")\n",
    "    axi.legend()\n",
    "    \n",
    "plt.tight_layout()"
   ]
  },
  {
   "cell_type": "code",
   "execution_count": null,
   "metadata": {},
   "outputs": [],
   "source": []
  }
 ],
 "metadata": {
  "kernelspec": {
   "display_name": "Python 3",
   "language": "python",
   "name": "python3"
  },
  "language_info": {
   "codemirror_mode": {
    "name": "ipython",
    "version": 3
   },
   "file_extension": ".py",
   "mimetype": "text/x-python",
   "name": "python",
   "nbconvert_exporter": "python",
   "pygments_lexer": "ipython3",
   "version": "3.7.3"
  }
 },
 "nbformat": 4,
 "nbformat_minor": 4
}

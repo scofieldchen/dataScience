{
 "cells": [
  {
   "cell_type": "markdown",
   "metadata": {},
   "source": [
    "## 1. 预测区间\n",
    "\n",
    "#### 置信区间 vs 预测区间\n",
    "\n",
    "置信区间(Confidence Interval): 与总体参数相关的不确定性区间，如回归系数$\\beta_i$和$E(Y/X_0)$.\n",
    "\n",
    "预测区间(Predition Interval): 单个预测值($\\hat{y}$)的不确定区间。\n",
    "\n",
    "回归模型用样本推断总体，观测值存在测量误差，这些都是不确定性的来源。\n",
    "\n",
    "#### 自助法生成回归系数的置信区间\n",
    "\n",
    "自主算法(Bootstrap Algorithm)\n",
    "\n",
    "1. 从数据集中随机抽取1个观测值(包含所有特征和目标变量)，放回。\n",
    "2. 重复第一步n次，有放回重复采样，得到一个自助法重抽样。\n",
    "3. 根据第二步的结果拟合回归模型，记录所有的估计系数。\n",
    "4. 重复第一步到第三步k次，k足够大，例如1000。\n",
    "5. 每个回归系数都有1000个估计值，对于特定的系数，计算第5百分位数和95百分位数，即可获得改系数的90%置信区间。\n",
    "\n",
    "#### 自助法生成点预测值的预测区间\n",
    "\n",
    "1. 从数据集中获取自助样本。\n",
    "2. 拟合回归模型，预测，记录点预测值。\n",
    "3. 重复前两步k次，k足够大，例如1000。\n",
    "4. 当前有1000个点预测值，计算第5百分位数和第95百分位数，即可获得点预测的90%的置信区间。"
   ]
  },
  {
   "cell_type": "markdown",
   "metadata": {},
   "source": [
    "## 2. 用statsmodels计算预测区间\n",
    "\n",
    "[statsmodel](https://www.statsmodels.org/stable/examples/notebooks/generated/ols.html?highlight=prediction%20interval)"
   ]
  },
  {
   "cell_type": "code",
   "execution_count": 2,
   "metadata": {},
   "outputs": [],
   "source": [
    "import numpy as np\n",
    "import pandas as pd\n",
    "import matplotlib.pyplot as plt\n",
    "import statsmodels.api as sm\n",
    "from statsmodels.sandbox.regression.predstd import wls_prediction_std"
   ]
  },
  {
   "cell_type": "markdown",
   "metadata": {},
   "source": [
    "合成数据，假设双变量回归模型: $y_i = 2.0 + 3.5x_i + \\epsilon_i$"
   ]
  },
  {
   "cell_type": "code",
   "execution_count": 22,
   "metadata": {},
   "outputs": [],
   "source": [
    "# 设置随机数种子\n",
    "np.random.seed(123)\n",
    "\n",
    "nsamples = 50\n",
    "betas = [2.0, 3.5]  # 截距系数，斜率系数\n",
    "X = np.random.uniform(0, 1, nsamples)\n",
    "e = np.random.normal(size=nsamples)\n",
    "\n",
    "# 模型需要截距项，先添加常数列\n",
    "X = sm.add_constant(X)\n",
    "\n",
    "# 生成 y\n",
    "y = np.dot(X, betas) + e"
   ]
  },
  {
   "cell_type": "markdown",
   "metadata": {},
   "source": [
    "用statsmodels拟合回归模型。"
   ]
  },
  {
   "cell_type": "code",
   "execution_count": 23,
   "metadata": {},
   "outputs": [
    {
     "name": "stdout",
     "output_type": "stream",
     "text": [
      "                            OLS Regression Results                            \n",
      "==============================================================================\n",
      "Dep. Variable:                      y   R-squared:                       0.306\n",
      "Model:                            OLS   Adj. R-squared:                  0.292\n",
      "Method:                 Least Squares   F-statistic:                     21.20\n",
      "Date:                Thu, 05 Mar 2020   Prob (F-statistic):           3.06e-05\n",
      "Time:                        09:59:29   Log-Likelihood:                -76.092\n",
      "No. Observations:                  50   AIC:                             156.2\n",
      "Df Residuals:                      48   BIC:                             160.0\n",
      "Df Model:                           1                                         \n",
      "Covariance Type:            nonrobust                                         \n",
      "==============================================================================\n",
      "                 coef    std err          t      P>|t|      [0.025      0.975]\n",
      "------------------------------------------------------------------------------\n",
      "const          2.2717      0.381      5.968      0.000       1.506       3.037\n",
      "x1             3.1685      0.688      4.604      0.000       1.785       4.552\n",
      "==============================================================================\n",
      "Omnibus:                        8.927   Durbin-Watson:                   2.145\n",
      "Prob(Omnibus):                  0.012   Jarque-Bera (JB):                2.662\n",
      "Skew:                           0.016   Prob(JB):                        0.264\n",
      "Kurtosis:                       1.870   Cond. No.                         5.43\n",
      "==============================================================================\n",
      "\n",
      "Warnings:\n",
      "[1] Standard Errors assume that the covariance matrix of the errors is correctly specified.\n"
     ]
    }
   ],
   "source": [
    "model = sm.OLS(y, X)\n",
    "results = model.fit()\n",
    "print(results.summary())"
   ]
  },
  {
   "cell_type": "markdown",
   "metadata": {},
   "source": [
    "调用wls_prediction_std()计算预测区间。"
   ]
  },
  {
   "cell_type": "code",
   "execution_count": 31,
   "metadata": {},
   "outputs": [
    {
     "data": {
      "text/plain": [
       "<matplotlib.legend.Legend at 0x7f1f2f705f98>"
      ]
     },
     "execution_count": 31,
     "metadata": {},
     "output_type": "execute_result"
    },
    {
     "data": {
      "image/png": "[encoded data removed]",
      "text/plain": [
       "<Figure size 720x444.96 with 1 Axes>"
      ]
     },
     "metadata": {
      "needs_background": "light"
     },
     "output_type": "display_data"
    }
   ],
   "source": [
    "pred_std, interval_lower, interval_upper = wls_prediction_std(results)\n",
    "\n",
    "fig, ax = plt.subplots(figsize=(10, 6.18))\n",
    "ax.scatter(X[:,1], y, label=\"data\")\n",
    "ax.plot(X[:,1], results.fittedvalues, \"r\", label=\"fitted line\")\n",
    "ax.plot(X[:,1], interval_lower, \"r--\", label=\"prediction interval lower\")\n",
    "ax.plot(X[:,1], interval_upper, \"r--\", label=\"prediction interval upper\")\n",
    "ax.legend(loc=\"best\")"
   ]
  },
  {
   "cell_type": "code",
   "execution_count": null,
   "metadata": {},
   "outputs": [],
   "source": []
  }
 ],
 "metadata": {
  "kernelspec": {
   "display_name": "Python 3",
   "language": "python",
   "name": "python3"
  },
  "language_info": {
   "codemirror_mode": {
    "name": "ipython",
    "version": 3
   },
   "file_extension": ".py",
   "mimetype": "text/x-python",
   "name": "python",
   "nbconvert_exporter": "python",
   "pygments_lexer": "ipython3",
   "version": "3.7.3"
  }
 },
 "nbformat": 4,
 "nbformat_minor": 4
}

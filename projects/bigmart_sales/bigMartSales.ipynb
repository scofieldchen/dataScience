{
 "cells": [
  {
   "cell_type": "markdown",
   "metadata": {},
   "source": [
    "## 1. 定义问题\n",
    "\n",
    "BigMart收集了2013年10家商店1559种产品的销售数据，每家商店和每种产品的特征已经明确定义。\n",
    "\n",
    "目标：建立回归模型，预测产品销量。\n",
    "\n",
    "参考：\n",
    "* [AnalyticsVidhya](https://www.analyticsvidhya.com/blog/2016/02/bigmart-sales-solution-top-20/)\n",
    "* [预测BigMartSales](https://medium.com/diogo-menezes-borges/project-1-bigmart-sale-prediction-fdc04f07dc1e)\n",
    "\n",
    "首先我们应该思考，哪些因素可能影响产品销量，了解问题是解决问题最重要的一步。\n",
    "\n",
    "* 产品价格：如果商品是必需品，价格越高销量越低，价格越低销量越高。\n",
    "* 产品属性：必需品，还是奢侈品。\n",
    "* 品牌知名度：越是知名的产品，顾客信任度越高，销量也会越高。\n",
    "* 替代品价格：替代品价格越高，销量越高，相反销量越低。\n",
    "* 促销/打折：营销活动一般能够促进销量。\n",
    "* 商品摆放在店面的位置：相对于不显眼的位置，放在显眼位置的商品销量可能更高。\n",
    "* 店面的大小：商店规模越大，能够吸引的人流更多，商品销量也可能更高。\n",
    "* 附近类似商家的数量：竞争越激烈，商品越难销售。\n",
    "* 商店地段：人口密度越高，需求也会越大，进而推动销量。\n",
    "* 所在城市的规模：相对于三线城市，一线城市居民的收入会更高，意味着购买更多的商品。"
   ]
  },
  {
   "cell_type": "markdown",
   "metadata": {},
   "source": [
    "## 2. 探索数据"
   ]
  },
  {
   "cell_type": "code",
   "execution_count": 1,
   "metadata": {},
   "outputs": [],
   "source": [
    "import numpy as np\n",
    "import pandas as pd\n",
    "import matplotlib.pyplot as plt\n",
    "\n",
    "%matplotlib inline"
   ]
  },
  {
   "cell_type": "code",
   "execution_count": 2,
   "metadata": {},
   "outputs": [
    {
     "data": {
      "text/html": [
       "<div>\n",
       "<style scoped>\n",
       "    .dataframe tbody tr th:only-of-type {\n",
       "        vertical-align: middle;\n",
       "    }\n",
       "\n",
       "    .dataframe tbody tr th {\n",
       "        vertical-align: top;\n",
       "    }\n",
       "\n",
       "    .dataframe thead th {\n",
       "        text-align: right;\n",
       "    }\n",
       "</style>\n",
       "<table border=\"1\" class=\"dataframe\">\n",
       "  <thead>\n",
       "    <tr style=\"text-align: right;\">\n",
       "      <th></th>\n",
       "      <th>Item_Identifier</th>\n",
       "      <th>Item_Weight</th>\n",
       "      <th>Item_Fat_Content</th>\n",
       "      <th>Item_Visibility</th>\n",
       "      <th>Item_Type</th>\n",
       "      <th>Item_MRP</th>\n",
       "      <th>Outlet_Identifier</th>\n",
       "      <th>Outlet_Establishment_Year</th>\n",
       "      <th>Outlet_Size</th>\n",
       "      <th>Outlet_Location_Type</th>\n",
       "      <th>Outlet_Type</th>\n",
       "      <th>Item_Outlet_Sales</th>\n",
       "      <th>source</th>\n",
       "    </tr>\n",
       "  </thead>\n",
       "  <tbody>\n",
       "    <tr>\n",
       "      <th>0</th>\n",
       "      <td>FDA15</td>\n",
       "      <td>9.30</td>\n",
       "      <td>Low Fat</td>\n",
       "      <td>0.016047</td>\n",
       "      <td>Dairy</td>\n",
       "      <td>249.8092</td>\n",
       "      <td>OUT049</td>\n",
       "      <td>1999</td>\n",
       "      <td>Medium</td>\n",
       "      <td>Tier 1</td>\n",
       "      <td>Supermarket Type1</td>\n",
       "      <td>3735.1380</td>\n",
       "      <td>train</td>\n",
       "    </tr>\n",
       "    <tr>\n",
       "      <th>1</th>\n",
       "      <td>DRC01</td>\n",
       "      <td>5.92</td>\n",
       "      <td>Regular</td>\n",
       "      <td>0.019278</td>\n",
       "      <td>Soft Drinks</td>\n",
       "      <td>48.2692</td>\n",
       "      <td>OUT018</td>\n",
       "      <td>2009</td>\n",
       "      <td>Medium</td>\n",
       "      <td>Tier 3</td>\n",
       "      <td>Supermarket Type2</td>\n",
       "      <td>443.4228</td>\n",
       "      <td>train</td>\n",
       "    </tr>\n",
       "    <tr>\n",
       "      <th>2</th>\n",
       "      <td>FDN15</td>\n",
       "      <td>17.50</td>\n",
       "      <td>Low Fat</td>\n",
       "      <td>0.016760</td>\n",
       "      <td>Meat</td>\n",
       "      <td>141.6180</td>\n",
       "      <td>OUT049</td>\n",
       "      <td>1999</td>\n",
       "      <td>Medium</td>\n",
       "      <td>Tier 1</td>\n",
       "      <td>Supermarket Type1</td>\n",
       "      <td>2097.2700</td>\n",
       "      <td>train</td>\n",
       "    </tr>\n",
       "    <tr>\n",
       "      <th>3</th>\n",
       "      <td>FDX07</td>\n",
       "      <td>19.20</td>\n",
       "      <td>Regular</td>\n",
       "      <td>0.000000</td>\n",
       "      <td>Fruits and Vegetables</td>\n",
       "      <td>182.0950</td>\n",
       "      <td>OUT010</td>\n",
       "      <td>1998</td>\n",
       "      <td>NaN</td>\n",
       "      <td>Tier 3</td>\n",
       "      <td>Grocery Store</td>\n",
       "      <td>732.3800</td>\n",
       "      <td>train</td>\n",
       "    </tr>\n",
       "    <tr>\n",
       "      <th>4</th>\n",
       "      <td>NCD19</td>\n",
       "      <td>8.93</td>\n",
       "      <td>Low Fat</td>\n",
       "      <td>0.000000</td>\n",
       "      <td>Household</td>\n",
       "      <td>53.8614</td>\n",
       "      <td>OUT013</td>\n",
       "      <td>1987</td>\n",
       "      <td>High</td>\n",
       "      <td>Tier 3</td>\n",
       "      <td>Supermarket Type1</td>\n",
       "      <td>994.7052</td>\n",
       "      <td>train</td>\n",
       "    </tr>\n",
       "  </tbody>\n",
       "</table>\n",
       "</div>"
      ],
      "text/plain": [
       "  Item_Identifier  Item_Weight Item_Fat_Content  Item_Visibility  \\\n",
       "0           FDA15         9.30          Low Fat         0.016047   \n",
       "1           DRC01         5.92          Regular         0.019278   \n",
       "2           FDN15        17.50          Low Fat         0.016760   \n",
       "3           FDX07        19.20          Regular         0.000000   \n",
       "4           NCD19         8.93          Low Fat         0.000000   \n",
       "\n",
       "               Item_Type  Item_MRP Outlet_Identifier  \\\n",
       "0                  Dairy  249.8092            OUT049   \n",
       "1            Soft Drinks   48.2692            OUT018   \n",
       "2                   Meat  141.6180            OUT049   \n",
       "3  Fruits and Vegetables  182.0950            OUT010   \n",
       "4              Household   53.8614            OUT013   \n",
       "\n",
       "   Outlet_Establishment_Year Outlet_Size Outlet_Location_Type  \\\n",
       "0                       1999      Medium               Tier 1   \n",
       "1                       2009      Medium               Tier 3   \n",
       "2                       1999      Medium               Tier 1   \n",
       "3                       1998         NaN               Tier 3   \n",
       "4                       1987        High               Tier 3   \n",
       "\n",
       "         Outlet_Type  Item_Outlet_Sales source  \n",
       "0  Supermarket Type1          3735.1380  train  \n",
       "1  Supermarket Type2           443.4228  train  \n",
       "2  Supermarket Type1          2097.2700  train  \n",
       "3      Grocery Store           732.3800  train  \n",
       "4  Supermarket Type1           994.7052  train  "
      ]
     },
     "execution_count": 2,
     "metadata": {},
     "output_type": "execute_result"
    }
   ],
   "source": [
    "train = pd.read_csv(\"data/sales_train.csv\")\n",
    "test = pd.read_csv(\"data/sales_test.csv\")\n",
    "\n",
    "# 先合并训练集和检验集，方便进行特征工程\n",
    "train[\"source\"] = \"train\"\n",
    "test[\"source\"] = \"test\"\n",
    "data = pd.concat([train, test], ignore_index=True, sort=False)\n",
    "\n",
    "data.head()"
   ]
  },
  {
   "cell_type": "code",
   "execution_count": 3,
   "metadata": {},
   "outputs": [
    {
     "name": "stdout",
     "output_type": "stream",
     "text": [
      "training set: (8523, 13)\n",
      "test set: (5681, 12)\n"
     ]
    }
   ],
   "source": [
    "print(\"training set:\", train.shape)\n",
    "print(\"test set:\", test.shape)"
   ]
  },
  {
   "cell_type": "markdown",
   "metadata": {},
   "source": [
    "查看是否存在缺失值。"
   ]
  },
  {
   "cell_type": "code",
   "execution_count": 4,
   "metadata": {},
   "outputs": [
    {
     "data": {
      "text/plain": [
       "Item_Identifier                 0\n",
       "Item_Weight                  2439\n",
       "Item_Fat_Content                0\n",
       "Item_Visibility                 0\n",
       "Item_Type                       0\n",
       "Item_MRP                        0\n",
       "Outlet_Identifier               0\n",
       "Outlet_Establishment_Year       0\n",
       "Outlet_Size                  4016\n",
       "Outlet_Location_Type            0\n",
       "Outlet_Type                     0\n",
       "Item_Outlet_Sales            5681\n",
       "source                          0\n",
       "dtype: int64"
      ]
     },
     "execution_count": 4,
     "metadata": {},
     "output_type": "execute_result"
    }
   ],
   "source": [
    "data.isnull().sum()"
   ]
  },
  {
   "cell_type": "markdown",
   "metadata": {},
   "source": [
    "'Item_Weight'和'Outlet_Size'两个变量存在很多缺失值。产品重量可以忽略，但商店大小有可能很重要，如何处理缺失值？"
   ]
  },
  {
   "cell_type": "markdown",
   "metadata": {},
   "source": [
    "计算数值变量的描述统计量。"
   ]
  },
  {
   "cell_type": "code",
   "execution_count": 5,
   "metadata": {},
   "outputs": [
    {
     "data": {
      "text/html": [
       "<div>\n",
       "<style scoped>\n",
       "    .dataframe tbody tr th:only-of-type {\n",
       "        vertical-align: middle;\n",
       "    }\n",
       "\n",
       "    .dataframe tbody tr th {\n",
       "        vertical-align: top;\n",
       "    }\n",
       "\n",
       "    .dataframe thead th {\n",
       "        text-align: right;\n",
       "    }\n",
       "</style>\n",
       "<table border=\"1\" class=\"dataframe\">\n",
       "  <thead>\n",
       "    <tr style=\"text-align: right;\">\n",
       "      <th></th>\n",
       "      <th>Item_Weight</th>\n",
       "      <th>Item_Visibility</th>\n",
       "      <th>Item_MRP</th>\n",
       "      <th>Outlet_Establishment_Year</th>\n",
       "      <th>Item_Outlet_Sales</th>\n",
       "    </tr>\n",
       "  </thead>\n",
       "  <tbody>\n",
       "    <tr>\n",
       "      <th>count</th>\n",
       "      <td>11765.000000</td>\n",
       "      <td>14204.000000</td>\n",
       "      <td>14204.000000</td>\n",
       "      <td>14204.000000</td>\n",
       "      <td>8523.000000</td>\n",
       "    </tr>\n",
       "    <tr>\n",
       "      <th>mean</th>\n",
       "      <td>12.792854</td>\n",
       "      <td>0.065953</td>\n",
       "      <td>141.004977</td>\n",
       "      <td>1997.830681</td>\n",
       "      <td>2181.288914</td>\n",
       "    </tr>\n",
       "    <tr>\n",
       "      <th>std</th>\n",
       "      <td>4.652502</td>\n",
       "      <td>0.051459</td>\n",
       "      <td>62.086938</td>\n",
       "      <td>8.371664</td>\n",
       "      <td>1706.499616</td>\n",
       "    </tr>\n",
       "    <tr>\n",
       "      <th>min</th>\n",
       "      <td>4.555000</td>\n",
       "      <td>0.000000</td>\n",
       "      <td>31.290000</td>\n",
       "      <td>1985.000000</td>\n",
       "      <td>33.290000</td>\n",
       "    </tr>\n",
       "    <tr>\n",
       "      <th>25%</th>\n",
       "      <td>8.710000</td>\n",
       "      <td>0.027036</td>\n",
       "      <td>94.012000</td>\n",
       "      <td>1987.000000</td>\n",
       "      <td>834.247400</td>\n",
       "    </tr>\n",
       "    <tr>\n",
       "      <th>50%</th>\n",
       "      <td>12.600000</td>\n",
       "      <td>0.054021</td>\n",
       "      <td>142.247000</td>\n",
       "      <td>1999.000000</td>\n",
       "      <td>1794.331000</td>\n",
       "    </tr>\n",
       "    <tr>\n",
       "      <th>75%</th>\n",
       "      <td>16.750000</td>\n",
       "      <td>0.094037</td>\n",
       "      <td>185.855600</td>\n",
       "      <td>2004.000000</td>\n",
       "      <td>3101.296400</td>\n",
       "    </tr>\n",
       "    <tr>\n",
       "      <th>max</th>\n",
       "      <td>21.350000</td>\n",
       "      <td>0.328391</td>\n",
       "      <td>266.888400</td>\n",
       "      <td>2009.000000</td>\n",
       "      <td>13086.964800</td>\n",
       "    </tr>\n",
       "  </tbody>\n",
       "</table>\n",
       "</div>"
      ],
      "text/plain": [
       "        Item_Weight  Item_Visibility      Item_MRP  Outlet_Establishment_Year  \\\n",
       "count  11765.000000     14204.000000  14204.000000               14204.000000   \n",
       "mean      12.792854         0.065953    141.004977                1997.830681   \n",
       "std        4.652502         0.051459     62.086938                   8.371664   \n",
       "min        4.555000         0.000000     31.290000                1985.000000   \n",
       "25%        8.710000         0.027036     94.012000                1987.000000   \n",
       "50%       12.600000         0.054021    142.247000                1999.000000   \n",
       "75%       16.750000         0.094037    185.855600                2004.000000   \n",
       "max       21.350000         0.328391    266.888400                2009.000000   \n",
       "\n",
       "       Item_Outlet_Sales  \n",
       "count        8523.000000  \n",
       "mean         2181.288914  \n",
       "std          1706.499616  \n",
       "min            33.290000  \n",
       "25%           834.247400  \n",
       "50%          1794.331000  \n",
       "75%          3101.296400  \n",
       "max         13086.964800  "
      ]
     },
     "execution_count": 5,
     "metadata": {},
     "output_type": "execute_result"
    }
   ],
   "source": [
    "data.describe()"
   ]
  },
  {
   "cell_type": "markdown",
   "metadata": {},
   "source": [
    "'Item_Visibility'的最小值为零，但产品展示面积不可能为零，有可能是记录错误，如何处理？"
   ]
  },
  {
   "cell_type": "markdown",
   "metadata": {},
   "source": [
    "查看分类变量的类别。"
   ]
  },
  {
   "cell_type": "code",
   "execution_count": 6,
   "metadata": {},
   "outputs": [
    {
     "name": "stdout",
     "output_type": "stream",
     "text": [
      "Feature name: Item_Fat_Content\n",
      "Low Fat    8485\n",
      "Regular    4824\n",
      "LF          522\n",
      "reg         195\n",
      "low fat     178\n",
      "Name: Item_Fat_Content, dtype: int64\n",
      "\n",
      "Feature name: Item_Type\n",
      "Fruits and Vegetables    2013\n",
      "Snack Foods              1989\n",
      "Household                1548\n",
      "Frozen Foods             1426\n",
      "Dairy                    1136\n",
      "Baking Goods             1086\n",
      "Canned                   1084\n",
      "Health and Hygiene        858\n",
      "Meat                      736\n",
      "Soft Drinks               726\n",
      "Breads                    416\n",
      "Hard Drinks               362\n",
      "Others                    280\n",
      "Starchy Foods             269\n",
      "Breakfast                 186\n",
      "Seafood                    89\n",
      "Name: Item_Type, dtype: int64\n",
      "\n",
      "Feature name: Outlet_Size\n",
      "Medium    4655\n",
      "Small     3980\n",
      "High      1553\n",
      "Name: Outlet_Size, dtype: int64\n",
      "\n",
      "Feature name: Outlet_Location_Type\n",
      "Tier 3    5583\n",
      "Tier 2    4641\n",
      "Tier 1    3980\n",
      "Name: Outlet_Location_Type, dtype: int64\n",
      "\n",
      "Feature name: Outlet_Type\n",
      "Supermarket Type1    9294\n",
      "Grocery Store        1805\n",
      "Supermarket Type3    1559\n",
      "Supermarket Type2    1546\n",
      "Name: Outlet_Type, dtype: int64\n",
      "\n"
     ]
    }
   ],
   "source": [
    "# 根据数据类型推断是否为分类变量\n",
    "cat_features = [idx for idx,val in zip(data.dtypes.index, data.dtypes) if val == \"object\"]\n",
    "cat_features\n",
    "\n",
    "# 忽略产品ID和商店ID，查看其余分类变量的类别\n",
    "cat_features.remove(\"Item_Identifier\")\n",
    "cat_features.remove(\"Outlet_Identifier\")\n",
    "cat_features.remove(\"source\")\n",
    "\n",
    "for feature in cat_features:\n",
    "    print(f\"Feature name: {feature}\")\n",
    "    print(data[feature].value_counts())\n",
    "    print(\"\")"
   ]
  },
  {
   "cell_type": "markdown",
   "metadata": {},
   "source": [
    "脂肪含量的类别有重复标签，'Low Fat','low fat','LF'都指低脂商品，'Regular'和'reg'指正常脂肪含量。"
   ]
  },
  {
   "cell_type": "markdown",
   "metadata": {},
   "source": [
    "## 3. 数据清洗"
   ]
  },
  {
   "cell_type": "markdown",
   "metadata": {},
   "source": [
    "数据集包含1559种商品，用特定种类商品的平均重量填充缺失值。"
   ]
  },
  {
   "cell_type": "code",
   "execution_count": 7,
   "metadata": {},
   "outputs": [
    {
     "name": "stdout",
     "output_type": "stream",
     "text": [
      "NAs for Item_Weight: 0\n"
     ]
    }
   ],
   "source": [
    "items_mean_weight = data.groupby(\"Item_Identifier\")[\"Item_Weight\"].mean()\n",
    "items_weight = pd.Series(data[\"Item_Weight\"], index=data[\"Item_Identifier\"])\n",
    "items_weight.fillna(items_mean_weight, inplace=True)\n",
    "data[\"Item_Weight\"] = items_weight.values\n",
    "print(\"NAs for Item_Weight: %d\" % items_weight.isnull().sum())"
   ]
  },
  {
   "cell_type": "markdown",
   "metadata": {},
   "source": [
    "用特定种类商店出现次数最多的规模(众数)替代商店规模的缺失值。\n",
    "\n",
    "众数(mode): 分类变量中出现次数最多的类别。"
   ]
  },
  {
   "cell_type": "code",
   "execution_count": 8,
   "metadata": {},
   "outputs": [
    {
     "data": {
      "text/plain": [
       "Outlet_Type        Outlet_Size\n",
       "Grocery Store      NaN             925\n",
       "                   Small           880\n",
       "Supermarket Type1  Small          3100\n",
       "                   NaN            3091\n",
       "                   High           1553\n",
       "                   Medium         1550\n",
       "Supermarket Type2  Medium         1546\n",
       "Supermarket Type3  Medium         1559\n",
       "Name: Outlet_Size, dtype: int64"
      ]
     },
     "execution_count": 8,
     "metadata": {},
     "output_type": "execute_result"
    }
   ],
   "source": [
    "data.groupby(\"Outlet_Type\")[\"Outlet_Size\"].value_counts(dropna=False)"
   ]
  },
  {
   "cell_type": "code",
   "execution_count": 9,
   "metadata": {},
   "outputs": [
    {
     "name": "stdout",
     "output_type": "stream",
     "text": [
      "NAs for Outlet Size: 0\n"
     ]
    }
   ],
   "source": [
    "def cal_mode(ser, dropna=True):\n",
    "    \"\"\"计算众数：分类变量中出现次数最多的类别\"\"\"\n",
    "    counts = ser.value_counts(dropna=dropna)\n",
    "    counts.sort_values(ascending=False)\n",
    "    return counts.index[0]\n",
    "\n",
    "outlets_size_mode = data.groupby(\"Outlet_Type\")[\"Outlet_Size\"].apply(cal_mode)\n",
    "outlets_size = pd.Series(data[\"Outlet_Size\"], index=data[\"Outlet_Type\"])\n",
    "outlets_size.fillna(outlets_size_mode, inplace=True)\n",
    "data[\"Outlet_Size\"] = outlets_size.values\n",
    "\n",
    "print(\"NAs for Outlet Size: %d\" % data[\"Outlet_Size\"].isnull().sum())"
   ]
  },
  {
   "cell_type": "markdown",
   "metadata": {},
   "source": [
    "产品可见度不可能为零，把零值视为缺失值，用特定商品的平均可见度填充缺失值。"
   ]
  },
  {
   "cell_type": "code",
   "execution_count": 10,
   "metadata": {},
   "outputs": [
    {
     "data": {
      "text/plain": [
       "count    14204.000000\n",
       "mean         0.065953\n",
       "std          0.044145\n",
       "min          0.003895\n",
       "25%          0.030728\n",
       "50%          0.055485\n",
       "75%          0.091792\n",
       "max          0.211315\n",
       "Name: Item_Visibility, dtype: float64"
      ]
     },
     "execution_count": 10,
     "metadata": {},
     "output_type": "execute_result"
    }
   ],
   "source": [
    "items_visibility = pd.Series(data[\"Item_Visibility\"], index=data[\"Item_Identifier\"])\n",
    "items_visibility.replace(0, np.nan, inplace=True)\n",
    "items_mean_visibility = data.groupby(\"Item_Identifier\")[\"Item_Visibility\"].mean()\n",
    "items_visibility.fillna(items_mean_visibility, inplace=True)\n",
    "\n",
    "data[\"Item_Visibility\"] = items_visibility.values\n",
    "data[\"Item_Visibility\"].describe()"
   ]
  },
  {
   "cell_type": "markdown",
   "metadata": {},
   "source": [
    "统一脂肪含量的所有类别。"
   ]
  },
  {
   "cell_type": "code",
   "execution_count": 11,
   "metadata": {},
   "outputs": [
    {
     "data": {
      "text/plain": [
       "Low Fat    9185\n",
       "Regular    5019\n",
       "Name: Item_Fat_Content, dtype: int64"
      ]
     },
     "execution_count": 11,
     "metadata": {},
     "output_type": "execute_result"
    }
   ],
   "source": [
    "mappings = {\n",
    "    \"low fat\": \"Low Fat\",\n",
    "    \"LF\": \"Low Fat\",\n",
    "    \"reg\": \"Regular\"\n",
    "}\n",
    "data[\"Item_Fat_Content\"] = data[\"Item_Fat_Content\"].replace(mappings)\n",
    "data[\"Item_Fat_Content\"].value_counts()"
   ]
  },
  {
   "cell_type": "markdown",
   "metadata": {},
   "source": [
    "## 4. 特征工程"
   ]
  },
  {
   "cell_type": "markdown",
   "metadata": {},
   "source": [
    "商店开业年份对预测商品销量的意义不大，考虑转化为'经营年数'，经营时间越长，客户信赖度越高，预期和产品销量正相关。"
   ]
  },
  {
   "cell_type": "code",
   "execution_count": 12,
   "metadata": {},
   "outputs": [
    {
     "data": {
      "text/html": [
       "<div>\n",
       "<style scoped>\n",
       "    .dataframe tbody tr th:only-of-type {\n",
       "        vertical-align: middle;\n",
       "    }\n",
       "\n",
       "    .dataframe tbody tr th {\n",
       "        vertical-align: top;\n",
       "    }\n",
       "\n",
       "    .dataframe thead th {\n",
       "        text-align: right;\n",
       "    }\n",
       "</style>\n",
       "<table border=\"1\" class=\"dataframe\">\n",
       "  <thead>\n",
       "    <tr style=\"text-align: right;\">\n",
       "      <th></th>\n",
       "      <th>Item_Weight</th>\n",
       "      <th>Item_Visibility</th>\n",
       "      <th>Item_MRP</th>\n",
       "      <th>Outlet_Establishment_Year</th>\n",
       "      <th>Item_Outlet_Sales</th>\n",
       "      <th>Outlet_years</th>\n",
       "    </tr>\n",
       "  </thead>\n",
       "  <tbody>\n",
       "    <tr>\n",
       "      <th>count</th>\n",
       "      <td>14204.000000</td>\n",
       "      <td>14204.000000</td>\n",
       "      <td>14204.000000</td>\n",
       "      <td>14204.000000</td>\n",
       "      <td>8523.000000</td>\n",
       "      <td>14204.000000</td>\n",
       "    </tr>\n",
       "    <tr>\n",
       "      <th>mean</th>\n",
       "      <td>12.793380</td>\n",
       "      <td>0.065953</td>\n",
       "      <td>141.004977</td>\n",
       "      <td>1997.830681</td>\n",
       "      <td>2181.288914</td>\n",
       "      <td>15.169319</td>\n",
       "    </tr>\n",
       "    <tr>\n",
       "      <th>std</th>\n",
       "      <td>4.651716</td>\n",
       "      <td>0.044145</td>\n",
       "      <td>62.086938</td>\n",
       "      <td>8.371664</td>\n",
       "      <td>1706.499616</td>\n",
       "      <td>8.371664</td>\n",
       "    </tr>\n",
       "    <tr>\n",
       "      <th>min</th>\n",
       "      <td>4.555000</td>\n",
       "      <td>0.003895</td>\n",
       "      <td>31.290000</td>\n",
       "      <td>1985.000000</td>\n",
       "      <td>33.290000</td>\n",
       "      <td>4.000000</td>\n",
       "    </tr>\n",
       "    <tr>\n",
       "      <th>25%</th>\n",
       "      <td>8.710000</td>\n",
       "      <td>0.030728</td>\n",
       "      <td>94.012000</td>\n",
       "      <td>1987.000000</td>\n",
       "      <td>834.247400</td>\n",
       "      <td>9.000000</td>\n",
       "    </tr>\n",
       "    <tr>\n",
       "      <th>50%</th>\n",
       "      <td>12.600000</td>\n",
       "      <td>0.055485</td>\n",
       "      <td>142.247000</td>\n",
       "      <td>1999.000000</td>\n",
       "      <td>1794.331000</td>\n",
       "      <td>14.000000</td>\n",
       "    </tr>\n",
       "    <tr>\n",
       "      <th>75%</th>\n",
       "      <td>16.750000</td>\n",
       "      <td>0.091792</td>\n",
       "      <td>185.855600</td>\n",
       "      <td>2004.000000</td>\n",
       "      <td>3101.296400</td>\n",
       "      <td>26.000000</td>\n",
       "    </tr>\n",
       "    <tr>\n",
       "      <th>max</th>\n",
       "      <td>21.350000</td>\n",
       "      <td>0.211315</td>\n",
       "      <td>266.888400</td>\n",
       "      <td>2009.000000</td>\n",
       "      <td>13086.964800</td>\n",
       "      <td>28.000000</td>\n",
       "    </tr>\n",
       "  </tbody>\n",
       "</table>\n",
       "</div>"
      ],
      "text/plain": [
       "        Item_Weight  Item_Visibility      Item_MRP  Outlet_Establishment_Year  \\\n",
       "count  14204.000000     14204.000000  14204.000000               14204.000000   \n",
       "mean      12.793380         0.065953    141.004977                1997.830681   \n",
       "std        4.651716         0.044145     62.086938                   8.371664   \n",
       "min        4.555000         0.003895     31.290000                1985.000000   \n",
       "25%        8.710000         0.030728     94.012000                1987.000000   \n",
       "50%       12.600000         0.055485    142.247000                1999.000000   \n",
       "75%       16.750000         0.091792    185.855600                2004.000000   \n",
       "max       21.350000         0.211315    266.888400                2009.000000   \n",
       "\n",
       "       Item_Outlet_Sales  Outlet_years  \n",
       "count        8523.000000  14204.000000  \n",
       "mean         2181.288914     15.169319  \n",
       "std          1706.499616      8.371664  \n",
       "min            33.290000      4.000000  \n",
       "25%           834.247400      9.000000  \n",
       "50%          1794.331000     14.000000  \n",
       "75%          3101.296400     26.000000  \n",
       "max         13086.964800     28.000000  "
      ]
     },
     "execution_count": 12,
     "metadata": {},
     "output_type": "execute_result"
    }
   ],
   "source": [
    "data[\"Outlet_years\"] = 2013 - data[\"Outlet_Establishment_Year\"]\n",
    "data.describe()"
   ]
  },
  {
   "cell_type": "markdown",
   "metadata": {},
   "source": [
    "将分类变量转化为数值变量，使用独热编码(one-hot encoding)技术。为了避免虚拟变量陷阱，对k个类别的分类变量，引入(k-1)个虚拟变量。\n",
    "\n",
    "所谓独热编码，即把具有m个类别的分类特征转化为$n*m$的二元矩阵，n是观测值的数量，m是类别的数量，对于特定的观测值，如果某类别出现记为1，否则记为0.\n",
    "\n",
    "Pandas.get_dummies()可以轻易实现独热编码。"
   ]
  },
  {
   "cell_type": "code",
   "execution_count": 13,
   "metadata": {},
   "outputs": [],
   "source": [
    "# 最终要提交的submission.csv要求包含'Outlet_Identifier'\n",
    "# 我们想将分类特征'Outlet_Identifier'进入模型，所以先创建副本'Outlet_ID'\n",
    "# 将'Outlet_ID'转化为数字变量，这就同时保留了'Outlet_Identifier'\n",
    "data[\"Outlet_ID\"] = data[\"Outlet_Identifier\"]\n",
    "\n",
    "columns_to_encode = [\n",
    "    \"Item_Fat_Content\",\n",
    "    \"Item_Type\",\n",
    "    \"Outlet_ID\",\n",
    "    \"Outlet_Size\",\n",
    "    \"Outlet_Location_Type\",\n",
    "    \"Outlet_Type\"\n",
    "]\n",
    "\n",
    "data = pd.get_dummies(data, columns=columns_to_encode, drop_first=True)"
   ]
  },
  {
   "cell_type": "markdown",
   "metadata": {},
   "source": [
    "查看所有特征和数据类型。"
   ]
  },
  {
   "cell_type": "code",
   "execution_count": 14,
   "metadata": {},
   "outputs": [
    {
     "data": {
      "text/plain": [
       "Item_Identifier                     object\n",
       "Item_Weight                        float64\n",
       "Item_Visibility                    float64\n",
       "Item_MRP                           float64\n",
       "Outlet_Identifier                   object\n",
       "Outlet_Establishment_Year            int64\n",
       "Item_Outlet_Sales                  float64\n",
       "source                              object\n",
       "Outlet_years                         int64\n",
       "Item_Fat_Content_Regular             uint8\n",
       "Item_Type_Breads                     uint8\n",
       "Item_Type_Breakfast                  uint8\n",
       "Item_Type_Canned                     uint8\n",
       "Item_Type_Dairy                      uint8\n",
       "Item_Type_Frozen Foods               uint8\n",
       "Item_Type_Fruits and Vegetables      uint8\n",
       "Item_Type_Hard Drinks                uint8\n",
       "Item_Type_Health and Hygiene         uint8\n",
       "Item_Type_Household                  uint8\n",
       "Item_Type_Meat                       uint8\n",
       "Item_Type_Others                     uint8\n",
       "Item_Type_Seafood                    uint8\n",
       "Item_Type_Snack Foods                uint8\n",
       "Item_Type_Soft Drinks                uint8\n",
       "Item_Type_Starchy Foods              uint8\n",
       "Outlet_ID_OUT013                     uint8\n",
       "Outlet_ID_OUT017                     uint8\n",
       "Outlet_ID_OUT018                     uint8\n",
       "Outlet_ID_OUT019                     uint8\n",
       "Outlet_ID_OUT027                     uint8\n",
       "Outlet_ID_OUT035                     uint8\n",
       "Outlet_ID_OUT045                     uint8\n",
       "Outlet_ID_OUT046                     uint8\n",
       "Outlet_ID_OUT049                     uint8\n",
       "Outlet_Size_Small                    uint8\n",
       "Outlet_Location_Type_Tier 2          uint8\n",
       "Outlet_Location_Type_Tier 3          uint8\n",
       "Outlet_Type_Supermarket Type1        uint8\n",
       "Outlet_Type_Supermarket Type2        uint8\n",
       "Outlet_Type_Supermarket Type3        uint8\n",
       "dtype: object"
      ]
     },
     "execution_count": 14,
     "metadata": {},
     "output_type": "execute_result"
    }
   ],
   "source": [
    "data.dtypes"
   ]
  },
  {
   "cell_type": "markdown",
   "metadata": {},
   "source": [
    "剔除多余的特征，重新生成训练集和检验集。"
   ]
  },
  {
   "cell_type": "code",
   "execution_count": 15,
   "metadata": {},
   "outputs": [],
   "source": [
    "data.drop(columns=\"Outlet_Establishment_Year\", inplace=True)\n",
    "\n",
    "train = data.query(\"source == 'train'\").copy()\n",
    "test = data.query(\"source == 'test'\").copy()\n",
    "\n",
    "train.drop(columns=\"source\", inplace=True)\n",
    "test.drop(columns=[\"Item_Outlet_Sales\", \"source\"], inplace=True)\n",
    "\n",
    "train.to_csv(\"data/sales_train_modify.csv\", index=False)\n",
    "test.to_csv(\"data/sales_test_modify.csv\", index=False)"
   ]
  },
  {
   "cell_type": "markdown",
   "metadata": {},
   "source": [
    "## 5. 建立模型"
   ]
  },
  {
   "cell_type": "markdown",
   "metadata": {},
   "source": [
    "### 5.1 多元线性回归\n",
    "\n",
    "建立一个多元线性回归模型，作为基准模型(baseline model)."
   ]
  },
  {
   "cell_type": "code",
   "execution_count": 16,
   "metadata": {},
   "outputs": [],
   "source": [
    "from sklearn.linear_model import LinearRegression\n",
    "from sklearn.model_selection import cross_val_score\n",
    "from sklearn.metrics import mean_squared_error, r2_score"
   ]
  },
  {
   "cell_type": "code",
   "execution_count": 17,
   "metadata": {},
   "outputs": [],
   "source": [
    "def build_model(estimator, train_df, test_df, feature_names,\n",
    "                target_name, output):\n",
    "    \"\"\"建立模型\n",
    "    \n",
    "    1. 创建模型，拟合数据。\n",
    "    2. 10折交叉验证，评估预测能力。\n",
    "    3. 可视化回归系数。\n",
    "    4. 样本外预测，生成submission.csv.\n",
    "    \"\"\"\n",
    "    # 划分特征和目标变量\n",
    "    X_train = train_df[feature_names]\n",
    "    y_train = train_df[target_name]\n",
    "    \n",
    "    # 拟合数据\n",
    "    estimator.fit(X_train, y_train)\n",
    "    \n",
    "    # 交叉验证\n",
    "    # 调用sklearn.metrics.SCORERS.keys()查看所有可用的评分指标\n",
    "    # neg_mean_squared_error = -MSE, sklearn规定所有评分指标\n",
    "    # 都服从一个规则：评分越高模型越好，所以返回负的均方误差\n",
    "    scores = {\n",
    "        \"RMSE\": \"neg_mean_squared_error\",\n",
    "        \"R2\": \"r2\"\n",
    "    }\n",
    "    print(\"10-fold Cross Validation\")\n",
    "    for score_name,score_func in scores.items():\n",
    "        cv_scores = cross_val_score(estimator, X_train, y_train,\n",
    "                                    cv=10, scoring=score_func)\n",
    "        if score_name == \"RMSE\":\n",
    "            cv_scores = np.sqrt(np.abs(cv_scores))\n",
    "        print(f\"{score_name}: mean={np.mean(cv_scores):.3f} \" \\\n",
    "              f\"min={np.min(cv_scores):.3f} \"\\\n",
    "              f\"max={np.max(cv_scores):.3f}\")\n",
    "\n",
    "    # 生成submission.csv\n",
    "    X_test = test_df[feature_names]\n",
    "    y_pred = estimator.predict(X_test)\n",
    "    columns = [\"Item_Identifier\", \"Outlet_Identifier\", target_name]\n",
    "    test_df[target_name] = y_pred\n",
    "    test_df.to_csv(output, columns=columns, index=False)\n",
    "    print(f\"Export submission file: {output}\")"
   ]
  },
  {
   "cell_type": "code",
   "execution_count": 18,
   "metadata": {},
   "outputs": [
    {
     "name": "stdout",
     "output_type": "stream",
     "text": [
      "10-fold Cross Validation\n",
      "RMSE: mean=1132.264 min=1110.953 max=1164.984\n",
      "R2: mean=0.558 min=0.509 max=0.582\n",
      "Export submission file: bigMart_model0.csv\n"
     ]
    }
   ],
   "source": [
    "feature_names = train.columns.drop([\n",
    "    \"Item_Identifier\", \"Outlet_Identifier\",\n",
    "    \"Item_Outlet_Sales\"\n",
    "])\n",
    "target_name = \"Item_Outlet_Sales\"\n",
    "\n",
    "model_0 = LinearRegression()\n",
    "\n",
    "build_model(model_0, train, test, feature_names, target_name, \"bigMart_model0.csv\")"
   ]
  },
  {
   "cell_type": "markdown",
   "metadata": {},
   "source": [
    "### 5.2 岭回归"
   ]
  },
  {
   "cell_type": "code",
   "execution_count": 19,
   "metadata": {},
   "outputs": [
    {
     "name": "stdout",
     "output_type": "stream",
     "text": [
      "10-fold Cross Validation\n",
      "RMSE: mean=1135.194 min=1114.256 max=1167.016\n",
      "R2: mean=0.556 min=0.509 max=0.578\n",
      "Export submission file: bigMart_model1.csv\n"
     ]
    }
   ],
   "source": [
    "from sklearn.linear_model import Ridge\n",
    "\n",
    "model_1 = Ridge(alpha=100)\n",
    "\n",
    "build_model(model_1, train, test, feature_names, target_name, \"bigMart_model1.csv\")"
   ]
  },
  {
   "cell_type": "markdown",
   "metadata": {},
   "source": [
    "## 5.3 Lasso回归"
   ]
  },
  {
   "cell_type": "code",
   "execution_count": 20,
   "metadata": {},
   "outputs": [],
   "source": [
    "from sklearn.linear_model import Lasso"
   ]
  },
  {
   "cell_type": "code",
   "execution_count": 21,
   "metadata": {},
   "outputs": [
    {
     "name": "stdout",
     "output_type": "stream",
     "text": [
      "10-fold Cross Validation\n",
      "RMSE: mean=1132.022 min=1112.325 max=1164.586\n",
      "R2: mean=0.559 min=0.512 max=0.580\n",
      "Export submission file: bigMart_model2.csv\n"
     ]
    }
   ],
   "source": [
    "model_2 = Lasso(alpha=10)\n",
    "build_model(model_2, train, test, feature_names, target_name, \"bigMart_model2.csv\")"
   ]
  },
  {
   "cell_type": "code",
   "execution_count": null,
   "metadata": {},
   "outputs": [],
   "source": []
  }
 ],
 "metadata": {
  "hide_input": false,
  "kernelspec": {
   "display_name": "Python 3",
   "language": "python",
   "name": "python3"
  },
  "language_info": {
   "codemirror_mode": {
    "name": "ipython",
    "version": 3
   },
   "file_extension": ".py",
   "mimetype": "text/x-python",
   "name": "python",
   "nbconvert_exporter": "python",
   "pygments_lexer": "ipython3",
   "version": "3.7.3"
  }
 },
 "nbformat": 4,
 "nbformat_minor": 4
}

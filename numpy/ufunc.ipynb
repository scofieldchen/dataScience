{
 "cells": [
  {
   "cell_type": "markdown",
   "metadata": {},
   "source": [
    "## 1. 向量化运算 vs python loop"
   ]
  },
  {
   "cell_type": "markdown",
   "metadata": {},
   "source": [
    "numpy实现了向量化运算，在进行重复步骤的计算时，比python for loop要快很多。\n",
    "\n",
    "所谓向量化运算，即运算时采用矩阵运算的方式，直接对整个数组/矩阵进行操作，避免用循环遍历每一个元素。假设要计算数组array中每个元素的倒数，采用'1 / array'的形式，而不是遍历每个元素，称为向量化运算。\n",
    "\n",
    "向量化运算的实现，其实基于numpy在底层用C和Fortran实现了运算，所以速度比python代码快很多。"
   ]
  },
  {
   "cell_type": "code",
   "execution_count": 1,
   "metadata": {},
   "outputs": [],
   "source": [
    "import numpy as np"
   ]
  },
  {
   "cell_type": "markdown",
   "metadata": {},
   "source": [
    "创建一个函数，遍历数组的每个元素，计算其平方根，然后对比for loop和向量化运算的速度。"
   ]
  },
  {
   "cell_type": "code",
   "execution_count": 2,
   "metadata": {},
   "outputs": [],
   "source": [
    "def cal_squared(arr):\n",
    "    n = len(arr)\n",
    "    out = np.zeros(n)\n",
    "    for i in range(n):\n",
    "        out[i] = np.sqrt(arr[i])\n",
    "    return out"
   ]
  },
  {
   "cell_type": "code",
   "execution_count": 3,
   "metadata": {},
   "outputs": [],
   "source": [
    "arr = np.random.randint(1, 100, 1000000)"
   ]
  },
  {
   "cell_type": "code",
   "execution_count": 4,
   "metadata": {},
   "outputs": [
    {
     "name": "stdout",
     "output_type": "stream",
     "text": [
      "1.07 s ± 12.1 ms per loop (mean ± std. dev. of 7 runs, 1 loop each)\n"
     ]
    }
   ],
   "source": [
    "%timeit res = cal_squared(arr)"
   ]
  },
  {
   "cell_type": "code",
   "execution_count": 5,
   "metadata": {},
   "outputs": [
    {
     "name": "stdout",
     "output_type": "stream",
     "text": [
      "5.5 ms ± 285 µs per loop (mean ± std. dev. of 7 runs, 100 loops each)\n"
     ]
    }
   ],
   "source": [
    "%timeit res2 = np.sqrt(arr)"
   ]
  },
  {
   "cell_type": "markdown",
   "metadata": {},
   "source": [
    "计算100万个随机数的平方根，for loop耗时约1秒，向量化运算只需要约5毫秒，速度快近200倍。"
   ]
  },
  {
   "cell_type": "markdown",
   "metadata": {},
   "source": [
    "## 2. 计算描述统计量"
   ]
  },
  {
   "cell_type": "code",
   "execution_count": 6,
   "metadata": {},
   "outputs": [],
   "source": [
    "def print_summary_stats(arr):\n",
    "    print(\"sum: \", np.sum(arr))\n",
    "    print(\"product: \", np.product(arr))\n",
    "    print(\"mean: \", np.mean(arr))\n",
    "    print(\"std: \", np.std(arr))\n",
    "    print(\"min: \", np.min(arr))\n",
    "    print(\"max: \", np.max(arr))\n",
    "    print(\"median: \", np.median(arr))\n",
    "    print(\"25% percentile: \", np.percentile(arr, 0.25))\n",
    "    print(\"75% percentile: \", np.percentile(arr, 0.75))"
   ]
  },
  {
   "cell_type": "code",
   "execution_count": 7,
   "metadata": {},
   "outputs": [
    {
     "data": {
      "text/plain": [
       "array([12, 18, 10, 11, 19,  9,  5, 10, 18,  5,  6,  1, 17, 11,  8,  3,  1,\n",
       "        2,  9, 11,  6,  5,  6, 18, 18,  3, 16,  3, 19,  3, 12, 17, 13, 11,\n",
       "       19, 10,  1,  1,  7, 13,  9, 18,  2, 11, 16, 13, 11,  5, 11, 15,  9,\n",
       "       11,  3,  6,  4, 16, 12,  8,  4,  1, 13,  3,  5,  9,  4, 19,  2, 18,\n",
       "       17,  1,  8,  6,  3,  3, 14, 14,  6,  6, 13,  3,  1,  3, 10, 12,  8,\n",
       "       10,  8,  2, 13, 16, 15, 18,  6,  9, 12,  1, 10,  7,  8,  3])"
      ]
     },
     "execution_count": 7,
     "metadata": {},
     "output_type": "execute_result"
    }
   ],
   "source": [
    "arr = np.random.randint(1, 20, 100)\n",
    "arr"
   ]
  },
  {
   "cell_type": "code",
   "execution_count": 8,
   "metadata": {},
   "outputs": [
    {
     "name": "stdout",
     "output_type": "stream",
     "text": [
      "sum:  911\n",
      "product:  0\n",
      "mean:  9.11\n",
      "std:  5.477033868801617\n",
      "min:  1\n",
      "max:  19\n",
      "median:  9.0\n",
      "25% percentile:  1.0\n",
      "75% percentile:  1.0\n"
     ]
    }
   ],
   "source": [
    "print_summary_stats(arr)"
   ]
  },
  {
   "cell_type": "code",
   "execution_count": 9,
   "metadata": {},
   "outputs": [
    {
     "name": "stdout",
     "output_type": "stream",
     "text": [
      "True\n",
      "False\n",
      "(array([0, 3]),)\n"
     ]
    }
   ],
   "source": [
    "arr = np.array([1, -1, 0, 2, -2])\n",
    "\n",
    "print(np.any(arr > 0))  # 任一元素满足条件返回True\n",
    "print(np.all(arr > 0))  # 所有元素满足条件返回True\n",
    "print(np.where(arr > 0))  # 返回满足条件的元素的索引"
   ]
  },
  {
   "cell_type": "markdown",
   "metadata": {},
   "source": [
    "## 3. 快速排序"
   ]
  },
  {
   "cell_type": "code",
   "execution_count": 10,
   "metadata": {},
   "outputs": [
    {
     "data": {
      "text/plain": [
       "array([81, 25, 42, 32, 35,  9, 31, 79, 26, 19])"
      ]
     },
     "execution_count": 10,
     "metadata": {},
     "output_type": "execute_result"
    }
   ],
   "source": [
    "arr = np.random.randint(1, 100, 10)\n",
    "arr"
   ]
  },
  {
   "cell_type": "markdown",
   "metadata": {},
   "source": [
    "用np.sort函数或arr.sort方法实现快速排序"
   ]
  },
  {
   "cell_type": "code",
   "execution_count": 11,
   "metadata": {},
   "outputs": [
    {
     "data": {
      "text/plain": [
       "array([ 9, 19, 25, 26, 31, 32, 35, 42, 79, 81])"
      ]
     },
     "execution_count": 11,
     "metadata": {},
     "output_type": "execute_result"
    }
   ],
   "source": [
    "np.sort(arr)"
   ]
  },
  {
   "cell_type": "code",
   "execution_count": 16,
   "metadata": {},
   "outputs": [
    {
     "data": {
      "text/plain": [
       "array([ 9, 19, 25, 26, 31, 32, 35, 42, 79, 81])"
      ]
     },
     "execution_count": 16,
     "metadata": {},
     "output_type": "execute_result"
    }
   ],
   "source": [
    "arr.sort()  # 直接修改array\n",
    "arr"
   ]
  },
  {
   "cell_type": "markdown",
   "metadata": {},
   "source": [
    "np.sort可以对多维数组按维度进行排序"
   ]
  },
  {
   "cell_type": "code",
   "execution_count": 18,
   "metadata": {},
   "outputs": [
    {
     "data": {
      "text/plain": [
       "array([[73, 10, 49],\n",
       "       [18, 99, 79],\n",
       "       [12, 20, 52],\n",
       "       [11, 91, 45],\n",
       "       [93,  1, 84],\n",
       "       [15, 81, 55]])"
      ]
     },
     "execution_count": 18,
     "metadata": {},
     "output_type": "execute_result"
    }
   ],
   "source": [
    "M = np.random.randint(1, 100, (6,3))\n",
    "M"
   ]
  },
  {
   "cell_type": "code",
   "execution_count": 19,
   "metadata": {},
   "outputs": [
    {
     "data": {
      "text/plain": [
       "array([[11,  1, 45],\n",
       "       [12, 10, 49],\n",
       "       [15, 20, 52],\n",
       "       [18, 81, 55],\n",
       "       [73, 91, 79],\n",
       "       [93, 99, 84]])"
      ]
     },
     "execution_count": 19,
     "metadata": {},
     "output_type": "execute_result"
    }
   ],
   "source": [
    "np.sort(M, axis=0)  # 按列排序"
   ]
  },
  {
   "cell_type": "code",
   "execution_count": 20,
   "metadata": {},
   "outputs": [
    {
     "data": {
      "text/plain": [
       "array([[10, 49, 73],\n",
       "       [18, 79, 99],\n",
       "       [12, 20, 52],\n",
       "       [11, 45, 91],\n",
       "       [ 1, 84, 93],\n",
       "       [15, 55, 81]])"
      ]
     },
     "execution_count": 20,
     "metadata": {},
     "output_type": "execute_result"
    }
   ],
   "source": [
    "np.sort(M, axis=1)  # 按行排序"
   ]
  },
  {
   "cell_type": "markdown",
   "metadata": {},
   "source": [
    "查找最小的k个元素，用np.partition函数实现"
   ]
  },
  {
   "cell_type": "code",
   "execution_count": 22,
   "metadata": {},
   "outputs": [
    {
     "data": {
      "text/plain": [
       "array([92, 10, 55,  2, 35, 55, 43, 24, 99, 76])"
      ]
     },
     "execution_count": 22,
     "metadata": {},
     "output_type": "execute_result"
    }
   ],
   "source": [
    "arr2 = np.random.randint(1, 100, 10)\n",
    "arr2"
   ]
  },
  {
   "cell_type": "code",
   "execution_count": 25,
   "metadata": {},
   "outputs": [
    {
     "data": {
      "text/plain": [
       "array([10,  2, 24, 35, 43, 55, 55, 76, 99, 92])"
      ]
     },
     "execution_count": 25,
     "metadata": {},
     "output_type": "execute_result"
    }
   ],
   "source": [
    "np.partition(arr2, 3)  # 查找最小的3个元素，剩余元素按任意顺序排列"
   ]
  },
  {
   "cell_type": "code",
   "execution_count": null,
   "metadata": {},
   "outputs": [],
   "source": []
  }
 ],
 "metadata": {
  "kernelspec": {
   "display_name": "Python 3",
   "language": "python",
   "name": "python3"
  },
  "language_info": {
   "codemirror_mode": {
    "name": "ipython",
    "version": 3
   },
   "file_extension": ".py",
   "mimetype": "text/x-python",
   "name": "python",
   "nbconvert_exporter": "python",
   "pygments_lexer": "ipython3",
   "version": "3.7.3"
  }
 },
 "nbformat": 4,
 "nbformat_minor": 4
}
